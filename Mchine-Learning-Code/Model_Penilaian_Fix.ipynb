{
  "nbformat": 4,
  "nbformat_minor": 0,
  "metadata": {
    "colab": {
      "provenance": [],
      "collapsed_sections": [
        "iznWbgDgVvqq",
        "BYlXhl0gYZz6",
        "J7dUuMcRYog3",
        "lTQ07GnQETrG",
        "dM9iDy2oae_C",
        "2oAnIVG84sbu"
      ]
    },
    "kernelspec": {
      "name": "python3",
      "display_name": "Python 3"
    },
    "language_info": {
      "name": "python"
    }
  },
  "cells": [
    {
      "cell_type": "markdown",
      "source": [
        "# **1. IMPORT LIBRARY**\n",
        "\n",
        "---\n",
        "\n"
      ],
      "metadata": {
        "id": "iznWbgDgVvqq"
      }
    },
    {
      "cell_type": "code",
      "source": [
        "# --- Cell 1 ---\n",
        "!python --version"
      ],
      "metadata": {
        "id": "YrGfl3QPV4u2",
        "colab": {
          "base_uri": "https://localhost:8080/"
        },
        "outputId": "79aa0459-9882-423a-c124-ad40e9f9f20b"
      },
      "execution_count": 1,
      "outputs": [
        {
          "output_type": "stream",
          "name": "stdout",
          "text": [
            "Python 3.11.12\n"
          ]
        }
      ]
    },
    {
      "cell_type": "code",
      "source": [
        "# --- Cell 2 ---\n",
        "!pip install gensim scikit-learn pandas nltk Sastrawi tensorflow"
      ],
      "metadata": {
        "id": "oBEJZEVaV2a0",
        "colab": {
          "base_uri": "https://localhost:8080/"
        },
        "outputId": "ca301849-c388-4e2f-832a-5c736369bb36"
      },
      "execution_count": 2,
      "outputs": [
        {
          "output_type": "stream",
          "name": "stdout",
          "text": [
            "Requirement already satisfied: gensim in /usr/local/lib/python3.11/dist-packages (4.3.3)\n",
            "Requirement already satisfied: scikit-learn in /usr/local/lib/python3.11/dist-packages (1.6.1)\n",
            "Requirement already satisfied: pandas in /usr/local/lib/python3.11/dist-packages (2.2.2)\n",
            "Requirement already satisfied: nltk in /usr/local/lib/python3.11/dist-packages (3.9.1)\n",
            "Requirement already satisfied: Sastrawi in /usr/local/lib/python3.11/dist-packages (1.0.1)\n",
            "Requirement already satisfied: tensorflow in /usr/local/lib/python3.11/dist-packages (2.18.0)\n",
            "Requirement already satisfied: numpy<2.0,>=1.18.5 in /usr/local/lib/python3.11/dist-packages (from gensim) (1.26.4)\n",
            "Requirement already satisfied: scipy<1.14.0,>=1.7.0 in /usr/local/lib/python3.11/dist-packages (from gensim) (1.13.1)\n",
            "Requirement already satisfied: smart-open>=1.8.1 in /usr/local/lib/python3.11/dist-packages (from gensim) (7.1.0)\n",
            "Requirement already satisfied: joblib>=1.2.0 in /usr/local/lib/python3.11/dist-packages (from scikit-learn) (1.5.0)\n",
            "Requirement already satisfied: threadpoolctl>=3.1.0 in /usr/local/lib/python3.11/dist-packages (from scikit-learn) (3.6.0)\n",
            "Requirement already satisfied: python-dateutil>=2.8.2 in /usr/local/lib/python3.11/dist-packages (from pandas) (2.9.0.post0)\n",
            "Requirement already satisfied: pytz>=2020.1 in /usr/local/lib/python3.11/dist-packages (from pandas) (2025.2)\n",
            "Requirement already satisfied: tzdata>=2022.7 in /usr/local/lib/python3.11/dist-packages (from pandas) (2025.2)\n",
            "Requirement already satisfied: click in /usr/local/lib/python3.11/dist-packages (from nltk) (8.2.0)\n",
            "Requirement already satisfied: regex>=2021.8.3 in /usr/local/lib/python3.11/dist-packages (from nltk) (2024.11.6)\n",
            "Requirement already satisfied: tqdm in /usr/local/lib/python3.11/dist-packages (from nltk) (4.67.1)\n",
            "Requirement already satisfied: absl-py>=1.0.0 in /usr/local/lib/python3.11/dist-packages (from tensorflow) (1.4.0)\n",
            "Requirement already satisfied: astunparse>=1.6.0 in /usr/local/lib/python3.11/dist-packages (from tensorflow) (1.6.3)\n",
            "Requirement already satisfied: flatbuffers>=24.3.25 in /usr/local/lib/python3.11/dist-packages (from tensorflow) (25.2.10)\n",
            "Requirement already satisfied: gast!=0.5.0,!=0.5.1,!=0.5.2,>=0.2.1 in /usr/local/lib/python3.11/dist-packages (from tensorflow) (0.6.0)\n",
            "Requirement already satisfied: google-pasta>=0.1.1 in /usr/local/lib/python3.11/dist-packages (from tensorflow) (0.2.0)\n",
            "Requirement already satisfied: libclang>=13.0.0 in /usr/local/lib/python3.11/dist-packages (from tensorflow) (18.1.1)\n",
            "Requirement already satisfied: opt-einsum>=2.3.2 in /usr/local/lib/python3.11/dist-packages (from tensorflow) (3.4.0)\n",
            "Requirement already satisfied: packaging in /usr/local/lib/python3.11/dist-packages (from tensorflow) (24.2)\n",
            "Requirement already satisfied: protobuf!=4.21.0,!=4.21.1,!=4.21.2,!=4.21.3,!=4.21.4,!=4.21.5,<6.0.0dev,>=3.20.3 in /usr/local/lib/python3.11/dist-packages (from tensorflow) (5.29.4)\n",
            "Requirement already satisfied: requests<3,>=2.21.0 in /usr/local/lib/python3.11/dist-packages (from tensorflow) (2.32.3)\n",
            "Requirement already satisfied: setuptools in /usr/local/lib/python3.11/dist-packages (from tensorflow) (75.2.0)\n",
            "Requirement already satisfied: six>=1.12.0 in /usr/local/lib/python3.11/dist-packages (from tensorflow) (1.17.0)\n",
            "Requirement already satisfied: termcolor>=1.1.0 in /usr/local/lib/python3.11/dist-packages (from tensorflow) (3.1.0)\n",
            "Requirement already satisfied: typing-extensions>=3.6.6 in /usr/local/lib/python3.11/dist-packages (from tensorflow) (4.13.2)\n",
            "Requirement already satisfied: wrapt>=1.11.0 in /usr/local/lib/python3.11/dist-packages (from tensorflow) (1.17.2)\n",
            "Requirement already satisfied: grpcio<2.0,>=1.24.3 in /usr/local/lib/python3.11/dist-packages (from tensorflow) (1.71.0)\n",
            "Requirement already satisfied: tensorboard<2.19,>=2.18 in /usr/local/lib/python3.11/dist-packages (from tensorflow) (2.18.0)\n",
            "Requirement already satisfied: keras>=3.5.0 in /usr/local/lib/python3.11/dist-packages (from tensorflow) (3.8.0)\n",
            "Requirement already satisfied: h5py>=3.11.0 in /usr/local/lib/python3.11/dist-packages (from tensorflow) (3.13.0)\n",
            "Requirement already satisfied: ml-dtypes<0.5.0,>=0.4.0 in /usr/local/lib/python3.11/dist-packages (from tensorflow) (0.4.1)\n",
            "Requirement already satisfied: tensorflow-io-gcs-filesystem>=0.23.1 in /usr/local/lib/python3.11/dist-packages (from tensorflow) (0.37.1)\n",
            "Requirement already satisfied: wheel<1.0,>=0.23.0 in /usr/local/lib/python3.11/dist-packages (from astunparse>=1.6.0->tensorflow) (0.45.1)\n",
            "Requirement already satisfied: rich in /usr/local/lib/python3.11/dist-packages (from keras>=3.5.0->tensorflow) (13.9.4)\n",
            "Requirement already satisfied: namex in /usr/local/lib/python3.11/dist-packages (from keras>=3.5.0->tensorflow) (0.0.9)\n",
            "Requirement already satisfied: optree in /usr/local/lib/python3.11/dist-packages (from keras>=3.5.0->tensorflow) (0.15.0)\n",
            "Requirement already satisfied: charset-normalizer<4,>=2 in /usr/local/lib/python3.11/dist-packages (from requests<3,>=2.21.0->tensorflow) (3.4.2)\n",
            "Requirement already satisfied: idna<4,>=2.5 in /usr/local/lib/python3.11/dist-packages (from requests<3,>=2.21.0->tensorflow) (3.10)\n",
            "Requirement already satisfied: urllib3<3,>=1.21.1 in /usr/local/lib/python3.11/dist-packages (from requests<3,>=2.21.0->tensorflow) (2.4.0)\n",
            "Requirement already satisfied: certifi>=2017.4.17 in /usr/local/lib/python3.11/dist-packages (from requests<3,>=2.21.0->tensorflow) (2025.4.26)\n",
            "Requirement already satisfied: markdown>=2.6.8 in /usr/local/lib/python3.11/dist-packages (from tensorboard<2.19,>=2.18->tensorflow) (3.8)\n",
            "Requirement already satisfied: tensorboard-data-server<0.8.0,>=0.7.0 in /usr/local/lib/python3.11/dist-packages (from tensorboard<2.19,>=2.18->tensorflow) (0.7.2)\n",
            "Requirement already satisfied: werkzeug>=1.0.1 in /usr/local/lib/python3.11/dist-packages (from tensorboard<2.19,>=2.18->tensorflow) (3.1.3)\n",
            "Requirement already satisfied: MarkupSafe>=2.1.1 in /usr/local/lib/python3.11/dist-packages (from werkzeug>=1.0.1->tensorboard<2.19,>=2.18->tensorflow) (3.0.2)\n",
            "Requirement already satisfied: markdown-it-py>=2.2.0 in /usr/local/lib/python3.11/dist-packages (from rich->keras>=3.5.0->tensorflow) (3.0.0)\n",
            "Requirement already satisfied: pygments<3.0.0,>=2.13.0 in /usr/local/lib/python3.11/dist-packages (from rich->keras>=3.5.0->tensorflow) (2.19.1)\n",
            "Requirement already satisfied: mdurl~=0.1 in /usr/local/lib/python3.11/dist-packages (from markdown-it-py>=2.2.0->rich->keras>=3.5.0->tensorflow) (0.1.2)\n"
          ]
        }
      ]
    },
    {
      "cell_type": "code",
      "execution_count": 3,
      "metadata": {
        "id": "4KUQSqkzEWAH"
      },
      "outputs": [],
      "source": [
        "# --- Cell 3 Library imports ---\n",
        "import re\n",
        "import os\n",
        "import pickle\n",
        "import json\n",
        "import logging\n",
        "import random\n",
        "from datetime import datetime\n",
        "import warnings\n",
        "from typing import Dict, List, Any\n",
        "\n",
        "# Third-party library imports\n",
        "import numpy as np\n",
        "import pandas as pd\n",
        "import matplotlib.pyplot as plt\n",
        "from google.colab import drive\n",
        "\n",
        "# Sastrawi for Indonesian text processing\n",
        "from Sastrawi.Stemmer.StemmerFactory import StemmerFactory\n",
        "from Sastrawi.StopWordRemover.StopWordRemoverFactory import StopWordRemoverFactory\n",
        "\n",
        "# Gensim for word embedding\n",
        "import gensim\n",
        "from gensim.models import FastText, KeyedVectors\n",
        "from gensim.models.callbacks import CallbackAny2Vec\n",
        "\n",
        "# TensorFlow/Keras for LSTM model\n",
        "import tensorflow as tf\n",
        "from tensorflow.keras.models import Sequential, load_model\n",
        "from tensorflow.keras.layers import LSTM, Dense, Embedding, Dropout, Bidirectional\n",
        "from tensorflow.keras.preprocessing.text import Tokenizer\n",
        "from tensorflow.keras.preprocessing.sequence import pad_sequences\n",
        "from tensorflow.keras.callbacks import EarlyStopping, ModelCheckpoint, ReduceLROnPlateau, Callback\n",
        "from tensorflow.keras.metrics import RootMeanSquaredError, R2Score\n",
        "from tensorflow.keras.optimizers import Adam\n",
        "\n",
        "# Scikit-learn for utilities\n",
        "from sklearn.model_selection import train_test_split\n",
        "from sklearn.metrics.pairwise import cosine_similarity\n",
        "from sklearn.metrics import r2_score, mean_absolute_error, mean_squared_error\n",
        "\n",
        "# Collections for defaultdict\n",
        "from collections import defaultdict\n",
        "import math"
      ]
    },
    {
      "cell_type": "code",
      "source": [
        "# --- Cell 4 ---\n",
        "print(\"NumPy version:\", np.__version__)\n",
        "print(\"TensorFlow version:\", tf.__version__)\n",
        "print(\"Pandas version:\", pd.__version__)\n",
        "print(\"Gensim version:\", gensim.__version__)"
      ],
      "metadata": {
        "id": "O_ghvhQ9ItTo",
        "colab": {
          "base_uri": "https://localhost:8080/"
        },
        "outputId": "73bcc2ef-a985-40b7-8117-5f2cc402cb72"
      },
      "execution_count": 4,
      "outputs": [
        {
          "output_type": "stream",
          "name": "stdout",
          "text": [
            "NumPy version: 1.26.4\n",
            "TensorFlow version: 2.18.0\n",
            "Pandas version: 2.2.2\n",
            "Gensim version: 4.3.3\n"
          ]
        }
      ]
    },
    {
      "cell_type": "code",
      "source": [
        "# --- Cell 5 ---\n",
        "drive.mount('/content/drive')\n",
        "\n",
        "# --- AWAL PENAMBAHAN KODE UNTUK STRUKTUR FOLDER ---\n",
        "BASE_PROJECT_DIR = '/content/drive/MyDrive/Model/' # Sesuai struktur yang Anda berikan\n",
        "\n",
        "# Definisikan path-path utama lainnya berdasarkan BASE_PROJECT_DIR\n",
        "DATASET_DIR = os.path.join(BASE_PROJECT_DIR, '01_Dataset/')\n",
        "INPUT_JAWABAN_TXT_DIR = os.path.join(DATASET_DIR, 'Input_Jawaban_TXT/') # Untuk nanti jika ada input .txt\n",
        "PREPROCESSING_DIR = os.path.join(BASE_PROJECT_DIR, '02_Preprocessing_Artifacts/')\n",
        "EMBEDDING_DIR = os.path.join(BASE_PROJECT_DIR, '03_Word_Embeddings/')\n",
        "LSTM_MODEL_DIR = os.path.join(BASE_PROJECT_DIR, '04_LSTM_Model/')\n",
        "LOGS_DIR = os.path.join(BASE_PROJECT_DIR, '05_Training_Logs/')\n",
        "\n",
        "# Path spesifik untuk subfolder embedding\n",
        "PRETRAINED_EMBEDDING_DIR = os.path.join(EMBEDDING_DIR, 'Pretrained/')\n",
        "FINE_TUNED_EMBEDDING_DIR = os.path.join(EMBEDDING_DIR, 'Fine_Tuned/')\n",
        "EMBEDDING_BEST_KV_SUBDIR = os.path.join(FINE_TUNED_EMBEDDING_DIR, 'embedding_best_kv/')\n",
        "EMBEDDING_FINAL_MODEL_SUBDIR = os.path.join(FINE_TUNED_EMBEDDING_DIR, 'embedding_final_model/')\n",
        "\n",
        "# Membuat direktori-direktori ini jika belum ada\n",
        "directories_to_create = [\n",
        "    BASE_PROJECT_DIR, DATASET_DIR, INPUT_JAWABAN_TXT_DIR, PREPROCESSING_DIR,\n",
        "    PRETRAINED_EMBEDDING_DIR, FINE_TUNED_EMBEDDING_DIR, EMBEDDING_BEST_KV_SUBDIR,\n",
        "    EMBEDDING_FINAL_MODEL_SUBDIR, LSTM_MODEL_DIR, LOGS_DIR\n",
        "]\n",
        "\n",
        "for path in directories_to_create:\n",
        "    os.makedirs(path, exist_ok=True)\n",
        "    print(f\"Memastikan direktori ada atau telah dibuat: {path}\")\n",
        "\n",
        "print(f\"\\nBASE_PROJECT_DIR telah diatur ke: {BASE_PROJECT_DIR}\")\n",
        "# --- AKHIR PENAMBAHAN KODE UNTUK STRUKTUR FOLDER ---\n",
        "\n",
        "# Perintah !ls ini bisa tetap ada untuk mengecek isi MyDrive secara umum jika Anda mau,\n",
        "# atau Anda bisa menggantinya untuk mengecek isi BASE_PROJECT_DIR\n",
        "print(\"\\nIsi dari MyDrive Anda:\")\n",
        "!ls \"/content/drive/MyDrive/\"\n",
        "\n",
        "print(f\"\\nIsi dari BASE_PROJECT_DIR ({BASE_PROJECT_DIR}):\")\n",
        "!ls \"{BASE_PROJECT_DIR}\""
      ],
      "metadata": {
        "id": "E7ILSs8SVuGO",
        "colab": {
          "base_uri": "https://localhost:8080/"
        },
        "outputId": "bc0e655b-90a1-4cb0-c74e-09d139e584f7"
      },
      "execution_count": 5,
      "outputs": [
        {
          "output_type": "stream",
          "name": "stdout",
          "text": [
            "Mounted at /content/drive\n",
            "Memastikan direktori ada atau telah dibuat: /content/drive/MyDrive/Model/\n",
            "Memastikan direktori ada atau telah dibuat: /content/drive/MyDrive/Model/01_Dataset/\n",
            "Memastikan direktori ada atau telah dibuat: /content/drive/MyDrive/Model/01_Dataset/Input_Jawaban_TXT/\n",
            "Memastikan direktori ada atau telah dibuat: /content/drive/MyDrive/Model/02_Preprocessing_Artifacts/\n",
            "Memastikan direktori ada atau telah dibuat: /content/drive/MyDrive/Model/03_Word_Embeddings/Pretrained/\n",
            "Memastikan direktori ada atau telah dibuat: /content/drive/MyDrive/Model/03_Word_Embeddings/Fine_Tuned/\n",
            "Memastikan direktori ada atau telah dibuat: /content/drive/MyDrive/Model/03_Word_Embeddings/Fine_Tuned/embedding_best_kv/\n",
            "Memastikan direktori ada atau telah dibuat: /content/drive/MyDrive/Model/03_Word_Embeddings/Fine_Tuned/embedding_final_model/\n",
            "Memastikan direktori ada atau telah dibuat: /content/drive/MyDrive/Model/04_LSTM_Model/\n",
            "Memastikan direktori ada atau telah dibuat: /content/drive/MyDrive/Model/05_Training_Logs/\n",
            "\n",
            "BASE_PROJECT_DIR telah diatur ke: /content/drive/MyDrive/Model/\n",
            "\n",
            "Isi dari MyDrive Anda:\n",
            "'Colab Notebooks'   Data   Foto   Jurnal   Model\n",
            "\n",
            "Isi dari BASE_PROJECT_DIR (/content/drive/MyDrive/Model/):\n",
            "01_Dataset\t\t    03_Word_Embeddings\t05_Training_Logs\n",
            "02_Preprocessing_Artifacts  04_LSTM_Model\n"
          ]
        }
      ]
    },
    {
      "cell_type": "markdown",
      "source": [
        "# **2. EMBEDDING TEKS**\n",
        "\n",
        "---"
      ],
      "metadata": {
        "id": "_UpsziDLZ7uM"
      }
    },
    {
      "cell_type": "markdown",
      "source": [
        "## **2.1 Embedding Fine-tuning**\n",
        "\n",
        "---\n",
        "\n"
      ],
      "metadata": {
        "id": "fsbT2q7HEVUe"
      }
    },
    {
      "cell_type": "markdown",
      "source": [
        "### **2.1.1 Preprocess Text**\n",
        "\n",
        "---\n",
        "\n"
      ],
      "metadata": {
        "id": "BYlXhl0gYZz6"
      }
    },
    {
      "cell_type": "code",
      "source": [
        "# Cell 1 Inisialisasi Stopword Remover Factory dan dapatkan daftar stopwords\n",
        "stopword_factory = StopWordRemoverFactory()\n",
        "stopwords_list = stopword_factory.get_stop_words()\n",
        "\n",
        "# Inisialisasi Stemmer\n",
        "stemmer_factory = StemmerFactory()\n",
        "stemmer = stemmer_factory.create_stemmer()\n",
        "\n",
        "print(\"Stemmer dan Stopword Remover Sastrawi siap digunakan.\")"
      ],
      "metadata": {
        "id": "zH-3jbPJs-GD",
        "colab": {
          "base_uri": "https://localhost:8080/"
        },
        "outputId": "fee76a67-ac81-4189-cee0-795cce38d402"
      },
      "execution_count": 6,
      "outputs": [
        {
          "output_type": "stream",
          "name": "stdout",
          "text": [
            "Stemmer dan Stopword Remover Sastrawi siap digunakan.\n"
          ]
        }
      ]
    },
    {
      "cell_type": "code",
      "source": [
        "# Cell 2 Fungsi preprocessing teks\n",
        "def preprocess_text(text, debug=False):\n",
        "    \"\"\"Membersihkan dan memproses teks: lowercase, hapus non-alfanumerik, tokenisasi, hapus stopwords, stemming.\"\"\"\n",
        "    if not isinstance(text, str):\n",
        "        return []\n",
        "    text = text.lower()\n",
        "    text = re.sub(r'[^\\w\\s]', '', text) # Hapus karakter non-alfanumerik kecuali spasi\n",
        "    words = text.split()\n",
        "\n",
        "    if debug:\n",
        "        print(\"\\nDebug Preprocessing:\")\n",
        "        print(f\"Original (setelah split): {words}\")\n",
        "        words_after_stopwords = [word for word in words if word not in stopwords_list]\n",
        "        print(f\"Setelah stopword removal (preview): {words_after_stopwords}\")\n",
        "\n",
        "    words = [stemmer.stem(word) for word in words if word not in stopwords_list]\n",
        "    if debug:\n",
        "        print(f\"Setelah stemming: {words}\")\n",
        "    return words\n",
        "\n",
        "# Fungsi untuk mengubah teks menjadi vektor rata-rata menggunakan model embedding\n",
        "def text_to_vector(text, embedding_model, default_vector_value=None): # embedding_model bisa KeyedVectors atau model FastText penuh\n",
        "    \"\"\"Mengonversi teks menjadi vektor rata-rata dari word embedding yang ada di model.\"\"\"\n",
        "    words = preprocess_text(text) # Preprocess teks input\n",
        "    vectors = []\n",
        "    if words:\n",
        "        for word in words:\n",
        "            # Cek jika model adalah KeyedVectors (misalnya, hasil .load_word2vec_format atau .kv)\n",
        "            if hasattr(embedding_model, 'key_to_index') and word in embedding_model.key_to_index:\n",
        "                vectors.append(embedding_model[word])\n",
        "            # Cek jika model adalah model FastText penuh (memiliki atribut .wv)\n",
        "            elif hasattr(embedding_model, 'wv') and hasattr(embedding_model.wv, 'key_to_index') and word in embedding_model.wv.key_to_index:\n",
        "                vectors.append(embedding_model.wv[word])\n",
        "            # Jika kata tidak ada di vocab, bisa diabaikan atau diganti dengan vektor nol/rata-rata (default_vector_value)\n",
        "\n",
        "    if vectors:\n",
        "        return np.mean(vectors, axis=0) # Kembalikan rata-rata vektor kata\n",
        "    else:\n",
        "        # Jika default_vector_value (seperti mean_embedding_vector_pretrained) diberikan, gunakan itu\n",
        "        if default_vector_value is not None and hasattr(default_vector_value, 'copy'):\n",
        "            return default_vector_value.copy()\n",
        "        # Jika tidak ada default dan model memiliki vector_size, kembalikan vektor nol\n",
        "        elif embedding_model:\n",
        "            if hasattr(embedding_model, 'vector_size'):\n",
        "                return np.zeros(embedding_model.vector_size)\n",
        "            elif hasattr(embedding_model, 'wv') and hasattr(embedding_model.wv, 'vector_size'):\n",
        "                return np.zeros(embedding_model.wv.vector_size)\n",
        "        # Fallback jika tidak ada informasi dimensi\n",
        "        print(f\"Peringatan: Tidak ada vektor yang ditemukan untuk teks '{text[:50]}...' dan tidak ada default_vector/vector_size. Mengembalikan array kosong.\")\n",
        "        return np.array([])\n",
        "\n",
        "\n",
        "# Fungsi untuk menghitung cosine similarity\n",
        "def calculate_cosine_similarity(vec1, vec2):\n",
        "    \"\"\"Menghitung cosine similarity antara dua vektor numpy.\"\"\"\n",
        "    if not isinstance(vec1, np.ndarray) or not isinstance(vec2, np.ndarray) or vec1.size == 0 or vec2.size == 0:\n",
        "        # Jika salah satu vektor bukan array numpy atau kosong, kembalikan similarity 0\n",
        "        return 0.0\n",
        "\n",
        "    vec1 = vec1.flatten()\n",
        "    vec2 = vec2.flatten()\n",
        "\n",
        "    dot_product = np.dot(vec1, vec2)\n",
        "    norm_vec1 = np.linalg.norm(vec1)\n",
        "    norm_vec2 = np.linalg.norm(vec2)\n",
        "\n",
        "    if norm_vec1 == 0 or norm_vec2 == 0:\n",
        "        # Hindari pembagian dengan nol jika salah satu vektor adalah vektor nol\n",
        "        return 0.0\n",
        "\n",
        "    similarity = dot_product / (norm_vec1 * norm_vec2)\n",
        "    return similarity\n",
        "\n",
        "print(\"Fungsi preprocess_text, text_to_vector, dan calculate_cosine_similarity telah didefinisikan.\")"
      ],
      "metadata": {
        "id": "PyRR1UzIZ-Kv",
        "colab": {
          "base_uri": "https://localhost:8080/"
        },
        "outputId": "5c68fb62-33a0-4466-b8eb-61d15bc28546"
      },
      "execution_count": 7,
      "outputs": [
        {
          "output_type": "stream",
          "name": "stdout",
          "text": [
            "Fungsi preprocess_text, text_to_vector, dan calculate_cosine_similarity telah didefinisikan.\n"
          ]
        }
      ]
    },
    {
      "cell_type": "markdown",
      "source": [
        "### **2.1.2 Fine Tuning**\n",
        "\n",
        "---\n",
        "\n"
      ],
      "metadata": {
        "id": "J7dUuMcRYog3"
      }
    },
    {
      "cell_type": "code",
      "source": [
        "# --- Cell 3 Memuat Dataset untuk Fine-Tuning Embedding ---\n",
        "dataset_path_embedding = os.path.join(DATASET_DIR, 'Semua_Soal.json')\n",
        "try:\n",
        "    dataset_embedding_df = pd.read_json(dataset_path_embedding) # Ganti nama variabel\n",
        "    print(f\"Dataset untuk embedding berhasil dimuat dari '{dataset_path_embedding}' ({len(dataset_embedding_df)} baris):\")\n",
        "    print(dataset_embedding_df.head(2))\n",
        "except FileNotFoundError:\n",
        "    raise FileNotFoundError(f\"File dataset tidak ditemukan di: {dataset_path_embedding}\")\n",
        "\n",
        "# --- Mempersiapkan Korpus Teks yang Lebih Kaya untuk Fine-Tuning Embedding ---\n",
        "print(\"\\nMempersiapkan korpus teks yang lebih kaya...\")\n",
        "list_of_all_texts = []\n",
        "for index, row in dataset_embedding_df.iterrows():\n",
        "    list_of_all_texts.append(str(row['pertanyaan']))\n",
        "    list_of_all_texts.append(str(row['jawaban_siswa']))\n",
        "    if isinstance(row['kata_kunci'], list):\n",
        "        list_of_all_texts.extend([str(kw) for kw in row['kata_kunci']])\n",
        "    elif isinstance(row['kata_kunci'], str): # Jika kata kunci adalah satu string\n",
        "        list_of_all_texts.append(row['kata_kunci'])\n",
        "\n",
        "# Hapus string kosong atau NaN (jika ada) dan pastikan semua adalah string\n",
        "list_of_all_texts = [text for text in list_of_all_texts if isinstance(text, str) and text.strip()]\n",
        "\n",
        "# Preprocess semua teks dalam korpus ini\n",
        "# Hasilnya akan menjadi list of list of tokens\n",
        "corpus_for_embedding_fine_tuning = [preprocess_text(text) for text in list_of_all_texts]\n",
        "corpus_for_embedding_fine_tuning = [s for s in corpus_for_embedding_fine_tuning if s] # Hapus list token yang kosong\n",
        "\n",
        "if not corpus_for_embedding_fine_tuning:\n",
        "    raise ValueError(\"Korpus 'corpus_for_embedding_fine_tuning' kosong setelah preprocessing. Cek dataset Anda.\")\n",
        "\n",
        "print(f\"Total dokumen/teks dalam korpus yang sudah diproses untuk fine-tuning: {len(corpus_for_embedding_fine_tuning)}\")\n",
        "if corpus_for_embedding_fine_tuning:\n",
        "    print(f\"Contoh item pertama dalam korpus (sudah di-preprocess): {corpus_for_embedding_fine_tuning[0]}\")\n",
        "    # Untuk digunakan di Cell 10 (Fine-tuning loop)\n",
        "    # Variabel 'sentences' di Cell 10 nanti akan merujuk ke 'corpus_for_embedding_fine_tuning' ini\n",
        "    sentences = corpus_for_embedding_fine_tuning"
      ],
      "metadata": {
        "id": "C_4hZ2UwaRPy",
        "colab": {
          "base_uri": "https://localhost:8080/"
        },
        "outputId": "25b9f6b1-449d-4908-ece7-f513773d5a87"
      },
      "execution_count": null,
      "outputs": [
        {
          "output_type": "stream",
          "name": "stdout",
          "text": [
            "Dataset untuk embedding berhasil dimuat dari '/content/drive/MyDrive/Model/01_Dataset/Semua_Soal.json' (3152 baris):\n",
            "    id                                         pertanyaan  \\\n",
            "0  101           Apa itu sistem koordinat geografis Bumi?   \n",
            "1  102  Apa perbedaan antara garis bujur dan garis lin...   \n",
            "\n",
            "                                          kata_kunci  \\\n",
            "0  [sistem koordinat, garis lintang, garis bujur,...   \n",
            "1  [garis bujur, garis lintang, posisi geografis,...   \n",
            "\n",
            "                                       jawaban_siswa  skor  \n",
            "0  Sistem koordinat geografis itu cara untuk mene...    92  \n",
            "1  Garis bujur itu garis vertikal yang menghubung...    94  \n",
            "\n",
            "Mempersiapkan korpus teks yang lebih kaya...\n",
            "Total dokumen/teks dalam korpus yang sudah diproses untuk fine-tuning: 21354\n",
            "Contoh item pertama dalam korpus (sudah di-preprocess): ['apa', 'sistem', 'koordinat', 'geografis', 'bumi']\n"
          ]
        }
      ]
    },
    {
      "cell_type": "code",
      "source": [
        "# --- Cell 4 Contoh Preprocessing Teks ---\n",
        "if corpus_for_embedding_fine_tuning: # Menggunakan korpus yang baru\n",
        "    # Ambil teks asli sebelum diproses untuk contoh\n",
        "    original_text_for_sample = list_of_all_texts[0] if list_of_all_texts else \"Ini adalah contoh teks.\"\n",
        "    print(f\"Contoh teks asli sebelum preprocessing: '{original_text_for_sample}'\")\n",
        "    processed_sample_display = preprocess_text(original_text_for_sample, debug=True)\n",
        "    print(f\"Contoh teks setelah preprocessing (untuk display): {processed_sample_display}\")\n",
        "else:\n",
        "    print(\"Korpus kosong, tidak bisa menampilkan contoh preprocessing.\")\n",
        "\n",
        "# --- Fungsi untuk Evaluasi Embedding Sederhana ---\n",
        "def evaluate_embedding(embedding_model_kv, sample_text_eval):\n",
        "    # ... (kode fungsi evaluate_embedding yang sudah direvisi sebelumnya) ...\n",
        "    words_eval = preprocess_text(sample_text_eval)\n",
        "    print(f\"\\nEvaluasi Embedding untuk teks: '{sample_text_eval}'\")\n",
        "    # ... (sisa fungsi) ...\n",
        "    if not (hasattr(embedding_model_kv, 'key_to_index') and hasattr(embedding_model_kv, 'similarity')):\n",
        "        print(\"Model embedding yang diberikan bukan objek KeyedVectors yang dapat dievaluasi.\")\n",
        "        return\n",
        "    in_vocab = [word for word in words_eval if word in embedding_model_kv.key_to_index]\n",
        "    oov = [word for word in words_eval if word not in embedding_model_kv.key_to_index]\n",
        "    print(f\"Kata dalam vocabulary model: {in_vocab}\")\n",
        "    print(f\"Kata tidak dikenal (OOV): {oov}\")\n",
        "    if len(in_vocab) >= 2:\n",
        "        # ... (logika similarity) ...\n",
        "        try:\n",
        "            word1, word2 = in_vocab[0], in_vocab[1]\n",
        "            similarity = embedding_model_kv.similarity(word1, word2)\n",
        "            print(f\"Similarity antara '{word1}' dan '{word2}': {similarity:.4f}\")\n",
        "        except Exception as e:\n",
        "             print(f\"Error similarity: {e}\")\n",
        "\n",
        "print(\"\\nFungsi evaluate_embedding telah (kembali) didefinisikan.\")"
      ],
      "metadata": {
        "id": "cLkjKA3baUWz",
        "colab": {
          "base_uri": "https://localhost:8080/"
        },
        "outputId": "967cfff6-060e-4fbe-cbf3-16ab24b318fb"
      },
      "execution_count": null,
      "outputs": [
        {
          "output_type": "stream",
          "name": "stdout",
          "text": [
            "Contoh teks asli sebelum preprocessing: 'Apa itu sistem koordinat geografis Bumi?'\n",
            "\n",
            "Debug Preprocessing:\n",
            "Original (setelah split): ['apa', 'itu', 'sistem', 'koordinat', 'geografis', 'bumi']\n",
            "Setelah stopword removal (preview): ['apa', 'sistem', 'koordinat', 'geografis', 'bumi']\n",
            "Setelah stemming: ['apa', 'sistem', 'koordinat', 'geografis', 'bumi']\n",
            "Contoh teks setelah preprocessing (untuk display): ['apa', 'sistem', 'koordinat', 'geografis', 'bumi']\n",
            "\n",
            "Fungsi evaluate_embedding telah (kembali) didefinisikan.\n"
          ]
        }
      ]
    },
    {
      "cell_type": "code",
      "source": [
        "# --- Cell 5 Memuat Model Embedding Pre-trained ---\n",
        "pretrained_embedding_path = os.path.join(PRETRAINED_EMBEDDING_DIR, 'cc.id.300.vec')\n",
        "if not os.path.exists(pretrained_embedding_path):\n",
        "    raise FileNotFoundError(f\"File embedding pre-trained tidak ditemukan di: {pretrained_embedding_path}\")\n",
        "\n",
        "print(f\"\\nMemuat model embedding pre-trained dari {pretrained_embedding_path}...\")\n",
        "try:\n",
        "    word_vectors_pretrained = KeyedVectors.load_word2vec_format(pretrained_embedding_path, binary=False)\n",
        "    # ... (sisa kode pemuatan dan evaluasi awal) ...\n",
        "    print(f\"Model embedding pre-trained berhasil dimuat.\")\n",
        "    print(f\"Ukuran Vocabulary Pre-trained: {len(word_vectors_pretrained.key_to_index)} kata\")\n",
        "    if word_vectors_pretrained.vectors.size > 0:\n",
        "        mean_embedding_vector_pretrained = np.mean(word_vectors_pretrained.vectors, axis=0)\n",
        "    else:\n",
        "        mean_embedding_vector_pretrained = np.zeros(word_vectors_pretrained.vector_size)\n",
        "    print(\"mean_embedding_vector_pretrained telah dihitung.\")\n",
        "    evaluate_embedding(word_vectors_pretrained, \"Fotosintesis adalah proses pembuatan makanan oleh tumbuhan hijau dengan bantuan cahaya matahari.\")\n",
        "except Exception as e:\n",
        "    print(f\"Gagal memuat model embedding pre-trained: {e}\")\n",
        "    word_vectors_pretrained = None\n",
        "    mean_embedding_vector_pretrained = None"
      ],
      "metadata": {
        "id": "iy0iIOyNGD4n",
        "colab": {
          "base_uri": "https://localhost:8080/"
        },
        "outputId": "924f05de-19bb-489a-801b-9512686f09b9"
      },
      "execution_count": null,
      "outputs": [
        {
          "output_type": "stream",
          "name": "stdout",
          "text": [
            "\n",
            "Memuat model embedding pre-trained dari /content/drive/MyDrive/Model/03_Word_Embeddings/Pretrained/cc.id.300.vec...\n",
            "Model embedding pre-trained berhasil dimuat.\n",
            "Ukuran Vocabulary Pre-trained: 2000000 kata\n",
            "mean_embedding_vector_pretrained telah dihitung.\n",
            "\n",
            "Evaluasi Embedding untuk teks: 'Fotosintesis adalah proses pembuatan makanan oleh tumbuhan hijau dengan bantuan cahaya matahari.'\n",
            "Kata dalam vocabulary model: ['fotosintesis', 'proses', 'buat', 'makan', 'tumbuh', 'hijau', 'bantu', 'cahaya', 'matahari']\n",
            "Kata tidak dikenal (OOV): []\n",
            "Similarity antara 'fotosintesis' dan 'proses': 0.4005\n"
          ]
        }
      ]
    },
    {
      "cell_type": "code",
      "source": [
        "# --- Cell 6 Contoh Evaluasi Kemiripan Teks dengan Embedding Pre-trained ---\n",
        "if word_vectors_pretrained is not None and mean_embedding_vector_pretrained is not None:\n",
        "    print(\"\\nContoh evaluasi kemiripan teks menggunakan embedding pre-trained:\")\n",
        "    sample_text_eval1 = \"raja adalah pemimpin kerajaan\"\n",
        "    sample_text_eval2 = \"ratu adalah pemimpin wanita di istana\"\n",
        "\n",
        "    # Menggunakan word_vectors_pretrained dan mean_embedding_vector_pretrained\n",
        "    vec_eval1 = text_to_vector(sample_text_eval1, word_vectors_pretrained, mean_embedding_vector_pretrained)\n",
        "    vec_eval2 = text_to_vector(sample_text_eval2, word_vectors_pretrained, mean_embedding_vector_pretrained)\n",
        "\n",
        "    similarity_score_eval = calculate_cosine_similarity(vec_eval1, vec_eval2)\n",
        "    print(f\"Similarity antara '{sample_text_eval1}' dan '{sample_text_eval2}': {similarity_score_eval:.4f}\")\n",
        "else:\n",
        "    print(\"\\nTidak dapat melakukan contoh evaluasi embedding karena model pre-trained tidak berhasil dimuat.\")"
      ],
      "metadata": {
        "id": "jJ8M1QgUczxX",
        "colab": {
          "base_uri": "https://localhost:8080/"
        },
        "outputId": "26fed51e-0ea1-4c6a-f1b6-3fca304e9ddc"
      },
      "execution_count": null,
      "outputs": [
        {
          "output_type": "stream",
          "name": "stdout",
          "text": [
            "\n",
            "Contoh evaluasi kemiripan teks menggunakan embedding pre-trained:\n",
            "Similarity antara 'raja adalah pemimpin kerajaan' dan 'ratu adalah pemimpin wanita di istana': 0.8043\n"
          ]
        }
      ]
    },
    {
      "cell_type": "markdown",
      "source": [
        "## **2.2 Embedding Evaluation and Saving**\n",
        "\n",
        "---\n",
        "\n"
      ],
      "metadata": {
        "id": "lTQ07GnQETrG"
      }
    },
    {
      "cell_type": "code",
      "source": [
        "# --- Cell 7 Konfigurasi Parameter untuk Training/Fine-tuning Embedding ---\n",
        "EPOCHS_EMBEDDING = 30       # Jumlah epoch untuk fine-tuning embedding\n",
        "PATIENCE_EMBEDDING = 3      # Patience untuk early stopping manual\n",
        "MIN_DELTA_EMBEDDING = 0.001 # Delta minimum untuk dianggap sebagai peningkatan similarity\n",
        "\n",
        "# Path untuk menyimpan hasil fine-tuning embedding\n",
        "# Nama file log untuk training embedding (sesuai struktur Anda: 05_Training_Logs/training_log.json)\n",
        "EMBEDDING_TRAINING_LOG_FILE = os.path.join(LOGS_DIR, 'training_log.json')\n",
        "# Nama file metadata untuk training embedding\n",
        "EMBEDDING_TRAINING_METADATA_FILE = os.path.join(FINE_TUNED_EMBEDDING_DIR, 'embedding_training_metadata.json')\n",
        "\n",
        "# Direktori untuk menyimpan model embedding hasil fine-tuning (sudah didefinisikan di Grup 1)\n",
        "# EMBEDDING_BEST_KV_SUBDIR\n",
        "# EMBEDDING_FINAL_MODEL_SUBDIR\n",
        "\n",
        "print(f\"Path log training embedding: {EMBEDDING_TRAINING_LOG_FILE}\")\n",
        "print(f\"Path metadata training embedding: {EMBEDDING_TRAINING_METADATA_FILE}\")\n",
        "\n",
        "# Fungsi untuk menyimpan metadata (jika belum ada di scope global)\n",
        "def save_metadata(file_path, metadata_dict):\n",
        "    \"\"\"Menyimpan metadata ke dalam file JSON.\"\"\"\n",
        "    try:\n",
        "        with open(file_path, 'w') as f:\n",
        "            json.dump(metadata_dict, f, indent=4)\n",
        "        print(f\"Metadata berhasil disimpan di: {file_path}\")\n",
        "    except IOError as e:\n",
        "        print(f\"Gagal menyimpan metadata (IOError): {str(e)}\")\n",
        "    except Exception as e:\n",
        "        print(f\"Gagal menyimpan metadata (Unknown Error): {str(e)}\")"
      ],
      "metadata": {
        "id": "-AJlTNhYrV3B",
        "colab": {
          "base_uri": "https://localhost:8080/"
        },
        "outputId": "3c1e7727-2f52-4332-fe2b-09b9ca9e9a31"
      },
      "execution_count": null,
      "outputs": [
        {
          "output_type": "stream",
          "name": "stdout",
          "text": [
            "Path log training embedding: /content/drive/MyDrive/Model/05_Training_Logs/training_log.json\n",
            "Path metadata training embedding: /content/drive/MyDrive/Model/03_Word_Embeddings/Fine_Tuned/embedding_training_metadata.json\n"
          ]
        }
      ]
    },
    {
      "cell_type": "code",
      "source": [
        "# --- Cell 8 Kelas TrainingLogger untuk Fine-Tuning Embedding (Gensim Callback) ---\n",
        "class EmbeddingTrainingLogger(CallbackAny2Vec): # Nama kelas lebih spesifik\n",
        "    \"\"\"Callback untuk logging selama training Word2Vec/FastText dan menyimpan model terbaik.\"\"\"\n",
        "    # Menggunakan nama parameter tanpa akhiran _param\n",
        "    def __init__(self, best_kv_dir, final_model_dir, log_file_path, vector_size):\n",
        "        self.epoch = 0\n",
        "        self.current_total_epochs = 0\n",
        "        self.logs = {\n",
        "            \"start_time\": datetime.now().isoformat(),\n",
        "            \"early_stopping_triggered_manual\": False,\n",
        "            \"epochs_detail\": []\n",
        "        }\n",
        "        self.best_similarity_metric = -1.0\n",
        "        self.best_model_state_for_kv = None\n",
        "\n",
        "        self.best_kv_dir = best_kv_dir\n",
        "        self.final_model_dir = final_model_dir\n",
        "        self.log_file_path = log_file_path\n",
        "        self.vector_size = vector_size\n",
        "\n",
        "        os.makedirs(self.best_kv_dir, exist_ok=True)\n",
        "        os.makedirs(self.final_model_dir, exist_ok=True)\n",
        "        print(f\"EmbeddingTrainingLogger diinisialisasi. Model terbaik akan disimpan di '{self.best_kv_dir}' dan model final di '{self.final_model_dir}'.\")\n",
        "\n",
        "    def log_manual_epoch_end(self, model, current_manual_epoch, early_stopping_status=False):\n",
        "        self.current_total_epochs = current_manual_epoch\n",
        "        current_similarity = 0.0\n",
        "\n",
        "        kata1_eval = stemmer.stem(\"fotosintesis\")\n",
        "        kata2_eval = stemmer.stem(\"tumbuhan\")\n",
        "\n",
        "        if kata1_eval in model.wv.key_to_index and kata2_eval in model.wv.key_to_index:\n",
        "            current_similarity = model.wv.similarity(kata1_eval, kata2_eval)\n",
        "        else:\n",
        "            print(f\"Peringatan Logger: '{kata1_eval}' atau '{kata2_eval}' tidak ada di vocab model. Similarity akan 0.\")\n",
        "\n",
        "        epoch_log_data = {\n",
        "            \"epoch_manual\": self.current_total_epochs,\n",
        "            \"timestamp\": datetime.now().isoformat(),\n",
        "            \"vocab_size\": len(model.wv.key_to_index),\n",
        "            f\"similarity_sample_{kata1_eval}_{kata2_eval}\": float(current_similarity),\n",
        "            \"early_stopping_triggered_this_epoch\": early_stopping_status\n",
        "        }\n",
        "        self.logs[\"epochs_detail\"].append(epoch_log_data)\n",
        "        self.logs[\"early_stopping_triggered_manual\"] = early_stopping_status\n",
        "        if float(current_similarity) > self.best_similarity_metric:\n",
        "            self.best_similarity_metric = float(current_similarity)\n",
        "            self.best_model_state_for_kv = {'vocab': model.wv.key_to_index.copy(), 'vectors': model.wv.vectors.copy()}\n",
        "            print(f\"   State KeyedVectors terbaik diupdate pada epoch manual {self.current_total_epochs} dengan similarity ({kata1_eval}-{kata2_eval}): {current_similarity:.4f}\")\n",
        "        try:\n",
        "            with open(self.log_file_path, 'w') as f: json.dump(self.logs, f, indent=2)\n",
        "        except Exception as e: print(f\"   Gagal menyimpan log embedding: {str(e)}\")\n",
        "        print(f\"Epoch Embedding Manual {self.current_total_epochs} | Similarity ({kata1_eval}-{kata2_eval}): {current_similarity:.4f}\")\n",
        "        if early_stopping_status: print(f\"   Early stopping manual terpicu pada epoch {self.current_total_epochs}.\")\n",
        "\n",
        "    def on_train_end(self, model):\n",
        "        self.logs[\"end_time\"] = datetime.now().isoformat()\n",
        "        final_model_path = os.path.join(self.final_model_dir, 'glove_final_model.model')\n",
        "        try:\n",
        "            model.save(final_model_path)\n",
        "            print(f\"Model FastText final (setelah semua epoch) disimpan di: {final_model_path}\")\n",
        "        except Exception as e: print(f\"Gagal menyimpan model FastText final: {e}\")\n",
        "        if self.best_model_state_for_kv is not None:\n",
        "            best_kv_path = os.path.join(self.best_kv_dir, 'glove_best_similarity_keyedvectors.kv')\n",
        "            try:\n",
        "                temp_kv = KeyedVectors(vector_size=self.vector_size)\n",
        "                temp_kv.key_to_index = self.best_model_state_for_kv['vocab']\n",
        "                temp_kv.index_to_key = [k for k, v in sorted(self.best_model_state_for_kv['vocab'].items(), key=lambda item: item[1])]\n",
        "                temp_kv.vectors = self.best_model_state_for_kv['vectors']\n",
        "                temp_kv.save(best_kv_path)\n",
        "                print(f\"KeyedVectors terbaik (berdasarkan similarity) disimpan di: {best_kv_path}\")\n",
        "            except Exception as e: print(f\"Error saat menyimpan KeyedVectors terbaik: {e}\")\n",
        "        else: print(\"Tidak ada state KeyedVectors terbaik yang disimpan (similarity tidak pernah meningkat).\")\n",
        "        try:\n",
        "            with open(self.log_file_path, 'w') as f: json.dump(self.logs, f, indent=2)\n",
        "            print(f\"Log training embedding final disimpan di {self.log_file_path}\")\n",
        "        except Exception as e: print(f\"Gagal menyimpan log embedding final: {str(e)}\")\n",
        "\n",
        "print(\"Kelas EmbeddingTrainingLogger (dengan parameter __init__ tanpa _param) telah didefinisikan.\")"
      ],
      "metadata": {
        "id": "CW1o_NeitIVM",
        "colab": {
          "base_uri": "https://localhost:8080/"
        },
        "outputId": "2f7779f2-8507-40a0-9c80-aa9bffa9286c"
      },
      "execution_count": null,
      "outputs": [
        {
          "output_type": "stream",
          "name": "stdout",
          "text": [
            "Kelas EmbeddingTrainingLogger (dengan parameter __init__ tanpa _param) telah didefinisikan.\n"
          ]
        }
      ]
    },
    {
      "cell_type": "code",
      "source": [
        "# --- Cell 9 Inisialisasi Logger untuk Fine-Tuning Embedding ---\n",
        "\n",
        "embedding_model_vector_size = 300 # Default jika tidak dimuat\n",
        "if 'word_vectors_pretrained' in locals() and word_vectors_pretrained is not None:\n",
        "    embedding_model_vector_size = word_vectors_pretrained.vector_size\n",
        "elif 'model_ft' in locals() and hasattr(model_ft, 'vector_size'):\n",
        "     embedding_model_vector_size = model_to_finetune.vector_size\n",
        "\n",
        "\n",
        "embedding_ft_logger = EmbeddingTrainingLogger(\n",
        "    best_kv_dir=EMBEDDING_BEST_KV_SUBDIR,\n",
        "    final_model_dir=EMBEDDING_FINAL_MODEL_SUBDIR,\n",
        "    log_file_path=EMBEDDING_TRAINING_LOG_FILE,\n",
        "    vector_size=embedding_model_vector_size\n",
        ")\n",
        "print(f\"EmbeddingTrainingLogger diinisialisasi. Siap untuk fine-tuning.\")"
      ],
      "metadata": {
        "id": "RhARVWQItEAP",
        "colab": {
          "base_uri": "https://localhost:8080/"
        },
        "outputId": "55b661eb-85f3-4af4-ecc7-4bca961326a6"
      },
      "execution_count": null,
      "outputs": [
        {
          "output_type": "stream",
          "name": "stdout",
          "text": [
            "EmbeddingTrainingLogger diinisialisasi. Model terbaik akan disimpan di '/content/drive/MyDrive/Model/03_Word_Embeddings/Fine_Tuned/embedding_best_kv/' dan model final di '/content/drive/MyDrive/Model/03_Word_Embeddings/Fine_Tuned/embedding_final_model/'.\n",
            "EmbeddingTrainingLogger diinisialisasi. Siap untuk fine-tuning.\n"
          ]
        }
      ]
    },
    {
      "cell_type": "code",
      "source": [
        "# Cell 10 (Grup 2 - Proses Fine-Tuning Embedding - PENYESUAIAN PARAMETER LANJUTAN)\n",
        "\n",
        "# Pastikan 'sentences_for_finetuning' sudah didefinisikan dari Cell 3 (Grup 2)\n",
        "if 'sentences_for_finetuning' not in locals() or not sentences_for_finetuning:\n",
        "    raise NameError(\"Variabel 'sentences_for_finetuning' belum didefinisikan atau kosong. Jalankan Cell 3 (Grup 2) terlebih dahulu.\")\n",
        "\n",
        "print(f\"\\nKorpus untuk training embedding ('sentences_for_finetuning') siap dengan {len(sentences_for_finetuning)} dokumen/kalimat.\")\n",
        "if sentences_for_finetuning: print(f\"Contoh item pertama di korpus: {sentences_for_finetuning[0]}\")\n",
        "\n",
        "# Menginisialisasi model FastText baru.\n",
        "# embedding_model_vector_size dari Cell 9 (Inisialisasi Logger)\n",
        "# GENSIM_INTERNAL_EPOCHS akan kita sesuaikan\n",
        "GENSIM_INTERNAL_EPOCHS = 10  # Coba kurangi dulu epoch internal per panggilan .train()\n",
        "TARGET_ALPHA = 0.005       # Target learning rate yang lebih kecil\n",
        "MIN_ALPHA_TARGET = 0.00001 # Target min_alpha yang sangat kecil\n",
        "\n",
        "model_ft = FastText(\n",
        "    vector_size=embedding_model_vector_size,\n",
        "    window=5,\n",
        "    min_count=2,  # Anda bisa coba naikkan menjadi 3 atau 5 jika korpusnya besar dan mungkin noisy\n",
        "    workers=4,\n",
        "    sg=1,         # Skip-gram\n",
        "    epochs=GENSIM_INTERNAL_EPOCHS,\n",
        "    alpha=TARGET_ALPHA,\n",
        "    min_alpha=MIN_ALPHA_TARGET,\n",
        "    negative=10, # Coba tambahkan atau sesuaikan 'negative sampling'\n",
        "    sample=1e-4  # Coba tambahkan atau sesuaikan 'subsampling' untuk kata frekuensi tinggi\n",
        ")\n",
        "print(f\"\\nMenginisialisasi model FastText baru (training dari awal) dengan vector_size: {model_ft.vector_size}, \"\n",
        "      f\"internal epochs: {model_ft.epochs}, alpha: {model_ft.alpha}, min_alpha: {model_ft.min_alpha}, \"\n",
        "      f\"negative: {model_ft.negative}, sample: {model_ft.ns_exponent}\") # Note: 'sample' ada di .train, bukan init utama, ns_exponent itu default\n",
        "\n",
        "# Bangun vocabulary HANYA dari korpus fine-tuning Anda.\n",
        "print(\"Membangun vocabulary model FastText dari korpus...\")\n",
        "model_ft.build_vocab(corpus_iterable=sentences_for_finetuning)\n",
        "print(f\"Ukuran vocabulary dari korpus: {len(model_ft.wv.key_to_index)} kata\")\n",
        "print(f\"  Shape model_ft.wv.vectors: {model_ft.wv.vectors.shape}\")\n",
        "\n",
        "# Tidak menggunakan intersect_word2vec_format untuk pendekatan \"training dari awal\" ini\n",
        "\n",
        "print(f\"\\nMemulai training embedding (maks {EPOCHS_EMBEDDING} epoch manual, early stopping patience={PATIENCE_EMBEDDING})...\")\n",
        "best_similarity_manual_ft = -1.0\n",
        "wait_manual_ft = 0\n",
        "actual_epochs_trained_ft = 0\n",
        "\n",
        "# embedding_ft_logger diinisialisasi di Cell 9\n",
        "for epoch_manual_num_ft in range(1, EPOCHS_EMBEDDING + 1):\n",
        "    actual_epochs_trained_ft = epoch_manual_num_ft\n",
        "    print(f\"\\n--- Epoch Manual Training ke-{epoch_manual_num_ft}/{EPOCHS_EMBEDDING} ---\")\n",
        "\n",
        "    # Latih model FastText.\n",
        "    # Kita juga bisa mengatur alpha dan min_alpha di sini jika ingin schedule manual\n",
        "    model_ft.train(\n",
        "        sentences_for_finetuning,\n",
        "        total_examples=model_ft.corpus_count,\n",
        "        epochs=model_ft.epochs, # Menggunakan epochs yang diset saat inisialisasi model_ft\n",
        "        # Untuk kontrol learning rate yang lebih halus per epoch manual:\n",
        "        # start_alpha=max(model_ft.min_alpha, model_ft.alpha * (1 - (epoch_manual_num_ft / EPOCHS_EMBEDDING))), # Contoh schedule linear\n",
        "        # end_alpha=model_ft.min_alpha\n",
        "    )\n",
        "\n",
        "    # Hitung similarity untuk evaluasi dan early stopping manual\n",
        "    # Pastikan stemmer sudah diinisialisasi dari Grup 2, Cell 1\n",
        "    kata1_eval_loop = stemmer.stem(\"fotosintesis\")\n",
        "    kata2_eval_loop = stemmer.stem(\"tumbuhan\")\n",
        "    current_sim_manual_ft = 0.0\n",
        "    if kata1_eval_loop in model_ft.wv.key_to_index and kata2_eval_loop in model_ft.wv.key_to_index:\n",
        "        current_sim_manual_ft = model_ft.wv.similarity(kata1_eval_loop, kata2_eval_loop)\n",
        "\n",
        "    # Logika Early Stopping Manual\n",
        "    early_stopping_triggered_in_loop = False\n",
        "    if current_sim_manual_ft > best_similarity_manual_ft + MIN_DELTA_EMBEDDING:\n",
        "        best_similarity_manual_ft = current_sim_manual_ft\n",
        "        wait_manual_ft = 0\n",
        "    else:\n",
        "        wait_manual_ft += 1\n",
        "        if wait_manual_ft >= PATIENCE_EMBEDDING:\n",
        "            print(f\"   Early stopping manual akan terpicu pada epoch {epoch_manual_num_ft}\")\n",
        "            early_stopping_triggered_in_loop = True\n",
        "\n",
        "    embedding_ft_logger.log_manual_epoch_end(model_ft, epoch_manual_num_ft, early_stopping_triggered_in_loop)\n",
        "\n",
        "    if early_stopping_triggered_in_loop:\n",
        "        break\n",
        "\n",
        "embedding_ft_logger.on_train_end(model_ft)\n",
        "print(\"\\n--- Training embedding (dari awal) selesai ---\")"
      ],
      "metadata": {
        "id": "Js4ZGHvraV_C",
        "colab": {
          "base_uri": "https://localhost:8080/"
        },
        "outputId": "5c2b386f-8051-4a9b-80af-8738fdade8b2"
      },
      "execution_count": null,
      "outputs": [
        {
          "output_type": "stream",
          "name": "stdout",
          "text": [
            "\n",
            "Korpus untuk training embedding ('sentences_for_finetuning') siap dengan 21354 dokumen/kalimat.\n",
            "Contoh item pertama di korpus: ['apa', 'sistem', 'koordinat', 'geografis', 'bumi']\n",
            "\n",
            "Menginisialisasi model FastText baru (training dari awal) dengan vector_size: 300, internal epochs: 10, alpha: 0.005, min_alpha: 1e-05, negative: 10, sample: 0.75\n",
            "Membangun vocabulary model FastText dari korpus...\n",
            "Ukuran vocabulary dari korpus: 3059 kata\n",
            "  Shape model_ft.wv.vectors: (3059, 300)\n",
            "\n",
            "Memulai training embedding (maks 30 epoch manual, early stopping patience=3)...\n",
            "\n",
            "--- Epoch Manual Training ke-1/30 ---\n"
          ]
        },
        {
          "output_type": "stream",
          "name": "stderr",
          "text": [
            "WARNING:gensim.models.word2vec:Effective 'alpha' higher than previous training cycles\n"
          ]
        },
        {
          "output_type": "stream",
          "name": "stdout",
          "text": [
            "   State KeyedVectors terbaik diupdate pada epoch manual 1 dengan similarity (fotosintesis-tumbuh): 1.0000\n",
            "Epoch Embedding Manual 1 | Similarity (fotosintesis-tumbuh): 1.0000\n",
            "\n",
            "--- Epoch Manual Training ke-2/30 ---\n"
          ]
        },
        {
          "output_type": "stream",
          "name": "stderr",
          "text": [
            "WARNING:gensim.models.word2vec:Effective 'alpha' higher than previous training cycles\n"
          ]
        },
        {
          "output_type": "stream",
          "name": "stdout",
          "text": [
            "Epoch Embedding Manual 2 | Similarity (fotosintesis-tumbuh): 0.9999\n",
            "\n",
            "--- Epoch Manual Training ke-3/30 ---\n"
          ]
        },
        {
          "output_type": "stream",
          "name": "stderr",
          "text": [
            "WARNING:gensim.models.word2vec:Effective 'alpha' higher than previous training cycles\n"
          ]
        },
        {
          "output_type": "stream",
          "name": "stdout",
          "text": [
            "Epoch Embedding Manual 3 | Similarity (fotosintesis-tumbuh): 0.9952\n",
            "\n",
            "--- Epoch Manual Training ke-4/30 ---\n",
            "   Early stopping manual akan terpicu pada epoch 4\n",
            "Epoch Embedding Manual 4 | Similarity (fotosintesis-tumbuh): 0.9413\n",
            "   Early stopping manual terpicu pada epoch 4.\n",
            "Model FastText final (setelah semua epoch) disimpan di: /content/drive/MyDrive/Model/03_Word_Embeddings/Fine_Tuned/embedding_final_model/glove_final_model.model\n",
            "KeyedVectors terbaik (berdasarkan similarity) disimpan di: /content/drive/MyDrive/Model/03_Word_Embeddings/Fine_Tuned/embedding_best_kv/glove_best_similarity_keyedvectors.kv\n",
            "Log training embedding final disimpan di /content/drive/MyDrive/Model/05_Training_Logs/training_log.json\n",
            "\n",
            "--- Training embedding (dari awal) selesai ---\n"
          ]
        }
      ]
    },
    {
      "cell_type": "code",
      "source": [
        "# --- Cell 11 Penyimpanan Akhir dan Evaluasi Model Embedding yang Telah Di-fine-tune ---\n",
        "\n",
        "print(\"\\nHasil setelah training embedding dari awal:\")\n",
        "if hasattr(model_ft, 'wv'):\n",
        "    evaluate_embedding(model_ft.wv, \"Fotosintesis adalah proses pembuatan makanan oleh tumbuhan hijau dengan bantuan cahaya matahari.\")\n",
        "else:\n",
        "    print(\"Model trained (model_ft) tidak memiliki atribut 'wv', evaluasi tidak dapat dilakukan.\")\n",
        "\n",
        "# Simpan model FastText utama yang dilatih (state terakhir setelah loop)\n",
        "# Ini akan menjadi model yang Anda muat untuk layer embedding LSTM\n",
        "main_trained_model_save_path = os.path.join(EMBEDDING_FINAL_MODEL_SUBDIR, 'glove_finetuned.model') # Nama \"glove\" dipertahankan\n",
        "try:\n",
        "    model_ft.save(main_trained_model_save_path)\n",
        "    print(f\"\\nModel FastText (dilatih dari awal) disimpan di: {main_trained_model_save_path}\")\n",
        "except Exception as e:\n",
        "    print(f\"Gagal menyimpan model FastText '{main_trained_model_save_path}': {e}\")\n",
        "\n",
        "\n",
        "# Kalkulasi similarity akhir untuk metadata\n",
        "final_similarity_for_metadata_display = 0.0\n",
        "kata1_eval_md = stemmer.stem(\"fotosintesis\")\n",
        "kata2_eval_md = stemmer.stem(\"tumbuhan\")\n",
        "if hasattr(model_ft, 'wv') and kata1_eval_md in model_ft.wv.key_to_index and kata2_eval_md in model_ft.wv.key_to_index:\n",
        "    final_similarity_for_metadata_display = model_ft.wv.similarity(kata1_eval_md, kata2_eval_md)\n",
        "\n",
        "# Menyiapkan metadata untuk disimpan\n",
        "embedding_metadata_content = {\n",
        "    'train_size_embedding_corpus': len(jawaban_train_embedding) if 'jawaban_train_embedding' in locals() else len(sentences_for_finetuning), # Sesuaikan jika variabel berbeda\n",
        "    'corpus_size_sentences_for_embedding': len(sentences_for_finetuning),\n",
        "    'vocab_size_trained_model': len(model_ft.wv.key_to_index) if hasattr(model_ft, 'wv') else 0,\n",
        "    # Coverage train dihitung pada model yang baru dilatih ini\n",
        "    'coverage_train_on_trained_model': len([word for word in preprocess_text(\" \".join(dataset_embedding_df['jawaban_siswa'].astype(str))) if hasattr(model_ft, 'wv') and word in model_ft.wv.key_to_index]) / max(1, len(preprocess_text(\" \".join(dataset_embedding_df['jawaban_siswa'].astype(str))))),\n",
        "    'total_epochs_trained_embedding': actual_epochs_trained_ft if 'actual_epochs_trained_ft' in locals() else embedding_ft_logger.current_total_epochs,\n",
        "    'early_stopping_triggered_embedding_manual': embedding_ft_logger.logs[\"early_stopping_triggered_manual\"],\n",
        "    f'final_similarity_sample ({kata1_eval_md}-{kata2_eval_md})': float(final_similarity_for_metadata_display),\n",
        "    f'best_similarity_sample ({kata1_eval_md}-{kata2_eval_md})': float(embedding_ft_logger.best_similarity_metric),\n",
        "    'embedding_model_type': 'FastText (trained from scratch on custom corpus)', # Diubah\n",
        "    'embedding_vector_size': model_ft.vector_size if hasattr(model_ft, 'vector_size') else embedding_model_vector_size,\n",
        "    'embedding_window_size': model_ft.window if hasattr(model_ft, 'window') else 0,\n",
        "    'embedding_min_count': model_ft.min_count if hasattr(model_ft, 'min_count') else 0,\n",
        "    'embedding_sg_algorithm': model_ft.sg if hasattr(model_ft, 'sg') else \"N/A\", # Ambil dari model_ft\n",
        "    'embedding_alpha_init': model_ft.alpha if hasattr(model_ft, 'alpha') else \"N/A\", # Ambil dari model_ft\n",
        "    'embedding_min_alpha_final': model_ft.min_alpha if hasattr(model_ft, 'min_alpha') else \"N/A\", # Ambil dari model_ft\n",
        "    'embedding_training_date': datetime.now().isoformat()\n",
        "}\n",
        "save_metadata(EMBEDDING_TRAINING_METADATA_FILE, embedding_metadata_content)\n",
        "\n",
        "print(\"\\n--- Rangkuman File yang Disimpan untuk Embedding ---\")\n",
        "print(f\"1. Model FastText utama (dilatih dari awal, digunakan untuk LSTM): {main_trained_model_save_path}\")\n",
        "print(f\"2. Model FastText final (disimpan oleh logger): {os.path.join(EMBEDDING_FINAL_MODEL_SUBDIR, 'glove_final_model.model')}\")\n",
        "if embedding_ft_logger.best_model_state_for_kv is not None:\n",
        "    print(f\"3. KeyedVectors terbaik (disimpan oleh logger): {os.path.join(EMBEDDING_BEST_KV_SUBDIR, 'glove_best_similarity_keyedvectors.kv')}\")\n",
        "else:\n",
        "    print(\"3. Tidak ada KeyedVectors terbaik yang disimpan oleh logger (similarity tidak meningkat).\")\n",
        "print(f\"4. Metadata Training Embedding: {EMBEDDING_TRAINING_METADATA_FILE}\")\n",
        "print(f\"5. Log Training Embedding: {EMBEDDING_TRAINING_LOG_FILE}\")"
      ],
      "metadata": {
        "id": "vbEVMHKsGbfO",
        "colab": {
          "base_uri": "https://localhost:8080/"
        },
        "outputId": "ace408ab-997f-4e00-9178-ec81609e3bab"
      },
      "execution_count": null,
      "outputs": [
        {
          "output_type": "stream",
          "name": "stdout",
          "text": [
            "\n",
            "Hasil setelah training embedding dari awal:\n",
            "\n",
            "Evaluasi Embedding untuk teks: 'Fotosintesis adalah proses pembuatan makanan oleh tumbuhan hijau dengan bantuan cahaya matahari.'\n",
            "Kata dalam vocabulary model: ['fotosintesis', 'proses', 'buat', 'makan', 'tumbuh', 'bantu', 'cahaya', 'matahari']\n",
            "Kata tidak dikenal (OOV): ['hijau']\n",
            "Similarity antara 'fotosintesis' dan 'proses': 0.9686\n",
            "\n",
            "Model FastText (dilatih dari awal) disimpan di: /content/drive/MyDrive/Model/03_Word_Embeddings/Fine_Tuned/embedding_final_model/glove_finetuned.model\n",
            "Metadata berhasil disimpan di: /content/drive/MyDrive/Model/03_Word_Embeddings/Fine_Tuned/embedding_training_metadata.json\n",
            "\n",
            "--- Rangkuman File yang Disimpan untuk Embedding ---\n",
            "1. Model FastText utama (dilatih dari awal, digunakan untuk LSTM): /content/drive/MyDrive/Model/03_Word_Embeddings/Fine_Tuned/embedding_final_model/glove_finetuned.model\n",
            "2. Model FastText final (disimpan oleh logger): /content/drive/MyDrive/Model/03_Word_Embeddings/Fine_Tuned/embedding_final_model/glove_final_model.model\n",
            "3. KeyedVectors terbaik (disimpan oleh logger): /content/drive/MyDrive/Model/03_Word_Embeddings/Fine_Tuned/embedding_best_kv/glove_best_similarity_keyedvectors.kv\n",
            "4. Metadata Training Embedding: /content/drive/MyDrive/Model/03_Word_Embeddings/Fine_Tuned/embedding_training_metadata.json\n",
            "5. Log Training Embedding: /content/drive/MyDrive/Model/05_Training_Logs/training_log.json\n"
          ]
        }
      ]
    },
    {
      "cell_type": "code",
      "source": [
        "!free -h"
      ],
      "metadata": {
        "id": "ii67l54Rac28",
        "colab": {
          "base_uri": "https://localhost:8080/"
        },
        "outputId": "3ec9e59c-8637-4ab4-cf51-fd9820764576"
      },
      "execution_count": null,
      "outputs": [
        {
          "output_type": "stream",
          "name": "stdout",
          "text": [
            "               total        used        free      shared  buff/cache   available\n",
            "Mem:            12Gi       6.3Gi       221Mi       4.0Mi       6.2Gi       6.1Gi\n",
            "Swap:             0B          0B          0B\n"
          ]
        }
      ]
    },
    {
      "cell_type": "markdown",
      "source": [
        "# **3. LSTM**\n",
        "\n",
        "---\n",
        "\n"
      ],
      "metadata": {
        "id": "dM9iDy2oae_C"
      }
    },
    {
      "cell_type": "code",
      "source": [
        "# --- Cell 1 ---\n",
        "class TrainingLogger(Callback): # Ini adalah Keras Callback\n",
        "    \"\"\"Callback Keras untuk menyimpan log training LSTM setiap epoch ke file JSON.\"\"\"\n",
        "    def __init__(self, log_path, batch_size_param, epochs_param):\n",
        "        super().__init__()\n",
        "        self.log_path = log_path\n",
        "        self.batch_size_config = batch_size_param\n",
        "        self.epochs_config = epochs_param\n",
        "        self.training_logs_data = {\n",
        "            \"start_time\": datetime.now().isoformat(),\n",
        "            \"parameters\": {},\n",
        "            \"epochs_detail\": []\n",
        "        }\n",
        "\n",
        "    def on_train_begin(self, logs=None):\n",
        "        self.training_logs_data[\"parameters\"] = {\n",
        "            \"batch_size_config\": self.batch_size_config,\n",
        "            \"epochs_config\": self.epochs_config,\n",
        "            \"optimizer_config\": str(self.model.optimizer.get_config()),\n",
        "            \"loss_function\": self.model.loss,\n",
        "            \"compiled_metrics\": self.model.metrics_names\n",
        "        }\n",
        "        try:\n",
        "            with open(self.log_path, 'w') as f:\n",
        "                json.dump(self.training_logs_data, f, indent=2)\n",
        "        except Exception as e:\n",
        "            print(f\"Gagal menulis log awal: {e}\")\n",
        "\n",
        "    def on_epoch_end(self, epoch, logs=None):\n",
        "        epoch_log_entry = {\n",
        "            \"epoch_number\": epoch + 1,\n",
        "            \"timestamp\": datetime.now().isoformat(),\n",
        "            \"metrics_values\": {k: float(v) for k, v in logs.items()}\n",
        "        }\n",
        "        self.training_logs_data[\"epochs_detail\"].append(epoch_log_entry)\n",
        "        try:\n",
        "            with open(self.log_path, 'w') as f:\n",
        "                json.dump(self.training_logs_data, f, indent=2)\n",
        "        except Exception as e:\n",
        "            print(f\"Gagal menyimpan log epoch {epoch + 1}: {e}\")\n",
        "\n",
        "    def on_train_end(self, logs=None):\n",
        "        self.training_logs_data[\"end_time\"] = datetime.now().isoformat()\n",
        "        try:\n",
        "            with open(self.log_path, 'w') as f:\n",
        "                json.dump(self.training_logs_data, f, indent=2)\n",
        "            print(f\"\\nLog training LSTM telah disimpan di: {self.log_path}\")\n",
        "        except Exception as e:\n",
        "            print(f\"Gagal menyimpan log training LSTM final: {e}\")\n",
        "\n",
        "print(\"Kelas TrainingLogger (untuk Keras) telah didefinisikan.\")"
      ],
      "metadata": {
        "id": "L4vTZ2E1LuKH",
        "colab": {
          "base_uri": "https://localhost:8080/"
        },
        "outputId": "65c16b4a-d100-4a3f-8939-032a96f935a4"
      },
      "execution_count": null,
      "outputs": [
        {
          "output_type": "stream",
          "name": "stdout",
          "text": [
            "Kelas TrainingLogger (untuk Keras) telah didefinisikan.\n"
          ]
        }
      ]
    },
    {
      "cell_type": "code",
      "source": [
        "# --- Cell 2 ---\n",
        "def load_and_preprocess_data(dataset_path_param):\n",
        "    \"\"\"Memuat dataset JSON, melakukan preprocessing teks, dan normalisasi skor.\"\"\"\n",
        "    try:\n",
        "        dataset_df = pd.read_json(dataset_path_param)\n",
        "        print(f\"Dataset berhasil dimuat dari '{dataset_path_param}' ({len(dataset_df)} baris).\")\n",
        "    except FileNotFoundError:\n",
        "        raise FileNotFoundError(f\"File dataset tidak ditemukan di: {dataset_path_param}\")\n",
        "    except Exception as e:\n",
        "        raise ValueError(f\"Error saat memuat atau parsing JSON dari {dataset_path_param}: {e}\")\n",
        "\n",
        "    required_columns = ['pertanyaan', 'jawaban_siswa', 'kata_kunci', 'skor']\n",
        "    if not all(col in dataset_df.columns for col in required_columns):\n",
        "        raise ValueError(f\"Dataset harus memiliki kolom: {', '.join(required_columns)}\")\n",
        "\n",
        "    print(\"Memulai preprocessing teks untuk LSTM...\")\n",
        "    processed_texts_list = []\n",
        "    # Menggunakan stemmer dan stopwords_list yang sudah diinisialisasi global (dari Grup 2, Cell 1)\n",
        "    for q_text, a_text, k_list in zip(dataset_df['pertanyaan'], dataset_df['jawaban_siswa'], dataset_df['kata_kunci']):\n",
        "        k_text_combined = \" \".join(k_list) if isinstance(k_list, list) else str(k_list)\n",
        "        processed_q = \" \".join(preprocess_text(str(q_text))) # Menggunakan preprocess_text global\n",
        "        processed_a = \" \".join(preprocess_text(str(a_text))) # Menggunakan preprocess_text global\n",
        "        processed_k = \" \".join(preprocess_text(k_text_combined)) # Menggunakan preprocess_text global\n",
        "\n",
        "        combined_text = f\"PERTANYAAN: {processed_q} JAWABAN: {processed_a} KUNCI: {processed_k}\"\n",
        "        processed_texts_list.append(combined_text)\n",
        "    print(\"Preprocessing teks selesai.\")\n",
        "\n",
        "    scores_array = np.array(dataset_df['skor'], dtype=np.float32)\n",
        "    if scores_array.max() > 1.0:\n",
        "        print(f\"Skor maksimum sebelum normalisasi: {scores_array.max()}. Melakukan normalisasi skor (dibagi 100)...\")\n",
        "        scores_array = scores_array / 100.0\n",
        "    print(\"Normalisasi skor selesai (jika diperlukan).\")\n",
        "\n",
        "    return processed_texts_list, scores_array\n",
        "\n",
        "# --- Memuat data untuk LSTM ---\n",
        "dataset_path_lstm = os.path.join(DATASET_DIR, 'Semua_Soal.json') # Menggunakan DATASET_DIR dari Grup 1\n",
        "texts_for_lstm, scores_for_lstm = load_and_preprocess_data(dataset_path_lstm)\n",
        "\n",
        "if texts_for_lstm and len(scores_for_lstm) > 0:\n",
        "    print(f\"\\nContoh data teks yang sudah diproses untuk LSTM:\\n{texts_for_lstm[0]}\")\n",
        "    print(f\"\\nSkor terkait (setelah normalisasi jika perlu): {scores_for_lstm[0]}\")\n",
        "else:\n",
        "    print(\"\\nTidak ada data yang diproses untuk LSTM.\")"
      ],
      "metadata": {
        "id": "41-hKfH-_yf7",
        "colab": {
          "base_uri": "https://localhost:8080/"
        },
        "outputId": "ff1497fe-959d-49ee-b135-9d8f683dec0e"
      },
      "execution_count": null,
      "outputs": [
        {
          "output_type": "stream",
          "name": "stdout",
          "text": [
            "Dataset berhasil dimuat dari '/content/drive/MyDrive/Model/01_Dataset/Semua_Soal.json' (3152 baris).\n",
            "Memulai preprocessing teks untuk LSTM...\n",
            "Preprocessing teks selesai.\n",
            "Skor maksimum sebelum normalisasi: 100.0. Melakukan normalisasi skor (dibagi 100)...\n",
            "Normalisasi skor selesai (jika diperlukan).\n",
            "\n",
            "Contoh data teks yang sudah diproses untuk LSTM:\n",
            "PERTANYAAN: apa sistem koordinat geografis bumi JAWABAN: sistem koordinat geografis cara tentu posisi tempat bumi guna garis lintang garis bujur garis lintang ukur berapa jauh khatulistiwa garis bujur ukur berapa jauh greenwich KUNCI: sistem koordinat garis lintang garis bujur posisi geografis bumi\n",
            "\n",
            "Skor terkait (setelah normalisasi jika perlu): 0.9200000166893005\n"
          ]
        }
      ]
    },
    {
      "cell_type": "code",
      "source": [
        "# # --- Cell 3 Parameter untuk Tokenizer dan Padding ---\n",
        "if 'VOCAB_SIZE' not in locals(): VOCAB_SIZE = 15000\n",
        "if 'MAX_LENGTH' not in locals(): MAX_LENGTH = 150\n",
        "\n",
        "print(f\"Menggunakan VOCAB_SIZE: {VOCAB_SIZE}, MAX_LENGTH: {MAX_LENGTH}\")\n",
        "\n",
        "# --- Tokenisasi Teks ---\n",
        "tokenizer_lstm = Tokenizer(num_words=VOCAB_SIZE, oov_token=\"<OOV>\")\n",
        "tokenizer_lstm.fit_on_texts(texts_for_lstm)\n",
        "print(f\"Tokenizer LSTM di-fit pada {len(texts_for_lstm)} teks.\")\n",
        "print(f\"Ukuran vocabulary Tokenizer LSTM: {len(tokenizer_lstm.word_index)}\")\n",
        "\n",
        "# --- Konversi Teks ke Sekuens dan Padding ---\n",
        "sequences_lstm = tokenizer_lstm.texts_to_sequences(texts_for_lstm)\n",
        "padded_sequences_lstm = pad_sequences(sequences_lstm, maxlen=MAX_LENGTH, padding='post', truncating='post')\n",
        "print(f\"Shape padded_sequences_lstm: {padded_sequences_lstm.shape}\")\n",
        "\n",
        "# --- Pembagian Data menjadi Training, Validasi, dan Test ---\n",
        "X_train_lstm, X_temp_lstm, y_train_lstm, y_temp_lstm = train_test_split(\n",
        "    padded_sequences_lstm, scores_for_lstm, test_size=0.3, random_state=42\n",
        ")\n",
        "X_val_lstm, X_test_lstm, y_val_lstm, y_test_lstm = train_test_split(\n",
        "    X_temp_lstm, y_temp_lstm, test_size=0.5, random_state=42\n",
        ")\n",
        "\n",
        "print(\"\\nStatistik Dataset LSTM setelah Pembagian:\")\n",
        "print(f\"Total sampel awal: {len(texts_for_lstm)}\")\n",
        "print(f\"Data Training (X_train_lstm): {X_train_lstm.shape}, (y_train_lstm): {y_train_lstm.shape}\")\n",
        "print(f\"Data Validasi (X_val_lstm): {X_val_lstm.shape}, (y_val_lstm): {y_val_lstm.shape}\")\n",
        "print(f\"Data Test (X_test_lstm): {X_test_lstm.shape}, (y_test_lstm): {y_test_lstm.shape}\")"
      ],
      "metadata": {
        "id": "7WEvHlob_2mA",
        "colab": {
          "base_uri": "https://localhost:8080/"
        },
        "outputId": "02d30b16-dd05-4f56-ee83-50baab693de2"
      },
      "execution_count": null,
      "outputs": [
        {
          "output_type": "stream",
          "name": "stdout",
          "text": [
            "Menggunakan VOCAB_SIZE: 15000, MAX_LENGTH: 150\n",
            "Tokenizer LSTM di-fit pada 3152 teks.\n",
            "Ukuran vocabulary Tokenizer LSTM: 3497\n",
            "Shape padded_sequences_lstm: (3152, 150)\n",
            "\n",
            "Statistik Dataset LSTM setelah Pembagian:\n",
            "Total sampel awal: 3152\n",
            "Data Training (X_train_lstm): (2206, 150), (y_train_lstm): (2206,)\n",
            "Data Validasi (X_val_lstm): (473, 150), (y_val_lstm): (473,)\n",
            "Data Test (X_test_lstm): (473, 150), (y_test_lstm): (473,)\n"
          ]
        }
      ]
    },
    {
      "cell_type": "code",
      "source": [
        "# --- Cell 4 Persiapan Embedding Matrix ---\n",
        "\n",
        "def build_embedding_matrix(keras_tokenizer, embedding_keyed_vectors):\n",
        "    \"\"\"Membangun embedding matrix dari objek KeyedVectors untuk Keras Embedding Layer.\"\"\"\n",
        "    current_embedding_dim = embedding_keyed_vectors.vector_size\n",
        "    vocab_size_for_matrix = min(VOCAB_SIZE, len(keras_tokenizer.word_index) + 1)\n",
        "\n",
        "    embedding_matrix_built = np.zeros((vocab_size_for_matrix, current_embedding_dim))\n",
        "    words_found = 0\n",
        "    for word, i in keras_tokenizer.word_index.items():\n",
        "        if i >= VOCAB_SIZE:\n",
        "            continue\n",
        "        try:\n",
        "            embedding_vector = embedding_keyed_vectors[word]\n",
        "            embedding_matrix_built[i] = embedding_vector\n",
        "            words_found += 1\n",
        "        except KeyError:\n",
        "            pass\n",
        "\n",
        "    total_words_in_keras_vocab = min(VOCAB_SIZE -1, len(keras_tokenizer.word_index))\n",
        "    coverage_percentage = (words_found / total_words_in_keras_vocab) * 100 if total_words_in_keras_vocab > 0 else 0\n",
        "    print(f\"\\nKata yang ditemukan di embedding: {words_found}/{total_words_in_keras_vocab} ({coverage_percentage:.2f}%)\")\n",
        "    print(f\"Shape embedding matrix: {embedding_matrix_built.shape}\")\n",
        "    return embedding_matrix_built, current_embedding_dim\n",
        "\n",
        "# --- Memuat Model Embedding yang Telah Di-fine-tune ---\n",
        "# Menggunakan EMBEDDING_FINAL_MODEL_SUBDIR dari Grup 1\n",
        "path_to_finetuned_embedding_model = os.path.join(EMBEDDING_FINAL_MODEL_SUBDIR, 'glove_finetuned.model')\n",
        "print(f\"Mencoba memuat model embedding yang sudah di-fine-tune dari: {path_to_finetuned_embedding_model}\")\n",
        "\n",
        "finetuned_fasttext_model = None\n",
        "finetuned_keyed_vectors = None\n",
        "embedding_matrix_for_lstm = None\n",
        "actual_embedding_dim_for_lstm = None\n",
        "\n",
        "try:\n",
        "    if os.path.exists(path_to_finetuned_embedding_model):\n",
        "        finetuned_fasttext_model = FastText.load(path_to_finetuned_embedding_model)\n",
        "        finetuned_keyed_vectors = finetuned_fasttext_model.wv\n",
        "        actual_embedding_dim_for_lstm = finetuned_keyed_vectors.vector_size\n",
        "        print(f\"Model embedding FastText fine-tuned berhasil dimuat (dimensi: {actual_embedding_dim_for_lstm}).\")\n",
        "\n",
        "        if 'tokenizer_lstm' in locals() and tokenizer_lstm is not None:\n",
        "            embedding_matrix_for_lstm, _ = build_embedding_matrix(tokenizer_lstm, finetuned_keyed_vectors)\n",
        "        else:\n",
        "            print(\"Tokenizer LSTM (tokenizer_lstm) tidak ditemukan. Tidak bisa membangun embedding matrix.\")\n",
        "    else:\n",
        "        print(f\"Error: File model embedding fine-tuned tidak ditemukan di {path_to_finetuned_embedding_model}.\")\n",
        "except Exception as e:\n",
        "    print(f\"Error saat memuat atau memproses model embedding fine-tuned: {e}\")\n",
        "    import traceback\n",
        "    traceback.print_exc()\n",
        "\n",
        "if embedding_matrix_for_lstm is None:\n",
        "    print(\"\\nPeringatan: Embedding matrix untuk LSTM tidak berhasil dibangun.\")\n",
        "    if actual_embedding_dim_for_lstm is None: actual_embedding_dim_for_lstm = 300"
      ],
      "metadata": {
        "id": "BgPYBxpa_6w9",
        "colab": {
          "base_uri": "https://localhost:8080/"
        },
        "outputId": "97b3440e-94b8-4316-ae66-db508c517aa6"
      },
      "execution_count": null,
      "outputs": [
        {
          "output_type": "stream",
          "name": "stdout",
          "text": [
            "Mencoba memuat model embedding yang sudah di-fine-tune dari: /content/drive/MyDrive/Model/03_Word_Embeddings/Fine_Tuned/embedding_final_model/glove_finetuned.model\n",
            "Model embedding FastText fine-tuned berhasil dimuat (dimensi: 300).\n",
            "\n",
            "Kata yang ditemukan di embedding: 3497/3497 (100.00%)\n",
            "Shape embedding matrix: (3498, 300)\n"
          ]
        }
      ]
    },
    {
      "cell_type": "code",
      "source": [
        "# --- Cell 5Arsitektur Model dan Callbacks ---\n",
        "\n",
        "def create_lstm_model(vocab_size_keras, embedding_dim_keras, max_length_keras, embedding_matrix_keras):\n",
        "    \"\"\"Membangun model LSTM Keras dengan layer Embedding yang menggunakan pre-trained weights.\"\"\"\n",
        "    model = Sequential([\n",
        "        Embedding(\n",
        "            input_dim=vocab_size_keras,\n",
        "            output_dim=embedding_dim_keras,\n",
        "            input_length=max_length_keras,\n",
        "            weights=[embedding_matrix_keras],\n",
        "            trainable=False,\n",
        "            name='embedding_layer'\n",
        "        ),\n",
        "        Bidirectional(LSTM(\n",
        "            256,\n",
        "            return_sequences=False,\n",
        "            dropout=0.3,\n",
        "            recurrent_dropout=0.3\n",
        "        ), name='bidirectional_lstm_layer'),\n",
        "        Dense(128, activation='relu', name='dense_layer_1'),\n",
        "        Dropout(0.4, name='dropout_layer_1'),\n",
        "        Dense(64, activation='relu', name='dense_layer_2'),\n",
        "        Dropout(0.3, name='dropout_layer_2'),\n",
        "        Dense(1, activation='sigmoid', name='output_layer')\n",
        "    ])\n",
        "    optimizer_adam = tf.keras.optimizers.Adam(learning_rate=0.0005)\n",
        "    model.compile(\n",
        "        optimizer=optimizer_adam,\n",
        "        loss='mean_squared_error',\n",
        "        metrics=[\n",
        "            'mean_absolute_error',\n",
        "            RootMeanSquaredError(name='rmse'),\n",
        "            R2Score(name='r2_score')\n",
        "        ]\n",
        "    )\n",
        "    return model\n",
        "\n",
        "# --- Membangun Model LSTM ---\n",
        "lstm_model_instance = None\n",
        "model_lstm_built = False\n",
        "\n",
        "if 'embedding_matrix_for_lstm' in locals() and embedding_matrix_for_lstm is not None and \\\n",
        "   'actual_embedding_dim_for_lstm' in locals() and actual_embedding_dim_for_lstm is not None and \\\n",
        "   'tokenizer_lstm' in locals() and tokenizer_lstm is not None and \\\n",
        "   'MAX_LENGTH' in locals():\n",
        "\n",
        "    print(\"\\nMemulai pembangunan model LSTM...\")\n",
        "    keras_vocab_size = min(VOCAB_SIZE, len(tokenizer_lstm.word_index) + 1)\n",
        "    lstm_model_instance = create_lstm_model(\n",
        "        vocab_size_keras=keras_vocab_size,\n",
        "        embedding_dim_keras=actual_embedding_dim_for_lstm,\n",
        "        max_length_keras=MAX_LENGTH,\n",
        "        embedding_matrix_keras=embedding_matrix_for_lstm\n",
        "    )\n",
        "    # model.summary() dipindahkan ke setelah model.fit()\n",
        "    print(\"Definisi model LSTM selesai. Summary akan ditampilkan setelah training.\")\n",
        "    model_lstm_built = True\n",
        "else:\n",
        "    print(\"\\nTidak bisa membangun model LSTM: embedding matrix, embedding_dim, tokenizer, atau MAX_LENGTH tidak tersedia/valid.\")\n",
        "\n",
        "# --- Callbacks untuk Training LSTM ---\n",
        "callbacks_for_lstm_training = []\n",
        "if model_lstm_built:\n",
        "    early_stopping_cb = tf.keras.callbacks.EarlyStopping(\n",
        "        monitor='val_mean_absolute_error',\n",
        "        patience=5,\n",
        "        restore_best_weights=True,\n",
        "        verbose=1\n",
        "    )\n",
        "    reduce_lr_cb = tf.keras.callbacks.ReduceLROnPlateau(\n",
        "        monitor='val_loss',\n",
        "        factor=0.2,\n",
        "        patience=3,\n",
        "        min_lr=1e-6,\n",
        "        verbose=1\n",
        "    )\n",
        "    # Menggunakan LOGS_DIR dari Grup 1\n",
        "    path_for_lstm_log = os.path.join(LOGS_DIR, 'training_lstm_log.json')\n",
        "    # Asumsi BATCH_SIZE_LSTM dan NUM_EPOCHS_LSTM akan didefinisikan sebelum .fit()\n",
        "    # Kita akan update logger dengan nilai sebenarnya di Cell 6\n",
        "    lstm_keras_logger_cb = TrainingLogger(log_path=path_for_lstm_log, batch_size_param=0, epochs_param=0)\n",
        "\n",
        "    callbacks_for_lstm_training = [early_stopping_cb, reduce_lr_cb, lstm_keras_logger_cb]\n",
        "else:\n",
        "    print(\"Callbacks tidak disiapkan karena model LSTM tidak berhasil dibangun.\")"
      ],
      "metadata": {
        "id": "10600aEt_9UC",
        "colab": {
          "base_uri": "https://localhost:8080/"
        },
        "outputId": "d3fe8444-d0ce-4ee6-9a03-8036f7d554fc"
      },
      "execution_count": null,
      "outputs": [
        {
          "output_type": "stream",
          "name": "stdout",
          "text": [
            "\n",
            "Memulai pembangunan model LSTM...\n"
          ]
        },
        {
          "output_type": "stream",
          "name": "stderr",
          "text": [
            "/usr/local/lib/python3.11/dist-packages/keras/src/layers/core/embedding.py:90: UserWarning: Argument `input_length` is deprecated. Just remove it.\n",
            "  warnings.warn(\n"
          ]
        },
        {
          "output_type": "stream",
          "name": "stdout",
          "text": [
            "Definisi model LSTM selesai. Summary akan ditampilkan setelah training.\n"
          ]
        }
      ]
    },
    {
      "cell_type": "code",
      "source": [
        "# --- Cell 6 Training Model dan Menampilkan Summary Setelah Fit ===\n",
        "\n",
        "if model_lstm_built and lstm_model_instance is not None:\n",
        "    print(\"\\nModel LSTM berhasil dibangun.\")\n",
        "\n",
        "    NUM_EPOCHS_LSTM = 50  # Definisikan jumlah epoch yang diinginkan\n",
        "    BATCH_SIZE_LSTM = 64  # Definisikan batch size yang diinginkan\n",
        "\n",
        "    # Update parameter batch_size dan epochs di TrainingLogger jika ada\n",
        "    if callbacks_for_lstm_training:\n",
        "        for cb in callbacks_for_lstm_training:\n",
        "            if isinstance(cb, TrainingLogger): # Jika ini adalah instance TrainingLogger kita\n",
        "                cb.batch_size_config = BATCH_SIZE_LSTM\n",
        "                cb.epochs_config = NUM_EPOCHS_LSTM\n",
        "                print(f\"Parameter TrainingLogger diupdate: batch_size={cb.batch_size_config}, epochs={cb.epochs_config}\")\n",
        "\n",
        "    print(f\"Memulai training LSTM dengan {NUM_EPOCHS_LSTM} epoch dan batch size {BATCH_SIZE_LSTM}...\")\n",
        "    history_lstm = lstm_model_instance.fit(\n",
        "        X_train_lstm, y_train_lstm,\n",
        "        validation_data=(X_val_lstm, y_val_lstm),\n",
        "        epochs=NUM_EPOCHS_LSTM,\n",
        "        batch_size=BATCH_SIZE_LSTM,\n",
        "        callbacks=callbacks_for_lstm_training,\n",
        "        verbose=1\n",
        "    )\n",
        "\n",
        "    # --- Menampilkan Model Summary SETELAH Training (Model sudah di-build) ---\n",
        "    print(\"\\n--- Model Summary (Setelah Training) ---\")\n",
        "    lstm_model_instance.summary() # <<<< model.summary() dipindahkan ke sini\n",
        "\n",
        "    # --- Plot histori training ---\n",
        "    if history_lstm is not None and history_lstm.history:\n",
        "        print(\"\\nMembuat plot histori training LSTM...\")\n",
        "        plt.figure(figsize=(14, 6))\n",
        "        # ... (kode plot loss dan MAE seperti sebelumnya, tidak ada perubahan) ...\n",
        "        # Plot Loss\n",
        "        plt.subplot(1, 2, 1)\n",
        "        plt.plot(history_lstm.history['loss'], label='Training Loss')\n",
        "        plt.plot(history_lstm.history['val_loss'], label='Validation Loss')\n",
        "        plt.title('Histori Training LSTM - Loss')\n",
        "        plt.xlabel('Epoch')\n",
        "        plt.ylabel('Loss (MSE)')\n",
        "        plt.legend()\n",
        "        plt.grid(True)\n",
        "\n",
        "        # Plot MAE\n",
        "        plt.subplot(1, 2, 2)\n",
        "        plt.plot(history_lstm.history['mean_absolute_error'], label='Training MAE')\n",
        "        plt.plot(history_lstm.history['val_mean_absolute_error'], label='Validation MAE')\n",
        "        plt.title('Histori Training LSTM - MAE')\n",
        "        plt.xlabel('Epoch')\n",
        "        plt.ylabel('Mean Absolute Error')\n",
        "        plt.legend()\n",
        "        plt.grid(True)\n",
        "\n",
        "        plt.tight_layout()\n",
        "        plt.show()\n",
        "    else:\n",
        "        print(\"Tidak bisa membuat plot histori karena training LSTM tidak berjalan atau history kosong.\")\n",
        "else:\n",
        "    print(\"Tidak bisa memulai training karena model LSTM tidak berhasil dibangun.\")"
      ],
      "metadata": {
        "id": "sy-92h8NAAp2",
        "colab": {
          "base_uri": "https://localhost:8080/",
          "height": 1000
        },
        "outputId": "2745544b-10fd-476c-8000-5e95a29e9694"
      },
      "execution_count": null,
      "outputs": [
        {
          "output_type": "stream",
          "name": "stdout",
          "text": [
            "\n",
            "Model LSTM berhasil dibangun.\n",
            "Parameter TrainingLogger diupdate: batch_size=64, epochs=50\n",
            "Memulai training LSTM dengan 50 epoch dan batch size 64...\n",
            "Epoch 1/50\n",
            "\u001b[1m35/35\u001b[0m \u001b[32m━━━━━━━━━━━━━━━━━━━━\u001b[0m\u001b[37m\u001b[0m \u001b[1m240s\u001b[0m 7s/step - loss: 0.0497 - mean_absolute_error: 0.1843 - r2_score: -0.2648 - rmse: 0.2221 - val_loss: 0.0360 - val_mean_absolute_error: 0.1581 - val_r2_score: 0.0400 - val_rmse: 0.1898 - learning_rate: 5.0000e-04\n",
            "Epoch 2/50\n",
            "\u001b[1m35/35\u001b[0m \u001b[32m━━━━━━━━━━━━━━━━━━━━\u001b[0m\u001b[37m\u001b[0m \u001b[1m142s\u001b[0m 4s/step - loss: 0.0374 - mean_absolute_error: 0.1585 - r2_score: 0.0059 - rmse: 0.1932 - val_loss: 0.0356 - val_mean_absolute_error: 0.1562 - val_r2_score: 0.0501 - val_rmse: 0.1888 - learning_rate: 5.0000e-04\n",
            "Epoch 3/50\n",
            "\u001b[1m35/35\u001b[0m \u001b[32m━━━━━━━━━━━━━━━━━━━━\u001b[0m\u001b[37m\u001b[0m \u001b[1m128s\u001b[0m 4s/step - loss: 0.0388 - mean_absolute_error: 0.1638 - r2_score: 0.0288 - rmse: 0.1970 - val_loss: 0.0355 - val_mean_absolute_error: 0.1561 - val_r2_score: 0.0551 - val_rmse: 0.1883 - learning_rate: 5.0000e-04\n",
            "Epoch 4/50\n",
            "\u001b[1m35/35\u001b[0m \u001b[32m━━━━━━━━━━━━━━━━━━━━\u001b[0m\u001b[37m\u001b[0m \u001b[1m142s\u001b[0m 4s/step - loss: 0.0371 - mean_absolute_error: 0.1580 - r2_score: 0.0466 - rmse: 0.1926 - val_loss: 0.0382 - val_mean_absolute_error: 0.1556 - val_r2_score: -0.0174 - val_rmse: 0.1954 - learning_rate: 5.0000e-04\n",
            "Epoch 5/50\n",
            "\u001b[1m35/35\u001b[0m \u001b[32m━━━━━━━━━━━━━━━━━━━━\u001b[0m\u001b[37m\u001b[0m \u001b[1m143s\u001b[0m 4s/step - loss: 0.0374 - mean_absolute_error: 0.1565 - r2_score: 0.0550 - rmse: 0.1935 - val_loss: 0.0349 - val_mean_absolute_error: 0.1520 - val_r2_score: 0.0709 - val_rmse: 0.1867 - learning_rate: 5.0000e-04\n",
            "Epoch 6/50\n",
            "\u001b[1m35/35\u001b[0m \u001b[32m━━━━━━━━━━━━━━━━━━━━\u001b[0m\u001b[37m\u001b[0m \u001b[1m137s\u001b[0m 4s/step - loss: 0.0363 - mean_absolute_error: 0.1565 - r2_score: 0.0455 - rmse: 0.1905 - val_loss: 0.0343 - val_mean_absolute_error: 0.1515 - val_r2_score: 0.0854 - val_rmse: 0.1853 - learning_rate: 5.0000e-04\n",
            "Epoch 7/50\n",
            "\u001b[1m35/35\u001b[0m \u001b[32m━━━━━━━━━━━━━━━━━━━━\u001b[0m\u001b[37m\u001b[0m \u001b[1m146s\u001b[0m 4s/step - loss: 0.0353 - mean_absolute_error: 0.1540 - r2_score: 0.0603 - rmse: 0.1879 - val_loss: 0.0340 - val_mean_absolute_error: 0.1517 - val_r2_score: 0.0932 - val_rmse: 0.1845 - learning_rate: 5.0000e-04\n",
            "Epoch 8/50\n",
            "\u001b[1m35/35\u001b[0m \u001b[32m━━━━━━━━━━━━━━━━━━━━\u001b[0m\u001b[37m\u001b[0m \u001b[1m142s\u001b[0m 4s/step - loss: 0.0357 - mean_absolute_error: 0.1549 - r2_score: 0.0973 - rmse: 0.1889 - val_loss: 0.0336 - val_mean_absolute_error: 0.1545 - val_r2_score: 0.1049 - val_rmse: 0.1833 - learning_rate: 5.0000e-04\n",
            "Epoch 9/50\n",
            "\u001b[1m35/35\u001b[0m \u001b[32m━━━━━━━━━━━━━━━━━━━━\u001b[0m\u001b[37m\u001b[0m \u001b[1m142s\u001b[0m 4s/step - loss: 0.0346 - mean_absolute_error: 0.1519 - r2_score: 0.0969 - rmse: 0.1859 - val_loss: 0.0341 - val_mean_absolute_error: 0.1482 - val_r2_score: 0.0925 - val_rmse: 0.1845 - learning_rate: 5.0000e-04\n",
            "Epoch 10/50\n",
            "\u001b[1m35/35\u001b[0m \u001b[32m━━━━━━━━━━━━━━━━━━━━\u001b[0m\u001b[37m\u001b[0m \u001b[1m138s\u001b[0m 4s/step - loss: 0.0342 - mean_absolute_error: 0.1489 - r2_score: 0.1245 - rmse: 0.1849 - val_loss: 0.0286 - val_mean_absolute_error: 0.1421 - val_r2_score: 0.2367 - val_rmse: 0.1692 - learning_rate: 5.0000e-04\n",
            "Epoch 11/50\n",
            "\u001b[1m35/35\u001b[0m \u001b[32m━━━━━━━━━━━━━━━━━━━━\u001b[0m\u001b[37m\u001b[0m \u001b[1m145s\u001b[0m 4s/step - loss: 0.0276 - mean_absolute_error: 0.1348 - r2_score: 0.2531 - rmse: 0.1661 - val_loss: 0.0239 - val_mean_absolute_error: 0.1302 - val_r2_score: 0.3621 - val_rmse: 0.1547 - learning_rate: 5.0000e-04\n",
            "Epoch 12/50\n",
            "\u001b[1m35/35\u001b[0m \u001b[32m━━━━━━━━━━━━━━━━━━━━\u001b[0m\u001b[37m\u001b[0m \u001b[1m124s\u001b[0m 4s/step - loss: 0.0265 - mean_absolute_error: 0.1311 - r2_score: 0.3113 - rmse: 0.1627 - val_loss: 0.0216 - val_mean_absolute_error: 0.1237 - val_r2_score: 0.4231 - val_rmse: 0.1471 - learning_rate: 5.0000e-04\n",
            "Epoch 13/50\n",
            "\u001b[1m35/35\u001b[0m \u001b[32m━━━━━━━━━━━━━━━━━━━━\u001b[0m\u001b[37m\u001b[0m \u001b[1m128s\u001b[0m 4s/step - loss: 0.0215 - mean_absolute_error: 0.1183 - r2_score: 0.4271 - rmse: 0.1468 - val_loss: 0.0194 - val_mean_absolute_error: 0.1139 - val_r2_score: 0.4840 - val_rmse: 0.1391 - learning_rate: 5.0000e-04\n",
            "Epoch 14/50\n",
            "\u001b[1m35/35\u001b[0m \u001b[32m━━━━━━━━━━━━━━━━━━━━\u001b[0m\u001b[37m\u001b[0m \u001b[1m142s\u001b[0m 4s/step - loss: 0.0222 - mean_absolute_error: 0.1203 - r2_score: 0.4166 - rmse: 0.1488 - val_loss: 0.0186 - val_mean_absolute_error: 0.1049 - val_r2_score: 0.5046 - val_rmse: 0.1363 - learning_rate: 5.0000e-04\n",
            "Epoch 15/50\n",
            "\u001b[1m35/35\u001b[0m \u001b[32m━━━━━━━━━━━━━━━━━━━━\u001b[0m\u001b[37m\u001b[0m \u001b[1m141s\u001b[0m 4s/step - loss: 0.0205 - mean_absolute_error: 0.1113 - r2_score: 0.4915 - rmse: 0.1431 - val_loss: 0.0184 - val_mean_absolute_error: 0.1099 - val_r2_score: 0.5087 - val_rmse: 0.1358 - learning_rate: 5.0000e-04\n",
            "Epoch 16/50\n",
            "\u001b[1m35/35\u001b[0m \u001b[32m━━━━━━━━━━━━━━━━━━━━\u001b[0m\u001b[37m\u001b[0m \u001b[1m142s\u001b[0m 4s/step - loss: 0.0196 - mean_absolute_error: 0.1108 - r2_score: 0.4918 - rmse: 0.1399 - val_loss: 0.0180 - val_mean_absolute_error: 0.1101 - val_r2_score: 0.5209 - val_rmse: 0.1341 - learning_rate: 5.0000e-04\n",
            "Epoch 17/50\n",
            "\u001b[1m35/35\u001b[0m \u001b[32m━━━━━━━━━━━━━━━━━━━━\u001b[0m\u001b[37m\u001b[0m \u001b[1m142s\u001b[0m 4s/step - loss: 0.0187 - mean_absolute_error: 0.1084 - r2_score: 0.4988 - rmse: 0.1367 - val_loss: 0.0179 - val_mean_absolute_error: 0.1030 - val_r2_score: 0.5220 - val_rmse: 0.1339 - learning_rate: 5.0000e-04\n",
            "Epoch 18/50\n",
            "\u001b[1m35/35\u001b[0m \u001b[32m━━━━━━━━━━━━━━━━━━━━\u001b[0m\u001b[37m\u001b[0m \u001b[1m137s\u001b[0m 4s/step - loss: 0.0214 - mean_absolute_error: 0.1156 - r2_score: 0.4595 - rmse: 0.1463 - val_loss: 0.0185 - val_mean_absolute_error: 0.1057 - val_r2_score: 0.5067 - val_rmse: 0.1361 - learning_rate: 5.0000e-04\n",
            "Epoch 19/50\n",
            "\u001b[1m35/35\u001b[0m \u001b[32m━━━━━━━━━━━━━━━━━━━━\u001b[0m\u001b[37m\u001b[0m \u001b[1m128s\u001b[0m 4s/step - loss: 0.0189 - mean_absolute_error: 0.1092 - r2_score: 0.4817 - rmse: 0.1376 - val_loss: 0.0172 - val_mean_absolute_error: 0.1039 - val_r2_score: 0.5424 - val_rmse: 0.1310 - learning_rate: 5.0000e-04\n",
            "Epoch 20/50\n",
            "\u001b[1m35/35\u001b[0m \u001b[32m━━━━━━━━━━━━━━━━━━━━\u001b[0m\u001b[37m\u001b[0m \u001b[1m141s\u001b[0m 4s/step - loss: 0.0183 - mean_absolute_error: 0.1063 - r2_score: 0.5128 - rmse: 0.1353 - val_loss: 0.0168 - val_mean_absolute_error: 0.1029 - val_r2_score: 0.5536 - val_rmse: 0.1294 - learning_rate: 5.0000e-04\n",
            "Epoch 21/50\n",
            "\u001b[1m35/35\u001b[0m \u001b[32m━━━━━━━━━━━━━━━━━━━━\u001b[0m\u001b[37m\u001b[0m \u001b[1m142s\u001b[0m 4s/step - loss: 0.0176 - mean_absolute_error: 0.1044 - r2_score: 0.5416 - rmse: 0.1327 - val_loss: 0.0173 - val_mean_absolute_error: 0.1021 - val_r2_score: 0.5399 - val_rmse: 0.1314 - learning_rate: 5.0000e-04\n",
            "Epoch 22/50\n",
            "\u001b[1m35/35\u001b[0m \u001b[32m━━━━━━━━━━━━━━━━━━━━\u001b[0m\u001b[37m\u001b[0m \u001b[1m144s\u001b[0m 4s/step - loss: 0.0189 - mean_absolute_error: 0.1079 - r2_score: 0.5064 - rmse: 0.1374 - val_loss: 0.0171 - val_mean_absolute_error: 0.1000 - val_r2_score: 0.5452 - val_rmse: 0.1306 - learning_rate: 5.0000e-04\n",
            "Epoch 23/50\n",
            "\u001b[1m35/35\u001b[0m \u001b[32m━━━━━━━━━━━━━━━━━━━━\u001b[0m\u001b[37m\u001b[0m \u001b[1m128s\u001b[0m 4s/step - loss: 0.0178 - mean_absolute_error: 0.1043 - r2_score: 0.5347 - rmse: 0.1333 - val_loss: 0.0161 - val_mean_absolute_error: 0.0996 - val_r2_score: 0.5701 - val_rmse: 0.1270 - learning_rate: 5.0000e-04\n",
            "Epoch 24/50\n",
            "\u001b[1m35/35\u001b[0m \u001b[32m━━━━━━━━━━━━━━━━━━━━\u001b[0m\u001b[37m\u001b[0m \u001b[1m137s\u001b[0m 4s/step - loss: 0.0161 - mean_absolute_error: 0.0995 - r2_score: 0.5865 - rmse: 0.1269 - val_loss: 0.0162 - val_mean_absolute_error: 0.1004 - val_r2_score: 0.5670 - val_rmse: 0.1275 - learning_rate: 5.0000e-04\n",
            "Epoch 25/50\n",
            "\u001b[1m35/35\u001b[0m \u001b[32m━━━━━━━━━━━━━━━━━━━━\u001b[0m\u001b[37m\u001b[0m \u001b[1m142s\u001b[0m 4s/step - loss: 0.0173 - mean_absolute_error: 0.1031 - r2_score: 0.5481 - rmse: 0.1313 - val_loss: 0.0162 - val_mean_absolute_error: 0.1022 - val_r2_score: 0.5687 - val_rmse: 0.1272 - learning_rate: 5.0000e-04\n",
            "Epoch 26/50\n",
            "\u001b[1m35/35\u001b[0m \u001b[32m━━━━━━━━━━━━━━━━━━━━\u001b[0m\u001b[37m\u001b[0m \u001b[1m146s\u001b[0m 4s/step - loss: 0.0179 - mean_absolute_error: 0.1034 - r2_score: 0.5476 - rmse: 0.1337 - val_loss: 0.0157 - val_mean_absolute_error: 0.0988 - val_r2_score: 0.5809 - val_rmse: 0.1254 - learning_rate: 5.0000e-04\n",
            "Epoch 27/50\n",
            "\u001b[1m35/35\u001b[0m \u001b[32m━━━━━━━━━━━━━━━━━━━━\u001b[0m\u001b[37m\u001b[0m \u001b[1m128s\u001b[0m 4s/step - loss: 0.0178 - mean_absolute_error: 0.1049 - r2_score: 0.5452 - rmse: 0.1335 - val_loss: 0.0165 - val_mean_absolute_error: 0.1018 - val_r2_score: 0.5592 - val_rmse: 0.1286 - learning_rate: 5.0000e-04\n",
            "Epoch 28/50\n",
            "\u001b[1m35/35\u001b[0m \u001b[32m━━━━━━━━━━━━━━━━━━━━\u001b[0m\u001b[37m\u001b[0m \u001b[1m141s\u001b[0m 4s/step - loss: 0.0160 - mean_absolute_error: 0.0984 - r2_score: 0.5844 - rmse: 0.1263 - val_loss: 0.0156 - val_mean_absolute_error: 0.0950 - val_r2_score: 0.5845 - val_rmse: 0.1249 - learning_rate: 5.0000e-04\n",
            "Epoch 29/50\n",
            "\u001b[1m35/35\u001b[0m \u001b[32m━━━━━━━━━━━━━━━━━━━━\u001b[0m\u001b[37m\u001b[0m \u001b[1m128s\u001b[0m 4s/step - loss: 0.0174 - mean_absolute_error: 0.1019 - r2_score: 0.5484 - rmse: 0.1320 - val_loss: 0.0159 - val_mean_absolute_error: 0.0964 - val_r2_score: 0.5749 - val_rmse: 0.1263 - learning_rate: 5.0000e-04\n",
            "Epoch 30/50\n",
            "\u001b[1m35/35\u001b[0m \u001b[32m━━━━━━━━━━━━━━━━━━━━\u001b[0m\u001b[37m\u001b[0m \u001b[1m141s\u001b[0m 4s/step - loss: 0.0159 - mean_absolute_error: 0.0974 - r2_score: 0.5975 - rmse: 0.1262 - val_loss: 0.0154 - val_mean_absolute_error: 0.0948 - val_r2_score: 0.5895 - val_rmse: 0.1241 - learning_rate: 5.0000e-04\n",
            "Epoch 31/50\n",
            "\u001b[1m35/35\u001b[0m \u001b[32m━━━━━━━━━━━━━━━━━━━━\u001b[0m\u001b[37m\u001b[0m \u001b[1m142s\u001b[0m 4s/step - loss: 0.0159 - mean_absolute_error: 0.0970 - r2_score: 0.5748 - rmse: 0.1261 - val_loss: 0.0151 - val_mean_absolute_error: 0.0925 - val_r2_score: 0.5979 - val_rmse: 0.1228 - learning_rate: 5.0000e-04\n",
            "Epoch 32/50\n",
            "\u001b[1m35/35\u001b[0m \u001b[32m━━━━━━━━━━━━━━━━━━━━\u001b[0m\u001b[37m\u001b[0m \u001b[1m139s\u001b[0m 4s/step - loss: 0.0155 - mean_absolute_error: 0.0943 - r2_score: 0.5841 - rmse: 0.1243 - val_loss: 0.0152 - val_mean_absolute_error: 0.0960 - val_r2_score: 0.5951 - val_rmse: 0.1233 - learning_rate: 5.0000e-04\n",
            "Epoch 33/50\n",
            "\u001b[1m35/35\u001b[0m \u001b[32m━━━━━━━━━━━━━━━━━━━━\u001b[0m\u001b[37m\u001b[0m \u001b[1m143s\u001b[0m 4s/step - loss: 0.0155 - mean_absolute_error: 0.0961 - r2_score: 0.5892 - rmse: 0.1244 - val_loss: 0.0153 - val_mean_absolute_error: 0.0964 - val_r2_score: 0.5916 - val_rmse: 0.1238 - learning_rate: 5.0000e-04\n",
            "Epoch 34/50\n",
            "\u001b[1m35/35\u001b[0m \u001b[32m━━━━━━━━━━━━━━━━━━━━\u001b[0m\u001b[37m\u001b[0m \u001b[1m123s\u001b[0m 4s/step - loss: 0.0158 - mean_absolute_error: 0.0966 - r2_score: 0.6056 - rmse: 0.1255 - val_loss: 0.0141 - val_mean_absolute_error: 0.0911 - val_r2_score: 0.6242 - val_rmse: 0.1187 - learning_rate: 5.0000e-04\n",
            "Epoch 35/50\n",
            "\u001b[1m35/35\u001b[0m \u001b[32m━━━━━━━━━━━━━━━━━━━━\u001b[0m\u001b[37m\u001b[0m \u001b[1m150s\u001b[0m 4s/step - loss: 0.0146 - mean_absolute_error: 0.0912 - r2_score: 0.6170 - rmse: 0.1208 - val_loss: 0.0146 - val_mean_absolute_error: 0.0919 - val_r2_score: 0.6113 - val_rmse: 0.1208 - learning_rate: 5.0000e-04\n",
            "Epoch 36/50\n",
            "\u001b[1m35/35\u001b[0m \u001b[32m━━━━━━━━━━━━━━━━━━━━\u001b[0m\u001b[37m\u001b[0m \u001b[1m134s\u001b[0m 4s/step - loss: 0.0142 - mean_absolute_error: 0.0903 - r2_score: 0.6247 - rmse: 0.1191 - val_loss: 0.0148 - val_mean_absolute_error: 0.0913 - val_r2_score: 0.6053 - val_rmse: 0.1217 - learning_rate: 5.0000e-04\n",
            "Epoch 37/50\n",
            "\u001b[1m35/35\u001b[0m \u001b[32m━━━━━━━━━━━━━━━━━━━━\u001b[0m\u001b[37m\u001b[0m \u001b[1m0s\u001b[0m 3s/step - loss: 0.0141 - mean_absolute_error: 0.0923 - r2_score: 0.6367 - rmse: 0.1188\n",
            "Epoch 37: ReduceLROnPlateau reducing learning rate to 0.00010000000474974513.\n",
            "\u001b[1m35/35\u001b[0m \u001b[32m━━━━━━━━━━━━━━━━━━━━\u001b[0m\u001b[37m\u001b[0m \u001b[1m142s\u001b[0m 4s/step - loss: 0.0141 - mean_absolute_error: 0.0923 - r2_score: 0.6362 - rmse: 0.1189 - val_loss: 0.0142 - val_mean_absolute_error: 0.0892 - val_r2_score: 0.6221 - val_rmse: 0.1191 - learning_rate: 5.0000e-04\n",
            "Epoch 38/50\n",
            "\u001b[1m35/35\u001b[0m \u001b[32m━━━━━━━━━━━━━━━━━━━━\u001b[0m\u001b[37m\u001b[0m \u001b[1m146s\u001b[0m 4s/step - loss: 0.0144 - mean_absolute_error: 0.0892 - r2_score: 0.6361 - rmse: 0.1198 - val_loss: 0.0137 - val_mean_absolute_error: 0.0879 - val_r2_score: 0.6356 - val_rmse: 0.1169 - learning_rate: 1.0000e-04\n",
            "Epoch 39/50\n",
            "\u001b[1m35/35\u001b[0m \u001b[32m━━━━━━━━━━━━━━━━━━━━\u001b[0m\u001b[37m\u001b[0m \u001b[1m143s\u001b[0m 4s/step - loss: 0.0148 - mean_absolute_error: 0.0924 - r2_score: 0.6214 - rmse: 0.1217 - val_loss: 0.0137 - val_mean_absolute_error: 0.0873 - val_r2_score: 0.6358 - val_rmse: 0.1169 - learning_rate: 1.0000e-04\n",
            "Epoch 40/50\n",
            "\u001b[1m35/35\u001b[0m \u001b[32m━━━━━━━━━━━━━━━━━━━━\u001b[0m\u001b[37m\u001b[0m \u001b[1m143s\u001b[0m 4s/step - loss: 0.0134 - mean_absolute_error: 0.0875 - r2_score: 0.6468 - rmse: 0.1156 - val_loss: 0.0134 - val_mean_absolute_error: 0.0863 - val_r2_score: 0.6419 - val_rmse: 0.1159 - learning_rate: 1.0000e-04\n",
            "Epoch 41/50\n",
            "\u001b[1m35/35\u001b[0m \u001b[32m━━━━━━━━━━━━━━━━━━━━\u001b[0m\u001b[37m\u001b[0m \u001b[1m128s\u001b[0m 4s/step - loss: 0.0141 - mean_absolute_error: 0.0906 - r2_score: 0.6396 - rmse: 0.1185 - val_loss: 0.0136 - val_mean_absolute_error: 0.0881 - val_r2_score: 0.6366 - val_rmse: 0.1168 - learning_rate: 1.0000e-04\n",
            "Epoch 42/50\n",
            "\u001b[1m35/35\u001b[0m \u001b[32m━━━━━━━━━━━━━━━━━━━━\u001b[0m\u001b[37m\u001b[0m \u001b[1m141s\u001b[0m 4s/step - loss: 0.0137 - mean_absolute_error: 0.0897 - r2_score: 0.6417 - rmse: 0.1171 - val_loss: 0.0134 - val_mean_absolute_error: 0.0859 - val_r2_score: 0.6418 - val_rmse: 0.1159 - learning_rate: 1.0000e-04\n",
            "Epoch 43/50\n",
            "\u001b[1m35/35\u001b[0m \u001b[32m━━━━━━━━━━━━━━━━━━━━\u001b[0m\u001b[37m\u001b[0m \u001b[1m142s\u001b[0m 4s/step - loss: 0.0135 - mean_absolute_error: 0.0868 - r2_score: 0.6423 - rmse: 0.1163 - val_loss: 0.0132 - val_mean_absolute_error: 0.0852 - val_r2_score: 0.6477 - val_rmse: 0.1150 - learning_rate: 1.0000e-04\n",
            "Epoch 44/50\n",
            "\u001b[1m35/35\u001b[0m \u001b[32m━━━━━━━━━━━━━━━━━━━━\u001b[0m\u001b[37m\u001b[0m \u001b[1m143s\u001b[0m 4s/step - loss: 0.0135 - mean_absolute_error: 0.0873 - r2_score: 0.6451 - rmse: 0.1159 - val_loss: 0.0132 - val_mean_absolute_error: 0.0854 - val_r2_score: 0.6472 - val_rmse: 0.1151 - learning_rate: 1.0000e-04\n",
            "Epoch 45/50\n",
            "\u001b[1m35/35\u001b[0m \u001b[32m━━━━━━━━━━━━━━━━━━━━\u001b[0m\u001b[37m\u001b[0m \u001b[1m141s\u001b[0m 4s/step - loss: 0.0131 - mean_absolute_error: 0.0869 - r2_score: 0.6517 - rmse: 0.1144 - val_loss: 0.0134 - val_mean_absolute_error: 0.0860 - val_r2_score: 0.6430 - val_rmse: 0.1157 - learning_rate: 1.0000e-04\n",
            "Epoch 46/50\n",
            "\u001b[1m35/35\u001b[0m \u001b[32m━━━━━━━━━━━━━━━━━━━━\u001b[0m\u001b[37m\u001b[0m \u001b[1m125s\u001b[0m 4s/step - loss: 0.0140 - mean_absolute_error: 0.0892 - r2_score: 0.6435 - rmse: 0.1181 - val_loss: 0.0131 - val_mean_absolute_error: 0.0844 - val_r2_score: 0.6516 - val_rmse: 0.1143 - learning_rate: 1.0000e-04\n",
            "Epoch 47/50\n",
            "\u001b[1m35/35\u001b[0m \u001b[32m━━━━━━━━━━━━━━━━━━━━\u001b[0m\u001b[37m\u001b[0m \u001b[1m145s\u001b[0m 4s/step - loss: 0.0132 - mean_absolute_error: 0.0870 - r2_score: 0.6631 - rmse: 0.1149 - val_loss: 0.0131 - val_mean_absolute_error: 0.0854 - val_r2_score: 0.6516 - val_rmse: 0.1143 - learning_rate: 1.0000e-04\n",
            "Epoch 48/50\n",
            "\u001b[1m35/35\u001b[0m \u001b[32m━━━━━━━━━━━━━━━━━━━━\u001b[0m\u001b[37m\u001b[0m \u001b[1m140s\u001b[0m 4s/step - loss: 0.0137 - mean_absolute_error: 0.0888 - r2_score: 0.6530 - rmse: 0.1169 - val_loss: 0.0131 - val_mean_absolute_error: 0.0840 - val_r2_score: 0.6513 - val_rmse: 0.1144 - learning_rate: 1.0000e-04\n",
            "Epoch 49/50\n",
            "\u001b[1m35/35\u001b[0m \u001b[32m━━━━━━━━━━━━━━━━━━━━\u001b[0m\u001b[37m\u001b[0m \u001b[1m0s\u001b[0m 3s/step - loss: 0.0129 - mean_absolute_error: 0.0867 - r2_score: 0.6540 - rmse: 0.1134\n",
            "Epoch 49: ReduceLROnPlateau reducing learning rate to 2.0000000949949027e-05.\n",
            "\u001b[1m35/35\u001b[0m \u001b[32m━━━━━━━━━━━━━━━━━━━━\u001b[0m\u001b[37m\u001b[0m \u001b[1m144s\u001b[0m 4s/step - loss: 0.0129 - mean_absolute_error: 0.0868 - r2_score: 0.6537 - rmse: 0.1135 - val_loss: 0.0130 - val_mean_absolute_error: 0.0835 - val_r2_score: 0.6523 - val_rmse: 0.1142 - learning_rate: 1.0000e-04\n",
            "Epoch 50/50\n",
            "\u001b[1m35/35\u001b[0m \u001b[32m━━━━━━━━━━━━━━━━━━━━\u001b[0m\u001b[37m\u001b[0m \u001b[1m142s\u001b[0m 4s/step - loss: 0.0134 - mean_absolute_error: 0.0863 - r2_score: 0.6376 - rmse: 0.1157 - val_loss: 0.0130 - val_mean_absolute_error: 0.0837 - val_r2_score: 0.6530 - val_rmse: 0.1141 - learning_rate: 2.0000e-05\n",
            "Restoring model weights from the end of the best epoch: 49.\n",
            "\n",
            "Log training LSTM telah disimpan di: /content/drive/MyDrive/Model/05_Training_Logs/training_lstm_log.json\n",
            "\n",
            "--- Model Summary (Setelah Training) ---\n"
          ]
        },
        {
          "output_type": "display_data",
          "data": {
            "text/plain": [
              "\u001b[1mModel: \"sequential\"\u001b[0m\n"
            ],
            "text/html": [
              "<pre style=\"white-space:pre;overflow-x:auto;line-height:normal;font-family:Menlo,'DejaVu Sans Mono',consolas,'Courier New',monospace\"><span style=\"font-weight: bold\">Model: \"sequential\"</span>\n",
              "</pre>\n"
            ]
          },
          "metadata": {}
        },
        {
          "output_type": "display_data",
          "data": {
            "text/plain": [
              "┏━━━━━━━━━━━━━━━━━━━━━━━━━━━━━━━━━┳━━━━━━━━━━━━━━━━━━━━━━━━┳━━━━━━━━━━━━━━━┓\n",
              "┃\u001b[1m \u001b[0m\u001b[1mLayer (type)                   \u001b[0m\u001b[1m \u001b[0m┃\u001b[1m \u001b[0m\u001b[1mOutput Shape          \u001b[0m\u001b[1m \u001b[0m┃\u001b[1m \u001b[0m\u001b[1m      Param #\u001b[0m\u001b[1m \u001b[0m┃\n",
              "┡━━━━━━━━━━━━━━━━━━━━━━━━━━━━━━━━━╇━━━━━━━━━━━━━━━━━━━━━━━━╇━━━━━━━━━━━━━━━┩\n",
              "│ embedding_layer (\u001b[38;5;33mEmbedding\u001b[0m)     │ (\u001b[38;5;45mNone\u001b[0m, \u001b[38;5;34m150\u001b[0m, \u001b[38;5;34m300\u001b[0m)       │     \u001b[38;5;34m1,049,400\u001b[0m │\n",
              "├─────────────────────────────────┼────────────────────────┼───────────────┤\n",
              "│ bidirectional_lstm_layer        │ (\u001b[38;5;45mNone\u001b[0m, \u001b[38;5;34m512\u001b[0m)            │     \u001b[38;5;34m1,140,736\u001b[0m │\n",
              "│ (\u001b[38;5;33mBidirectional\u001b[0m)                 │                        │               │\n",
              "├─────────────────────────────────┼────────────────────────┼───────────────┤\n",
              "│ dense_layer_1 (\u001b[38;5;33mDense\u001b[0m)           │ (\u001b[38;5;45mNone\u001b[0m, \u001b[38;5;34m128\u001b[0m)            │        \u001b[38;5;34m65,664\u001b[0m │\n",
              "├─────────────────────────────────┼────────────────────────┼───────────────┤\n",
              "│ dropout_layer_1 (\u001b[38;5;33mDropout\u001b[0m)       │ (\u001b[38;5;45mNone\u001b[0m, \u001b[38;5;34m128\u001b[0m)            │             \u001b[38;5;34m0\u001b[0m │\n",
              "├─────────────────────────────────┼────────────────────────┼───────────────┤\n",
              "│ dense_layer_2 (\u001b[38;5;33mDense\u001b[0m)           │ (\u001b[38;5;45mNone\u001b[0m, \u001b[38;5;34m64\u001b[0m)             │         \u001b[38;5;34m8,256\u001b[0m │\n",
              "├─────────────────────────────────┼────────────────────────┼───────────────┤\n",
              "│ dropout_layer_2 (\u001b[38;5;33mDropout\u001b[0m)       │ (\u001b[38;5;45mNone\u001b[0m, \u001b[38;5;34m64\u001b[0m)             │             \u001b[38;5;34m0\u001b[0m │\n",
              "├─────────────────────────────────┼────────────────────────┼───────────────┤\n",
              "│ output_layer (\u001b[38;5;33mDense\u001b[0m)            │ (\u001b[38;5;45mNone\u001b[0m, \u001b[38;5;34m1\u001b[0m)              │            \u001b[38;5;34m65\u001b[0m │\n",
              "└─────────────────────────────────┴────────────────────────┴───────────────┘\n"
            ],
            "text/html": [
              "<pre style=\"white-space:pre;overflow-x:auto;line-height:normal;font-family:Menlo,'DejaVu Sans Mono',consolas,'Courier New',monospace\">┏━━━━━━━━━━━━━━━━━━━━━━━━━━━━━━━━━┳━━━━━━━━━━━━━━━━━━━━━━━━┳━━━━━━━━━━━━━━━┓\n",
              "┃<span style=\"font-weight: bold\"> Layer (type)                    </span>┃<span style=\"font-weight: bold\"> Output Shape           </span>┃<span style=\"font-weight: bold\">       Param # </span>┃\n",
              "┡━━━━━━━━━━━━━━━━━━━━━━━━━━━━━━━━━╇━━━━━━━━━━━━━━━━━━━━━━━━╇━━━━━━━━━━━━━━━┩\n",
              "│ embedding_layer (<span style=\"color: #0087ff; text-decoration-color: #0087ff\">Embedding</span>)     │ (<span style=\"color: #00d7ff; text-decoration-color: #00d7ff\">None</span>, <span style=\"color: #00af00; text-decoration-color: #00af00\">150</span>, <span style=\"color: #00af00; text-decoration-color: #00af00\">300</span>)       │     <span style=\"color: #00af00; text-decoration-color: #00af00\">1,049,400</span> │\n",
              "├─────────────────────────────────┼────────────────────────┼───────────────┤\n",
              "│ bidirectional_lstm_layer        │ (<span style=\"color: #00d7ff; text-decoration-color: #00d7ff\">None</span>, <span style=\"color: #00af00; text-decoration-color: #00af00\">512</span>)            │     <span style=\"color: #00af00; text-decoration-color: #00af00\">1,140,736</span> │\n",
              "│ (<span style=\"color: #0087ff; text-decoration-color: #0087ff\">Bidirectional</span>)                 │                        │               │\n",
              "├─────────────────────────────────┼────────────────────────┼───────────────┤\n",
              "│ dense_layer_1 (<span style=\"color: #0087ff; text-decoration-color: #0087ff\">Dense</span>)           │ (<span style=\"color: #00d7ff; text-decoration-color: #00d7ff\">None</span>, <span style=\"color: #00af00; text-decoration-color: #00af00\">128</span>)            │        <span style=\"color: #00af00; text-decoration-color: #00af00\">65,664</span> │\n",
              "├─────────────────────────────────┼────────────────────────┼───────────────┤\n",
              "│ dropout_layer_1 (<span style=\"color: #0087ff; text-decoration-color: #0087ff\">Dropout</span>)       │ (<span style=\"color: #00d7ff; text-decoration-color: #00d7ff\">None</span>, <span style=\"color: #00af00; text-decoration-color: #00af00\">128</span>)            │             <span style=\"color: #00af00; text-decoration-color: #00af00\">0</span> │\n",
              "├─────────────────────────────────┼────────────────────────┼───────────────┤\n",
              "│ dense_layer_2 (<span style=\"color: #0087ff; text-decoration-color: #0087ff\">Dense</span>)           │ (<span style=\"color: #00d7ff; text-decoration-color: #00d7ff\">None</span>, <span style=\"color: #00af00; text-decoration-color: #00af00\">64</span>)             │         <span style=\"color: #00af00; text-decoration-color: #00af00\">8,256</span> │\n",
              "├─────────────────────────────────┼────────────────────────┼───────────────┤\n",
              "│ dropout_layer_2 (<span style=\"color: #0087ff; text-decoration-color: #0087ff\">Dropout</span>)       │ (<span style=\"color: #00d7ff; text-decoration-color: #00d7ff\">None</span>, <span style=\"color: #00af00; text-decoration-color: #00af00\">64</span>)             │             <span style=\"color: #00af00; text-decoration-color: #00af00\">0</span> │\n",
              "├─────────────────────────────────┼────────────────────────┼───────────────┤\n",
              "│ output_layer (<span style=\"color: #0087ff; text-decoration-color: #0087ff\">Dense</span>)            │ (<span style=\"color: #00d7ff; text-decoration-color: #00d7ff\">None</span>, <span style=\"color: #00af00; text-decoration-color: #00af00\">1</span>)              │            <span style=\"color: #00af00; text-decoration-color: #00af00\">65</span> │\n",
              "└─────────────────────────────────┴────────────────────────┴───────────────┘\n",
              "</pre>\n"
            ]
          },
          "metadata": {}
        },
        {
          "output_type": "display_data",
          "data": {
            "text/plain": [
              "\u001b[1m Total params: \u001b[0m\u001b[38;5;34m4,693,565\u001b[0m (17.90 MB)\n"
            ],
            "text/html": [
              "<pre style=\"white-space:pre;overflow-x:auto;line-height:normal;font-family:Menlo,'DejaVu Sans Mono',consolas,'Courier New',monospace\"><span style=\"font-weight: bold\"> Total params: </span><span style=\"color: #00af00; text-decoration-color: #00af00\">4,693,565</span> (17.90 MB)\n",
              "</pre>\n"
            ]
          },
          "metadata": {}
        },
        {
          "output_type": "display_data",
          "data": {
            "text/plain": [
              "\u001b[1m Trainable params: \u001b[0m\u001b[38;5;34m1,214,721\u001b[0m (4.63 MB)\n"
            ],
            "text/html": [
              "<pre style=\"white-space:pre;overflow-x:auto;line-height:normal;font-family:Menlo,'DejaVu Sans Mono',consolas,'Courier New',monospace\"><span style=\"font-weight: bold\"> Trainable params: </span><span style=\"color: #00af00; text-decoration-color: #00af00\">1,214,721</span> (4.63 MB)\n",
              "</pre>\n"
            ]
          },
          "metadata": {}
        },
        {
          "output_type": "display_data",
          "data": {
            "text/plain": [
              "\u001b[1m Non-trainable params: \u001b[0m\u001b[38;5;34m1,049,400\u001b[0m (4.00 MB)\n"
            ],
            "text/html": [
              "<pre style=\"white-space:pre;overflow-x:auto;line-height:normal;font-family:Menlo,'DejaVu Sans Mono',consolas,'Courier New',monospace\"><span style=\"font-weight: bold\"> Non-trainable params: </span><span style=\"color: #00af00; text-decoration-color: #00af00\">1,049,400</span> (4.00 MB)\n",
              "</pre>\n"
            ]
          },
          "metadata": {}
        },
        {
          "output_type": "display_data",
          "data": {
            "text/plain": [
              "\u001b[1m Optimizer params: \u001b[0m\u001b[38;5;34m2,429,444\u001b[0m (9.27 MB)\n"
            ],
            "text/html": [
              "<pre style=\"white-space:pre;overflow-x:auto;line-height:normal;font-family:Menlo,'DejaVu Sans Mono',consolas,'Courier New',monospace\"><span style=\"font-weight: bold\"> Optimizer params: </span><span style=\"color: #00af00; text-decoration-color: #00af00\">2,429,444</span> (9.27 MB)\n",
              "</pre>\n"
            ]
          },
          "metadata": {}
        },
        {
          "output_type": "stream",
          "name": "stdout",
          "text": [
            "\n",
            "Membuat plot histori training LSTM...\n"
          ]
        },
        {
          "output_type": "display_data",
          "data": {
            "text/plain": [
              "<Figure size 1400x600 with 2 Axes>"
            ],
            "image/png": "[encoded data removed]"
          },
          "metadata": {}
        }
      ]
    },
    {
      "cell_type": "code",
      "source": [
        "# --- Cell 7 Evaluasi Model ---\n",
        "\n",
        "# Impor library yang dibutuhkan jika belum diimpor secara global\n",
        "from sklearn.metrics import precision_score, recall_score, f1_score, cohen_kappa_score\n",
        "from scipy.stats import pearsonr, spearmanr\n",
        "\n",
        "# Fungsi evaluate_model_extended (definisi dari revisi sebelumnya sudah baik)\n",
        "def evaluate_model_extended(model_to_eval, X_data, y_data, keras_tokenizer):\n",
        "    \"\"\"Evaluasi komprehensif model Keras dan contoh prediksi, termasuk metrik lanjutan.\"\"\"\n",
        "    if model_to_eval is None:\n",
        "        print(\"Model tidak tersedia untuk dievaluasi.\")\n",
        "        return None, None\n",
        "\n",
        "    results_from_evaluate = None\n",
        "    all_predictions_scores = None\n",
        "    print(\"\\nMelakukan evaluasi standar model.evaluate()...\")\n",
        "    try:\n",
        "        results_from_evaluate = model_to_eval.evaluate(X_data, y_data, verbose=0)\n",
        "        print(\"\\nHasil Evaluasi pada Data Test (dari model.evaluate):\")\n",
        "        for metric_name, metric_value in zip(model_to_eval.metrics_names, results_from_evaluate):\n",
        "            print(f\"- {metric_name.replace('_', ' ').title()}: {metric_value:.4f}\")\n",
        "    except Exception as e:\n",
        "        print(f\"Error saat evaluasi model (model.evaluate): {e}\")\n",
        "\n",
        "    if results_from_evaluate is not None:\n",
        "        num_samples_to_show = min(5, len(X_data))\n",
        "        if len(X_data) > 0:\n",
        "            sample_indices = np.random.choice(len(X_data), num_samples_to_show, replace=False)\n",
        "            print(\"\\nContoh Prediksi:\")\n",
        "            header = f\"{'Teks Input (Disingkat)':<50} | {'Skor Aktual':<12} | {'Skor Prediksi':<14}\"\n",
        "            print(header)\n",
        "            print(\"-\" * len(header))\n",
        "\n",
        "            sample_X_data = X_data[sample_indices]\n",
        "            sample_y_data = y_data[sample_indices]\n",
        "            try:\n",
        "                sample_preds = model_to_eval.predict(sample_X_data, verbose=0)\n",
        "                for i, original_idx in enumerate(sample_indices):\n",
        "                    text_display = f\"Sequence {original_idx}...\"\n",
        "                    if keras_tokenizer is not None:\n",
        "                        original_sequence = [X_data[original_idx]]\n",
        "                        reconstructed_words = keras_tokenizer.sequences_to_texts(original_sequence)[0].split()\n",
        "                        text_display = ' '.join(reconstructed_words[:7]) + \"...\" if len(reconstructed_words) > 7 else ' '.join(reconstructed_words)\n",
        "\n",
        "                    actual_score = sample_y_data[i]\n",
        "                    predicted_score = sample_preds[i][0]\n",
        "                    print(f\"{text_display:<50} | {actual_score:<12.4f} | {predicted_score:<14.4f}\")\n",
        "            except Exception as e:\n",
        "                print(f\"Error saat membuat prediksi contoh: {e}\")\n",
        "        else:\n",
        "            print(\"Tidak ada data test untuk menampilkan contoh prediksi.\")\n",
        "\n",
        "        print(\"\\nMenghitung semua prediksi untuk metrik evaluasi lanjutan...\")\n",
        "        try:\n",
        "            all_predictions_scores = model_to_eval.predict(X_data, verbose=0).flatten()\n",
        "            y_true_scores_eval = y_data\n",
        "\n",
        "            print(\"\\n\\n===== EVALUASI KINERJA LANJUTAN (METRIK TAMBAHAN) =====\")\n",
        "            if len(y_true_scores_eval) == len(all_predictions_scores):\n",
        "                binary_threshold = 0.6\n",
        "                def to_multiclass_categories(score_value):\n",
        "                    if score_value <= 0.4: return 0\n",
        "                    elif score_value <= 0.75: return 1\n",
        "                    else: return 2\n",
        "\n",
        "                y_true_binary = [1 if s >= binary_threshold else 0 for s in y_true_scores_eval]\n",
        "                y_pred_binary = [1 if s >= binary_threshold else 0 for s in all_predictions_scores]\n",
        "                if len(set(y_true_binary)) > 1 and len(set(y_pred_binary)) > 1:\n",
        "                    print(f\"\\nKlasifikasi Biner (Ambang Batas Skor >= {binary_threshold}):\")\n",
        "                    print(f\"  Precision: {precision_score(y_true_binary, y_pred_binary, zero_division=0):.4f}\")\n",
        "                    print(f\"  Recall: {recall_score(y_true_binary, y_pred_binary, zero_division=0):.4f}\")\n",
        "                    print(f\"  F1-Score: {f1_score(y_true_binary, y_pred_binary, zero_division=0):.4f}\")\n",
        "                else:\n",
        "                    print(f\"\\nKlasifikasi Biner (Ambang Batas Skor >= {binary_threshold}): Tidak dapat dihitung (kurang dari 2 kelas unik).\")\n",
        "\n",
        "                y_true_multi = [to_multiclass_categories(s) for s in y_true_scores_eval]\n",
        "                y_pred_multi = [to_multiclass_categories(s) for s in all_predictions_scores]\n",
        "                if len(set(y_true_multi)) > 1 and len(set(y_pred_multi)) > 1:\n",
        "                    print(f\"\\nKlasifikasi Multi-Kelas (0: <=0.4, 1: <=0.75, 2: >0.75):\")\n",
        "                    print(f\"  Precision (weighted avg): {precision_score(y_true_multi, y_pred_multi, average='weighted', zero_division=0):.4f}\")\n",
        "                    print(f\"  Recall (weighted avg): {recall_score(y_true_multi, y_pred_multi, average='weighted', zero_division=0):.4f}\")\n",
        "                    print(f\"  F1-Score (weighted avg): {f1_score(y_true_multi, y_pred_multi, average='weighted', zero_division=0):.4f}\")\n",
        "                    print(f\"  Quadratic Weighted Kappa: {cohen_kappa_score(y_true_multi, y_pred_multi, weights='quadratic'):.4f}\")\n",
        "                else:\n",
        "                    print(f\"\\nKlasifikasi Multi-Kelas: Tidak dapat dihitung (kurang dari 2 kelas unik).\")\n",
        "\n",
        "                if len(y_true_scores_eval) > 1:\n",
        "                    pearson_val, _ = pearsonr(y_true_scores_eval, all_predictions_scores)\n",
        "                    spearman_val, _ = spearmanr(y_true_scores_eval, all_predictions_scores)\n",
        "                    print(f\"\\nKorelasi antara Skor Aktual dan Prediksi:\")\n",
        "                    print(f\"  Pearson Correlation: {pearson_val:.4f}\")\n",
        "                    print(f\"  Spearman Correlation: {spearman_val:.4f}\")\n",
        "                else:\n",
        "                    print(\"\\nKorelasi: Tidak cukup data untuk menghitung korelasi.\")\n",
        "            else:\n",
        "                print(\"Jumlah skor aktual dan prediksi tidak sama, evaluasi lanjutan tidak dapat dilakukan.\")\n",
        "        except Exception as e:\n",
        "            print(f\"Error saat menghitung metrik evaluasi lanjutan: {e}\")\n",
        "            all_predictions_scores = None\n",
        "\n",
        "    return results_from_evaluate, all_predictions_scores\n",
        "\n",
        "# --- Pemanggilan Evaluasi ---\n",
        "if model_lstm_built and lstm_model_instance is not None:\n",
        "    print(\"\\nMemulai evaluasi model LSTM pada data test...\")\n",
        "    if 'tokenizer_lstm' in locals() and tokenizer_lstm is not None and \\\n",
        "       'X_test_lstm' in locals() and X_test_lstm is not None and \\\n",
        "       'y_test_lstm' in locals() and y_test_lstm is not None:\n",
        "        evaluation_results, all_test_predictions = evaluate_model_extended(\n",
        "            lstm_model_instance, X_test_lstm, y_test_lstm, tokenizer_lstm\n",
        "        )\n",
        "        if all_test_predictions is not None:\n",
        "            print(\"\\nMembuat plot Prediksi vs Aktual untuk data test...\")\n",
        "            try:\n",
        "                plt.figure(figsize=(10, 7))\n",
        "                plt.scatter(y_test_lstm, all_test_predictions, alpha=0.6, label='Data Prediksi', color='royalblue')\n",
        "                min_val_plot = min(y_test_lstm.min(), all_test_predictions.min())\n",
        "                max_val_plot = max(y_test_lstm.max(), all_test_predictions.max())\n",
        "                plt.plot([min_val_plot, max_val_plot], [min_val_plot, max_val_plot], 'r--', lw=2, label='Garis Ideal (Prediksi = Aktual)')\n",
        "                plt.xlabel('Skor Aktual (y_test_lstm)')\n",
        "                plt.ylabel('Skor Prediksi (LSTM Model)')\n",
        "                plt.title('Perbandingan Skor Aktual vs. Skor Prediksi LSTM pada Data Test')\n",
        "                plt.grid(True, linestyle='--', alpha=0.7)\n",
        "                plt.legend()\n",
        "                plt.show()\n",
        "            except Exception as e:\n",
        "                print(f\"Error saat membuat plot prediksi vs aktual: {e}\")\n",
        "    else:\n",
        "        print(\"Data test (X_test_lstm, y_test_lstm) atau tokenizer_lstm tidak tersedia untuk evaluasi.\")\n",
        "else:\n",
        "    print(\"\\nModel LSTM tidak tersedia untuk dievaluasi.\")"
      ],
      "metadata": {
        "id": "N_-PGp8PAEDq",
        "colab": {
          "base_uri": "https://localhost:8080/",
          "height": 1000
        },
        "outputId": "405736e3-acc1-4dd8-b054-523680b93979"
      },
      "execution_count": null,
      "outputs": [
        {
          "output_type": "stream",
          "name": "stdout",
          "text": [
            "\n",
            "Memulai evaluasi model LSTM pada data test...\n",
            "\n",
            "Melakukan evaluasi standar model.evaluate()...\n",
            "\n",
            "Hasil Evaluasi pada Data Test (dari model.evaluate):\n",
            "- Loss: 0.0106\n",
            "- Compile Metrics: 0.0761\n",
            "\n",
            "Contoh Prediksi:\n",
            "Teks Input (Disingkat)                             | Skor Aktual  | Skor Prediksi \n",
            "----------------------------------------------------------------------------------\n",
            "pertanyaan tanya jelas apa dekat simbolik antropologi... | 0.8700       | 0.8843        \n",
            "pertanyaan bagaimana ubah iklim global pengaruh distribusi... | 0.7000       | 0.7316        \n",
            "pertanyaan hukum gravitasi universal guna hitung massa... | 0.5500       | 0.7371        \n",
            "pertanyaan tanya jelas bagaimana fungsi eksekutif mungkin... | 0.8600       | 0.8855        \n",
            "pertanyaan apa jadi lama gerhana matahari total... | 0.6000       | 0.7281        \n",
            "\n",
            "Menghitung semua prediksi untuk metrik evaluasi lanjutan...\n",
            "\n",
            "\n",
            "===== EVALUASI KINERJA LANJUTAN (METRIK TAMBAHAN) =====\n",
            "\n",
            "Klasifikasi Biner (Ambang Batas Skor >= 0.6):\n",
            "  Precision: 0.9191\n",
            "  Recall: 0.9665\n",
            "  F1-Score: 0.9422\n",
            "\n",
            "Klasifikasi Multi-Kelas (0: <=0.4, 1: <=0.75, 2: >0.75):\n",
            "  Precision (weighted avg): 0.8142\n",
            "  Recall (weighted avg): 0.7696\n",
            "  F1-Score (weighted avg): 0.7746\n",
            "  Quadratic Weighted Kappa: 0.7332\n",
            "\n",
            "Korelasi antara Skor Aktual dan Prediksi:\n",
            "  Pearson Correlation: 0.8429\n",
            "  Spearman Correlation: 0.7637\n",
            "\n",
            "Membuat plot Prediksi vs Aktual untuk data test...\n"
          ]
        },
        {
          "output_type": "display_data",
          "data": {
            "text/plain": [
              "<Figure size 1000x700 with 1 Axes>"
            ],
            "image/png": "[encoded data removed]"
          },
          "metadata": {}
        }
      ]
    },
    {
      "cell_type": "code",
      "source": [
        "# --- Cell 8 Penyimpanan Model dan Artifacts ---\n",
        "\n",
        "if model_lstm_built and lstm_model_instance is not None:\n",
        "    print(\"\\nMemulai penyimpanan model LSTM dan artifacts terkait...\")\n",
        "\n",
        "    # --- Menyimpan Model LSTM Keras ---\n",
        "    path_to_save_lstm_model = os.path.join(LSTM_MODEL_DIR, 'final_lstm_model.h5') # Menggunakan LSTM_MODEL_DIR\n",
        "    try:\n",
        "        lstm_model_instance.save(path_to_save_lstm_model)\n",
        "        print(f\"- Model LSTM berhasil disimpan di: {path_to_save_lstm_model}\")\n",
        "    except Exception as e:\n",
        "         print(f\"Error saat menyimpan model LSTM: {e}\")\n",
        "\n",
        "    # --- Menyimpan Tokenizer LSTM ---\n",
        "    path_to_save_tokenizer_lstm = os.path.join(PREPROCESSING_DIR, 'tokenizer_lstm.pkl') # Menggunakan PREPROCESSING_DIR\n",
        "    if 'tokenizer_lstm' in locals() and tokenizer_lstm is not None:\n",
        "        try:\n",
        "            with open(path_to_save_tokenizer_lstm, 'wb') as f:\n",
        "                pickle.dump(tokenizer_lstm, f)\n",
        "            print(f\"- Tokenizer LSTM berhasil disimpan di: {path_to_save_tokenizer_lstm}\")\n",
        "        except Exception as e:\n",
        "            print(f\"Error saat menyimpan tokenizer LSTM: {e}\")\n",
        "    else:\n",
        "        print(\"Objek Tokenizer LSTM (tokenizer_lstm) tidak tersedia untuk disimpan.\")\n",
        "\n",
        "    # --- Menyimpan Metadata Model LSTM ---\n",
        "    try:\n",
        "        dim_embedding_lstm = actual_embedding_dim_for_lstm if 'actual_embedding_dim_for_lstm' in locals() and actual_embedding_dim_for_lstm is not None else \"N/A\"\n",
        "        metadata_for_lstm_model = {\n",
        "            'model_type': 'LSTM_Penilaian_Otomatis',\n",
        "            'keras_vocab_size': min(VOCAB_SIZE, len(tokenizer_lstm.word_index) + 1) if 'tokenizer_lstm' in locals() else VOCAB_SIZE,\n",
        "            'max_sequence_length': MAX_LENGTH,\n",
        "            'embedding_dimension_used': dim_embedding_lstm,\n",
        "            'lstm_units': 256,\n",
        "            'bidirectional': True,\n",
        "            'preprocessing_info': {\n",
        "                'stemmer': 'Sastrawi',\n",
        "                'stopword_removal': 'Sastrawi',\n",
        "                'input_text_format': 'PERTANYAAN: [teks] JAWABAN: [teks] KUNCI: [teks]'\n",
        "            },\n",
        "            'lstm_training_date': datetime.now().isoformat(),\n",
        "            'tensorflow_version': tf.__version__ if 'tf' in locals() else 'N/A',\n",
        "            'catatan': 'Model LSTM untuk penilaian jawaban esai. Bobot embedding di-freeze.'\n",
        "        }\n",
        "        # Menyimpan ke 04_LSTM_Model/model_metadata.json (sesuai file yang Anda temukan)\n",
        "        path_to_save_metadata_lstm = os.path.join(LSTM_MODEL_DIR, 'model_metadata.json')\n",
        "\n",
        "        with open(path_to_save_metadata_lstm, 'w') as f:\n",
        "            json.dump(metadata_for_lstm_model, f, indent=2)\n",
        "        print(f\"- Metadata Model LSTM berhasil disimpan di: {path_to_save_metadata_lstm}\")\n",
        "    except Exception as e:\n",
        "         print(f\"Error saat menyimpan metadata Model LSTM: {e}\")\n",
        "\n",
        "    print(\"\\nProses penyimpanan model LSTM dan artifacts selesai.\")\n",
        "else:\n",
        "    print(\"\\nModel LSTM tidak tersedia. Tidak bisa menyimpan model dan artifacts.\")"
      ],
      "metadata": {
        "id": "CCsLsofOAHmX",
        "colab": {
          "base_uri": "https://localhost:8080/"
        },
        "outputId": "22e0331d-3bca-4607-fd0c-0a3e565c8824"
      },
      "execution_count": null,
      "outputs": [
        {
          "output_type": "stream",
          "name": "stderr",
          "text": [
            "WARNING:absl:You are saving your model as an HDF5 file via `model.save()` or `keras.saving.save_model(model)`. This file format is considered legacy. We recommend using instead the native Keras format, e.g. `model.save('my_model.keras')` or `keras.saving.save_model(model, 'my_model.keras')`. \n"
          ]
        },
        {
          "output_type": "stream",
          "name": "stdout",
          "text": [
            "\n",
            "Memulai penyimpanan model LSTM dan artifacts terkait...\n",
            "- Model LSTM berhasil disimpan di: /content/drive/MyDrive/Model/04_LSTM_Model/final_lstm_model.h5\n",
            "- Tokenizer LSTM berhasil disimpan di: /content/drive/MyDrive/Model/02_Preprocessing_Artifacts/tokenizer_lstm.pkl\n",
            "- Metadata Model LSTM berhasil disimpan di: /content/drive/MyDrive/Model/04_LSTM_Model/model_metadata.json\n",
            "\n",
            "Proses penyimpanan model LSTM dan artifacts selesai.\n"
          ]
        }
      ]
    },
    {
      "cell_type": "markdown",
      "source": [
        "# **4. IMPLEMENTASI ALGORTIMA PENILAIAN**\n",
        "\n",
        "---\n",
        "\n"
      ],
      "metadata": {
        "id": "2oAnIVG84sbu"
      }
    },
    {
      "cell_type": "code",
      "source": [
        "# Pemuatan Model Embedding untuk Evaluasi\n",
        "\n",
        "# Path ke file KeyedVectors terbaik hasil fine-tuning\n",
        "# Struktur Anda: 03_Word_Embeddings/Fine_Tuned/embedding_best_kv/glove_best_similarity_keyedvectors.kv\n",
        "path_to_best_keyed_vectors = os.path.join(EMBEDDING_BEST_KV_SUBDIR, 'glove_best_similarity_keyedvectors.kv')\n",
        "\n",
        "print(f\"Mencoba memuat model KeyedVectors (untuk evaluasi similarity) dari: {path_to_best_keyed_vectors}\")\n",
        "try:\n",
        "    # Variabel ini akan digunakan oleh fungsi text_to_vector di sel berikutnya\n",
        "    embedding_model_for_similarity = KeyedVectors.load(path_to_best_keyed_vectors)\n",
        "    print(f\"Model KeyedVectors (bernama 'glove_best_similarity_keyedvectors.kv') berhasil dimuat.\")\n",
        "    print(f\"  Dimensi vektor: {embedding_model_for_similarity.vector_size}\")\n",
        "    print(f\"  Ukuran vocabulary: {len(embedding_model_for_similarity.key_to_index)}\")\n",
        "except FileNotFoundError:\n",
        "    print(f\"Error: File KeyedVectors tidak ditemukan di {path_to_best_keyed_vectors}\")\n",
        "    print(\"Pastikan proses fine-tuning embedding di Grup 2 berjalan dan menyimpan output dengan benar.\")\n",
        "    embedding_model_for_similarity = None\n",
        "except Exception as e:\n",
        "    print(f\"Error saat memuat model KeyedVectors: {e}\")\n",
        "    embedding_model_for_similarity = None"
      ],
      "metadata": {
        "id": "sT7BaZsq9jjp",
        "colab": {
          "base_uri": "https://localhost:8080/"
        },
        "outputId": "d22911bb-2286-4ba1-bbe7-0ded96112889"
      },
      "execution_count": 8,
      "outputs": [
        {
          "output_type": "stream",
          "name": "stdout",
          "text": [
            "Mencoba memuat model KeyedVectors (untuk evaluasi similarity) dari: /content/drive/MyDrive/Model/03_Word_Embeddings/Fine_Tuned/embedding_best_kv/glove_best_similarity_keyedvectors.kv\n",
            "Model KeyedVectors (bernama 'glove_best_similarity_keyedvectors.kv') berhasil dimuat.\n",
            "  Dimensi vektor: 300\n",
            "  Ukuran vocabulary: 3059\n"
          ]
        }
      ]
    },
    {
      "cell_type": "code",
      "source": [
        "# Implementasi Rouge Score\n",
        "\n",
        "def rouge_score(reference_text, student_text):\n",
        "    \"\"\"\n",
        "    Menghitung ROUGE-1 F1-score antara teks referensi dan teks siswa.\n",
        "    ROUGE-1 mengukur overlap unigram (kata tunggal).\n",
        "    \"\"\"\n",
        "    # Preprocess kedua teks untuk mendapatkan daftar token yang bersih\n",
        "    ref_words = preprocess_text(str(reference_text)) # Pastikan input adalah string\n",
        "    stu_words = preprocess_text(str(student_text))   # Pastikan input adalah string\n",
        "\n",
        "    # Jika salah satu teks kosong setelah preprocessing, ROUGE score adalah 0\n",
        "    if not ref_words or not stu_words:\n",
        "        return 0.0\n",
        "\n",
        "    # Temukan kata-kata yang sama (common unigrams)\n",
        "    common_unigrams = set(ref_words) & set(stu_words)\n",
        "\n",
        "    # Hitung recall: (jumlah kata sama) / (jumlah kata di referensi)\n",
        "    recall = len(common_unigrams) / len(ref_words)\n",
        "    # Hitung precision: (jumlah kata sama) / (jumlah kata di jawaban siswa)\n",
        "    precision = len(common_unigrams) / len(stu_words)\n",
        "\n",
        "    # Hitung F1-score (harmonic mean dari precision dan recall)\n",
        "    if (recall + precision) == 0:\n",
        "        return 0.0 # Hindari pembagian dengan nol jika precision dan recall keduanya 0\n",
        "    f1_score_rouge = 2 * (recall * precision) / (recall + precision)\n",
        "\n",
        "    return f1_score_rouge\n",
        "\n",
        "print(\"Fungsi rouge_score telah didefinisikan.\")"
      ],
      "metadata": {
        "id": "AcqBT3dp43Zj",
        "colab": {
          "base_uri": "https://localhost:8080/"
        },
        "outputId": "8d306870-b1bb-44ce-9c23-c184f451bb2d"
      },
      "execution_count": 9,
      "outputs": [
        {
          "output_type": "stream",
          "name": "stdout",
          "text": [
            "Fungsi rouge_score telah didefinisikan.\n"
          ]
        }
      ]
    },
    {
      "cell_type": "code",
      "source": [
        "# Implementasi TF-IDF Similarity\n",
        "\n",
        "def tfidf_similarity(reference_text, student_text, context_docs=None):\n",
        "    \"\"\"\n",
        "    Menghitung kemiripan kosinus TF-IDF antara teks referensi dan jawaban siswa.\n",
        "    'context_docs' adalah list of strings (dokumen) untuk menghitung IDF.\n",
        "    Jika context_docs tidak diberikan, IDF akan kurang bermakna (atau bisa di-default).\n",
        "    \"\"\"\n",
        "    ref_words = preprocess_text(str(reference_text))\n",
        "    stu_words = preprocess_text(str(student_text))\n",
        "\n",
        "    if not ref_words or not stu_words:\n",
        "        return 0.0\n",
        "\n",
        "    # Gabungkan semua kata unik dari referensi dan jawaban siswa untuk membentuk vocabulary TF-IDF\n",
        "    vocabulary = set(ref_words) | set(stu_words)\n",
        "\n",
        "    # --- Perhitungan Term Frequency (TF) ---\n",
        "    tf_ref = defaultdict(int)\n",
        "    for word in ref_words:\n",
        "        tf_ref[word] += 1\n",
        "\n",
        "    tf_stu = defaultdict(int)\n",
        "    for word in stu_words:\n",
        "        tf_stu[word] += 1\n",
        "\n",
        "    # --- Perhitungan Inverse Document Frequency (IDF) ---\n",
        "    idf = defaultdict(float)\n",
        "    # Jumlah total dokumen dalam konteks. Jika tidak ada konteks, IDF akan tinggi untuk semua kata.\n",
        "    num_docs_in_context = 0\n",
        "    processed_context_docs = []\n",
        "\n",
        "    if context_docs and isinstance(context_docs, list):\n",
        "        num_docs_in_context = len(context_docs)\n",
        "        # Preprocess semua dokumen dalam konteks sekali saja\n",
        "        processed_context_docs = [set(preprocess_text(str(doc))) for doc in context_docs]\n",
        "\n",
        "    if num_docs_in_context == 0:\n",
        "        # Jika tidak ada konteks, IDF bisa di-default ke 1 (atau log(1)=0),\n",
        "        # atau perlakukan setiap kata seolah-olah muncul di 1 dokumen \"imajiner\"\n",
        "        # agar tidak semua IDF jadi nol.\n",
        "        # Untuk saat ini, jika tidak ada konteks, IDF akan membuat kata yang langka di ref/stu jadi penting.\n",
        "        print(\"Peringatan TF-IDF: Tidak ada 'context_docs' yang valid diberikan. Skor IDF mungkin kurang representatif.\")\n",
        "        # Menggunakan smoothing sederhana jika tidak ada konteks\n",
        "        for word in vocabulary:\n",
        "            idf[word] = 1.0 # Default IDF jika tidak ada konteks\n",
        "    else:\n",
        "        for word in vocabulary:\n",
        "            docs_containing_word = 0\n",
        "            for processed_doc_set in processed_context_docs:\n",
        "                if word in processed_doc_set:\n",
        "                    docs_containing_word += 1\n",
        "            # Rumus IDF standar dengan smoothing untuk menghindari pembagian dengan nol\n",
        "            idf[word] = math.log((num_docs_in_context + 1) / (docs_containing_word + 1)) + 1 # Tambah 1 agar tidak negatif\n",
        "\n",
        "    # --- Membuat Vektor TF-IDF ---\n",
        "    # Urutkan vocabulary untuk memastikan urutan yang konsisten dalam vektor\n",
        "    sorted_vocabulary = sorted(list(vocabulary))\n",
        "\n",
        "    tfidf_vector_ref = np.array([ (tf_ref[word] / len(ref_words)) * idf[word] for word in sorted_vocabulary ]) if ref_words else np.zeros(len(sorted_vocabulary))\n",
        "    tfidf_vector_stu = np.array([ (tf_stu[word] / len(stu_words)) * idf[word] for word in sorted_vocabulary ]) if stu_words else np.zeros(len(sorted_vocabulary))\n",
        "\n",
        "    # Hitung cosine similarity antara dua vektor TF-IDF\n",
        "    return calculate_cosine_similarity(tfidf_vector_ref, tfidf_vector_stu) # Menggunakan fungsi dari sel berikutnya\n",
        "\n",
        "print(\"Fungsi tfidf_similarity telah didefinisikan.\")"
      ],
      "metadata": {
        "id": "xScd-E6O5IYQ",
        "colab": {
          "base_uri": "https://localhost:8080/"
        },
        "outputId": "8265cc11-c1ed-4b99-b975-ec4d40b272f4"
      },
      "execution_count": 10,
      "outputs": [
        {
          "output_type": "stream",
          "name": "stdout",
          "text": [
            "Fungsi tfidf_similarity telah didefinisikan.\n"
          ]
        }
      ]
    },
    {
      "cell_type": "code",
      "source": [
        "# Implementasi Cosine Similarity antar Vektor\n",
        "\n",
        "def cosine_similarity(vec1, vec2):\n",
        "    \"\"\"Menghitung cosine similarity antara dua vektor numpy.\"\"\"\n",
        "    # Pastikan input adalah numpy array dan memiliki ukuran > 0\n",
        "    if not isinstance(vec1, np.ndarray) or not isinstance(vec2, np.ndarray) or vec1.size == 0 or vec2.size == 0:\n",
        "        return 0.0\n",
        "\n",
        "    # Pastikan vektor sudah 1D (flatten jika tidak)\n",
        "    vec1 = vec1.flatten()\n",
        "    vec2 = vec2.flatten()\n",
        "\n",
        "    # Hitung dot product\n",
        "    dot = np.dot(vec1, vec2)\n",
        "\n",
        "    # Hitung norma (magnitude)\n",
        "    norm1 = np.linalg.norm(vec1)\n",
        "    norm2 = np.linalg.norm(vec2)\n",
        "\n",
        "    # Hindari pembagian dengan nol\n",
        "    if norm1 == 0 or norm2 == 0:\n",
        "        return 0.0\n",
        "\n",
        "    # Hitung dan kembalikan cosine similarity\n",
        "    return dot / (norm1 * norm2)\n",
        "\n",
        "print(\"Fungsi cosine_similarity (untuk vektor) telah didefinisikan.\")"
      ],
      "metadata": {
        "id": "aQhl_HdM5LeQ",
        "colab": {
          "base_uri": "https://localhost:8080/"
        },
        "outputId": "6ec48d85-1a27-4951-82eb-5b69e22bfb8c"
      },
      "execution_count": 11,
      "outputs": [
        {
          "output_type": "stream",
          "name": "stdout",
          "text": [
            "Fungsi cosine_similarity (untuk vektor) telah didefinisikan.\n"
          ]
        }
      ]
    },
    {
      "cell_type": "code",
      "source": [
        "# Fungsi text_to_vector menggunakan KeyedVectors\n",
        "\n",
        "def text_to_vector(text_input, keyed_vectors_model, default_vector_value=None): # Parameter ini penting\n",
        "    \"\"\"\n",
        "    Mengonversi teks yang sudah diproses menjadi vektor rata-rata\n",
        "    menggunakan model KeyedVectors yang diberikan.\n",
        "    Akan menggunakan default_vector_value jika tidak ada kata yang ditemukan atau input tidak valid.\n",
        "    \"\"\"\n",
        "    # Pastikan model KeyedVectors valid dan memiliki vector_size\n",
        "    if keyed_vectors_model is None or not hasattr(keyed_vectors_model, 'vector_size'):\n",
        "        print(\"  Peringatan (text_to_vector): Model KeyedVectors tidak valid atau tidak dimuat.\")\n",
        "        return default_vector_value.copy() if default_vector_value is not None else np.array([])\n",
        "\n",
        "    if not isinstance(text_input, str): # Pastikan teks input adalah string\n",
        "        if default_vector_value is not None: return default_vector_value.copy()\n",
        "        return np.zeros(keyed_vectors_model.vector_size)\n",
        "\n",
        "    if not text_input.strip(): # Jika teks input hanya spasi atau kosong\n",
        "        if default_vector_value is not None: return default_vector_value.copy()\n",
        "        return np.zeros(keyed_vectors_model.vector_size)\n",
        "\n",
        "    words = preprocess_text(text_input) # Preprocess teks input\n",
        "\n",
        "    word_vectors_list = []\n",
        "    if words:\n",
        "        for word in words:\n",
        "            if word in keyed_vectors_model:\n",
        "                word_vectors_list.append(keyed_vectors_model[word])\n",
        "\n",
        "    if not word_vectors_list:\n",
        "        if default_vector_value is not None: return default_vector_value.copy()\n",
        "        return np.zeros(keyed_vectors_model.vector_size)\n",
        "\n",
        "    return np.mean(word_vectors_list, axis=0)\n",
        "\n",
        "print(\"Fungsi text_to_vector (untuk KeyedVectors dengan default_vector_value) telah didefinisikan (VERSI TERBARU).\")\n",
        "\n",
        "# Contoh penggunaan (opsional, untuk pengujian):\n",
        "# if 'embedding_model_for_similarity' in locals() and embedding_model_for_similarity is not None:\n",
        "#     contoh_vektor = text_to_vector(\"ini adalah contoh kalimat\", embedding_model_for_similarity)\n",
        "#     print(f\"\\nContoh vektor untuk 'ini adalah contoh kalimat': {contoh_vektor[:5]}...\") # Cetak 5 elemen pertama\n",
        "# else:\n",
        "#     print(\"\\nTidak dapat menjalankan contoh text_to_vector karena embedding_model_for_similarity tidak dimuat.\")"
      ],
      "metadata": {
        "id": "U4Cas9M45Wt7",
        "colab": {
          "base_uri": "https://localhost:8080/"
        },
        "outputId": "806a519a-3334-484c-8fdf-2802367964fb"
      },
      "execution_count": 12,
      "outputs": [
        {
          "output_type": "stream",
          "name": "stdout",
          "text": [
            "Fungsi text_to_vector (untuk KeyedVectors dengan default_vector_value) telah didefinisikan (VERSI TERBARU).\n"
          ]
        }
      ]
    },
    {
      "cell_type": "markdown",
      "source": [
        "# **5. INPUT DATA DAN EVALUASI**\n",
        "\n",
        "---\n",
        "\n"
      ],
      "metadata": {
        "id": "8KC8jAD74v1u"
      }
    },
    {
      "cell_type": "markdown",
      "source": [
        "## **5.1 Persiapan Komponen Evaluasi Akhir**\n",
        "\n",
        "---\n",
        "\n"
      ],
      "metadata": {
        "id": "pD2WwKNQ-JmD"
      }
    },
    {
      "cell_type": "code",
      "source": [
        "# Cell 1 Pemuatan Model dan Artifacts untuk Evaluasi Akhir\n",
        "\n",
        "# 1. Memuat Model Embedding (KeyedVectors terbaik hasil fine-tuning) - Opsional jika hanya menggunakan pretrained besar untuk cosine\n",
        "path_best_keyed_vectors = os.path.join(EMBEDDING_BEST_KV_SUBDIR, 'glove_best_similarity_keyedvectors.kv')\n",
        "try:\n",
        "    embedding_model_finetuned_kv_eval = KeyedVectors.load(path_best_keyed_vectors)\n",
        "    print(f\"Model Embedding Fine-tuned (KeyedVectors) berhasil dimuat dari: {path_best_keyed_vectors}\")\n",
        "    print(f\"  Dimensi vektor: {embedding_model_finetuned_kv_eval.vector_size}, Vocab: {len(embedding_model_finetuned_kv_eval.key_to_index)}\")\n",
        "except FileNotFoundError:\n",
        "    print(f\"Info: File KeyedVectors fine-tuned '{path_best_keyed_vectors}' tidak ditemukan. Ini opsional jika kita menggunakan pretrained untuk cosine.\")\n",
        "    embedding_model_finetuned_kv_eval = None\n",
        "except Exception as e:\n",
        "    print(f\"Error saat memuat KeyedVectors fine-tuned dari '{path_best_keyed_vectors}': {e}\")\n",
        "    embedding_model_finetuned_kv_eval = None\n",
        "\n",
        "# 1.A. MEMUAT MODEL EMBEDDING PRE-TRAINED ASLI (cc.id.300.vec) UNTUK COSINE SIMILARITY\n",
        "path_pretrained_for_cosine = os.path.join(PRETRAINED_EMBEDDING_DIR, 'cc.id.300.vec')\n",
        "try:\n",
        "    embedding_model_large_vocab_eval = KeyedVectors.load_word2vec_format(path_pretrained_for_cosine, binary=False)\n",
        "    print(f\"Model Embedding Pre-trained (untuk Cosine Sim) berhasil dimuat dari: {path_pretrained_for_cosine}\")\n",
        "    print(f\"  Dimensi vektor: {embedding_model_large_vocab_eval.vector_size}, Vocab: {len(embedding_model_large_vocab_eval.key_to_index)}\")\n",
        "    if embedding_model_large_vocab_eval.vectors.size > 0:\n",
        "        mean_vector_for_large_vocab = np.mean(embedding_model_large_vocab_eval.vectors, axis=0)\n",
        "    else:\n",
        "        mean_vector_for_large_vocab = np.zeros(embedding_model_large_vocab_eval.vector_size)\n",
        "    print(\"  Mean vector untuk model pre-trained (besar) telah dihitung.\")\n",
        "except FileNotFoundError:\n",
        "    print(f\"Error KRUSIAL: File Embedding Pre-trained '{path_pretrained_for_cosine}' TIDAK ditemukan.\")\n",
        "    embedding_model_large_vocab_eval = None\n",
        "    mean_vector_for_large_vocab = None\n",
        "except Exception as e:\n",
        "    print(f\"Error saat memuat Embedding Pre-trained dari '{path_pretrained_for_cosine}': {e}\")\n",
        "    embedding_model_large_vocab_eval = None\n",
        "    mean_vector_for_large_vocab = None\n",
        "\n",
        "# 2. Memuat Model LSTM yang sudah dilatih\n",
        "path_lstm_model_eval = os.path.join(LSTM_MODEL_DIR, 'final_lstm_model.h5')\n",
        "try:\n",
        "    lstm_model_eval = load_model(path_lstm_model_eval)\n",
        "    print(f\"Model LSTM berhasil dimuat dari: {path_lstm_model_eval}\")\n",
        "except FileNotFoundError:\n",
        "    print(f\"Error KRUSIAL: File model LSTM '{path_lstm_model_eval}' TIDAK ditemukan.\")\n",
        "    lstm_model_eval = None\n",
        "except Exception as e:\n",
        "    print(f\"Error saat memuat model LSTM dari '{path_lstm_model_eval}': {e}\")\n",
        "    lstm_model_eval = None\n",
        "\n",
        "# 3. Memuat Tokenizer LSTM\n",
        "path_tokenizer_eval = os.path.join(PREPROCESSING_DIR, 'tokenizer_lstm.pkl')\n",
        "try:\n",
        "    with open(path_tokenizer_eval, 'rb') as f:\n",
        "        tokenizer_eval = pickle.load(f)\n",
        "    print(f\"Tokenizer LSTM berhasil dimuat dari: {path_tokenizer_eval}\")\n",
        "except FileNotFoundError:\n",
        "    print(f\"Error KRUSIAL: File tokenizer LSTM '{path_tokenizer_eval}' TIDAK ditemukan.\")\n",
        "    tokenizer_eval = None\n",
        "except Exception as e:\n",
        "    print(f\"Error saat memuat tokenizer LSTM dari '{path_tokenizer_eval}': {e}\")\n",
        "    tokenizer_eval = None\n",
        "\n",
        "# 4. Mengatur MAX_LENGTH agar konsisten dengan training LSTM\n",
        "if 'MAX_LENGTH' not in globals():\n",
        "    MAX_LENGTH_EVAL = 150\n",
        "    print(f\"Peringatan: MAX_LENGTH global tidak ditemukan, menggunakan MAX_LENGTH_EVAL = {MAX_LENGTH_EVAL}\")\n",
        "else:\n",
        "    MAX_LENGTH_EVAL = MAX_LENGTH\n",
        "    print(f\"Menggunakan MAX_LENGTH (dari training LSTM): {MAX_LENGTH_EVAL}\")\n",
        "\n",
        "# Pengecekan akhir untuk komponen KRUSIAL\n",
        "if not all([embedding_model_large_vocab_eval, lstm_model_eval, tokenizer_eval, mean_vector_for_large_vocab is not None]):\n",
        "    print(\"\\nPERINGATAN BESAR: Satu atau lebih komponen KRUSIAL untuk evaluasi gagal dimuat. Harap periksa path dan file.\")\n",
        "else:\n",
        "    print(\"\\nSemua model dan tokenizer krusial untuk evaluasi akhir berhasil dimuat dan siap digunakan.\")"
      ],
      "metadata": {
        "id": "htm266blQ5PM",
        "colab": {
          "base_uri": "https://localhost:8080/"
        },
        "outputId": "16d14cfb-188b-4cd9-e086-61a70487c453"
      },
      "execution_count": 13,
      "outputs": [
        {
          "output_type": "stream",
          "name": "stdout",
          "text": [
            "Model Embedding Fine-tuned (KeyedVectors) berhasil dimuat dari: /content/drive/MyDrive/Model/03_Word_Embeddings/Fine_Tuned/embedding_best_kv/glove_best_similarity_keyedvectors.kv\n",
            "  Dimensi vektor: 300, Vocab: 3059\n",
            "Model Embedding Pre-trained (untuk Cosine Sim) berhasil dimuat dari: /content/drive/MyDrive/Model/03_Word_Embeddings/Pretrained/cc.id.300.vec\n",
            "  Dimensi vektor: 300, Vocab: 2000000\n",
            "  Mean vector untuk model pre-trained (besar) telah dihitung.\n"
          ]
        },
        {
          "output_type": "stream",
          "name": "stderr",
          "text": [
            "WARNING:absl:Compiled the loaded model, but the compiled metrics have yet to be built. `model.compile_metrics` will be empty until you train or evaluate the model.\n"
          ]
        },
        {
          "output_type": "stream",
          "name": "stdout",
          "text": [
            "Model LSTM berhasil dimuat dari: /content/drive/MyDrive/Model/04_LSTM_Model/final_lstm_model.h5\n",
            "Tokenizer LSTM berhasil dimuat dari: /content/drive/MyDrive/Model/02_Preprocessing_Artifacts/tokenizer_lstm.pkl\n",
            "Peringatan: MAX_LENGTH global tidak ditemukan, menggunakan MAX_LENGTH_EVAL = 150\n",
            "\n",
            "Semua model dan tokenizer krusial untuk evaluasi akhir berhasil dimuat dan siap digunakan.\n"
          ]
        }
      ]
    },
    {
      "cell_type": "markdown",
      "source": [
        "## **5.2 Evaluasi**\n",
        "\n",
        "---\n",
        "\n"
      ],
      "metadata": {
        "id": "2vY6hsOH-TbS"
      }
    },
    {
      "cell_type": "code",
      "source": [
        "# Cell 2 (Grup 5 - Definisi Fungsi evaluate_answer - DENGAN DUA THRESHOLD SCALING)\n",
        "\n",
        "print(\"\\n--- Tahap 2 (Grup 5): Mendefinisikan Fungsi evaluate_answer (versi Dua Threshold Scaling) ---\")\n",
        "\n",
        "def evaluate_answer(jawaban_siswa_text, soal_text, kata_kunci_list,\n",
        "                    embedding_model_for_cosine,\n",
        "                    mean_vector_for_cosine,\n",
        "                    lstm_model_param,\n",
        "                    keras_tokenizer_param,\n",
        "                    max_len_param):\n",
        "    \"\"\"\n",
        "    Mengevaluasi jawaban siswa dengan bobot dinamis dan dua kemungkinan threshold scaling.\n",
        "    \"\"\"\n",
        "    if not all([embedding_model_for_cosine, lstm_model_param, keras_tokenizer_param, mean_vector_for_cosine is not None]):\n",
        "        print(\"  Peringatan di evaluate_answer: Model/tokenizer/mean_vector penting tidak valid. Mengembalikan skor 0.\")\n",
        "        return 0.0\n",
        "\n",
        "    reference_text_for_metrics = str(soal_text)\n",
        "\n",
        "    # 1. Hitung Skor ROUGE\n",
        "    skor_rouge = rouge_score(reference_text_for_metrics, str(jawaban_siswa_text))\n",
        "\n",
        "    # 2. Hitung Skor TF-IDF\n",
        "    context_for_tfidf = [reference_text_for_metrics] + [str(kw) for kw in kata_kunci_list]\n",
        "    skor_tfidf = tfidf_similarity(reference_text_for_metrics, str(jawaban_siswa_text), context_docs=context_for_tfidf)\n",
        "\n",
        "    # 3. Hitung Skor Cosine Embedding\n",
        "    vector_jawaban = text_to_vector(str(jawaban_siswa_text), embedding_model_for_cosine, default_vector_value=mean_vector_for_cosine)\n",
        "    vector_ref_cosine = text_to_vector(reference_text_for_metrics, embedding_model_for_cosine, default_vector_value=mean_vector_for_cosine)\n",
        "    skor_cosine_embedding = calculate_cosine_similarity(vector_jawaban, vector_ref_cosine)\n",
        "\n",
        "    # 4. Dapatkan Skor dari Model LSTM\n",
        "    processed_jawaban_for_lstm = preprocess_text(str(jawaban_siswa_text))\n",
        "    skor_lstm_pred = 0.0\n",
        "    if not processed_jawaban_for_lstm:\n",
        "        print(\"  Peringatan: Jawaban siswa kosong setelah preprocessing. Skor LSTM diatur ke 0.\")\n",
        "        pass\n",
        "    else:\n",
        "        try:\n",
        "            sequence_lstm_input = keras_tokenizer_param.texts_to_sequences([\" \".join(processed_jawaban_for_lstm)])\n",
        "            padded_sequence_lstm_input = pad_sequences(sequence_lstm_input, maxlen=max_len_param, padding='post', truncating='post')\n",
        "            skor_lstm_pred = lstm_model_param.predict(padded_sequence_lstm_input, verbose=0)[0][0]\n",
        "        except Exception as e:\n",
        "            print(f\"  Error saat prediksi LSTM: {e}. Skor LSTM diatur ke 0.\")\n",
        "            skor_lstm_pred = 0.0\n",
        "\n",
        "    # --- Logika Pembobotan Dinamis (Bobot terakhir yang Anda gunakan) ---\n",
        "    if skor_rouge <= 0.01 and skor_tfidf <= 0.01:\n",
        "        # Skenario A: ROUGE/TF-IDF sangat rendah\n",
        "        # print(\"    Info: Skor ROUGE & TF-IDF sangat rendah. Menggunakan bobot alternatif.\")\n",
        "        bobot_rouge_final = 0.00\n",
        "        bobot_tfidf_final = 0.00\n",
        "        bobot_cosine_final = 0.40 # Anda bisa sesuaikan ini jika perlu\n",
        "        bobot_lstm_final = 0.60   # Anda bisa sesuaikan ini jika perlu\n",
        "    else:\n",
        "        # Skenario B: ROUGE atau TF-IDF punya nilai\n",
        "        # print(\"    Info: Menggunakan bobot default.\")\n",
        "        bobot_rouge_final = 0.05\n",
        "        bobot_tfidf_final = 0.05\n",
        "        bobot_cosine_final = 0.25\n",
        "        bobot_lstm_final = 0.65\n",
        "\n",
        "    skor_akhir_gabungan = (skor_rouge * bobot_rouge_final) + \\\n",
        "                          (skor_tfidf * bobot_tfidf_final) + \\\n",
        "                          (skor_cosine_embedding * bobot_cosine_final) + \\\n",
        "                          (skor_lstm_pred * bobot_lstm_final)\n",
        "    skor_akhir_gabungan = max(0.0, min(1.0, skor_akhir_gabungan))\n",
        "\n",
        "    skor_sebelum_scaling = skor_akhir_gabungan\n",
        "\n",
        "    # --- STRATEGI SCALING NON-LINEAR DENGAN DUA KEMUNGKINAN THRESHOLD ---\n",
        "    skor_setelah_scaling = skor_akhir_gabungan # Inisialisasi\n",
        "\n",
        "    # Kemungkinan 1: Untuk nilai menengah yang ingin sedikit diangkat\n",
        "    threshold_scaling_menengah = 0.55\n",
        "    faktor_angkat_menengah = 0.20 # Sedikit mengangkat (bisa disesuaikan, misal 0.20 atau 0.30)\n",
        "\n",
        "    # Kemungkinan 2: Untuk nilai tinggi yang ingin diangkat lebih signifikan\n",
        "    threshold_scaling_tinggi = 0.62 # Skor di atas ini dianggap sudah cukup bagus\n",
        "    faktor_angkat_tinggi = 0.40   # Mengangkat lebih kuat (bisa disesuaikan, misal 0.35 atau 0.45)\n",
        "\n",
        "    if skor_akhir_gabungan > threshold_scaling_tinggi:\n",
        "        # Terapkan scaling untuk nilai tinggi\n",
        "        sisa_jarak_ke_satu = 1.0 - skor_akhir_gabungan\n",
        "        penambahan_skor = sisa_jarak_ke_satu * faktor_angkat_tinggi\n",
        "        skor_setelah_scaling = skor_akhir_gabungan + penambahan_skor\n",
        "        print(f\"    Info Scaling Tinggi: Skor Gab. Awal={skor_sebelum_scaling:.4f} > Thresh={threshold_scaling_tinggi:.2f}. Dinaikkan (Faktor: {faktor_angkat_tinggi:.2f})\")\n",
        "    elif skor_akhir_gabungan > threshold_scaling_menengah:\n",
        "        # Terapkan scaling untuk nilai menengah\n",
        "        sisa_jarak_ke_satu = 1.0 - skor_akhir_gabungan\n",
        "        penambahan_skor = sisa_jarak_ke_satu * faktor_angkat_menengah\n",
        "        skor_setelah_scaling = skor_akhir_gabungan + penambahan_skor\n",
        "        print(f\"    Info Scaling Menengah: Skor Gab. Awal={skor_sebelum_scaling:.4f} > Thresh={threshold_scaling_menengah:.2f}. Dinaikkan (Faktor: {faktor_angkat_menengah:.2f})\")\n",
        "    # Jika di bawah threshold_scaling_menengah, skor tidak di-scale (skor_setelah_scaling tetap sama dengan skor_akhir_gabungan)\n",
        "\n",
        "    skor_akhir_final = max(0.0, min(1.0, skor_setelah_scaling)) # Pastikan 0-1 lagi setelah scaling\n",
        "\n",
        "    print(f\"    Detail Skor: ROUGE={skor_rouge:.4f} (B:{bobot_rouge_final:.2f}), \"\n",
        "          f\"TF-IDF={skor_tfidf:.4f} (B:{bobot_tfidf_final:.2f}), \"\n",
        "          f\"CosEmb={skor_cosine_embedding:.4f} (B:{bobot_cosine_final:.2f}), \"\n",
        "          f\"LSTM={skor_lstm_pred:.4f} (B:{bobot_lstm_final:.2f}) -> Gabungan={skor_sebelum_scaling:.4f} -> Scaled Akhir={skor_akhir_final:.4f}\")\n",
        "\n",
        "    return float(skor_akhir_final)\n",
        "\n",
        "print(\"Fungsi evaluate_answer (DENGAN DUA THRESHOLD SCALING) telah didefinisikan.\")"
      ],
      "metadata": {
        "id": "rqL33ooIOAjb",
        "colab": {
          "base_uri": "https://localhost:8080/"
        },
        "outputId": "3ab46378-c327-4c5e-832e-c2e4591b2ec4"
      },
      "execution_count": 63,
      "outputs": [
        {
          "output_type": "stream",
          "name": "stdout",
          "text": [
            "\n",
            "--- Tahap 2 (Grup 5): Mendefinisikan Fungsi evaluate_answer (versi Dua Threshold Scaling) ---\n",
            "Fungsi evaluate_answer (DENGAN DUA THRESHOLD SCALING) telah didefinisikan.\n"
          ]
        }
      ]
    },
    {
      "cell_type": "code",
      "source": [
        "# Cell 3 (Grup 5 - Membaca dan Mem-parsing File input_soal.txt - Tanpa Kunci Jawaban Ideal)\n",
        "\n",
        "print(\"\\n--- Tahap 3 (Grup 5): Mempersiapkan Input dari File .txt ---\")\n",
        "\n",
        "def parse_input_soal_file(file_path):\n",
        "    \"\"\"\n",
        "    Membaca dan mem-parsing file input_soal.txt untuk mendapatkan daftar tugas evaluasi.\n",
        "    Setiap tugas berisi pertanyaan, jawaban siswa, dan kata kunci (opsional).\n",
        "    \"\"\"\n",
        "    tasks = []\n",
        "    try:\n",
        "        with open(file_path, 'r', encoding='utf-8') as f:\n",
        "            content = f.read()\n",
        "    except FileNotFoundError:\n",
        "        print(f\"  Error: File input soal tidak ditemukan di {file_path}\")\n",
        "        return tasks\n",
        "    except Exception as e:\n",
        "        print(f\"  Error saat membaca file {file_path}: {e}\")\n",
        "        return tasks\n",
        "\n",
        "    content_cleaned = re.sub(r'\\\\\\s*', '', content)\n",
        "    # Memisahkan berdasarkan dua atau lebih baris baru (untuk memisahkan blok soal)\n",
        "    blocks = re.split(r'\\n\\s*\\n+', content_cleaned.strip())\n",
        "\n",
        "    for i, block in enumerate(blocks):\n",
        "        if not block.strip(): # Lewati blok kosong\n",
        "            continue\n",
        "        current_task = {\n",
        "            \"id_soal\": f\"InputFile_{i+1:03d}\", # Membuat ID soal otomatis\n",
        "            \"pertanyaan\": \"\",\n",
        "            # \"kunci_jawaban_ideal\": \"\", # Dihilangkan karena tidak ada di input file\n",
        "            \"jawaban_siswa\": \"\",\n",
        "            \"kata_kunci\": []     # Default list kosong\n",
        "        }\n",
        "        for line in block.strip().split('\\n'):\n",
        "            line = line.strip()\n",
        "            if line.lower().startswith(\"pertanyaan:\"):\n",
        "                current_task[\"pertanyaan\"] = line.split(\":\", 1)[1].strip()\n",
        "            # Tidak lagi mem-parsing \"kunci jawaban ideal:\"\n",
        "            elif line.lower().startswith(\"jawaban:\"):\n",
        "                current_task[\"jawaban_siswa\"] = line.split(\":\", 1)[1].strip()\n",
        "            elif line.lower().startswith(\"kata kunci:\"):\n",
        "                keywords_str = line.split(\":\", 1)[1].strip()\n",
        "                current_task[\"kata_kunci\"] = [kw.strip() for kw in keywords_str.split(',') if kw.strip()]\n",
        "\n",
        "        # Hanya tambahkan task jika pertanyaan dan jawaban siswa ada (minimal)\n",
        "        if current_task[\"pertanyaan\"] and current_task[\"jawaban_siswa\"]:\n",
        "            tasks.append(current_task)\n",
        "        else:\n",
        "            print(f\"  Peringatan: Blok soal ke-{i+1} di file '{os.path.basename(file_path)}' tidak memiliki 'Pertanyaan:' dan 'Jawaban:' yang valid. Dilewati.\")\n",
        "\n",
        "    return tasks\n",
        "\n",
        "# Path ke file input_soal.txt Anda\n",
        "path_input_file_eval = os.path.join(DATASET_DIR, 'input_soal.txt')\n",
        "print(f\"Membaca dan mem-parsing file input: {path_input_file_eval}\")\n",
        "\n",
        "tasks_to_evaluate_final = parse_input_soal_file(path_input_file_eval)\n",
        "\n",
        "if not tasks_to_evaluate_final:\n",
        "    print(\"\\nTidak ada tugas evaluasi yang berhasil diparsing. Periksa file input atau path.\")\n",
        "else:\n",
        "    print(f\"\\nBerhasil mem-parsing {len(tasks_to_evaluate_final)} tugas evaluasi dari '{os.path.basename(path_input_file_eval)}'.\")\n",
        "    if tasks_to_evaluate_final: # Cetak contoh jika ada tugas\n",
        "        print(\"Contoh tugas pertama yang diparsing:\")\n",
        "        print(json.dumps(tasks_to_evaluate_final[0], indent=2, ensure_ascii=False))"
      ],
      "metadata": {
        "id": "ed6gVQsrOKQt",
        "colab": {
          "base_uri": "https://localhost:8080/"
        },
        "outputId": "74932ff5-6aa5-4087-8600-93f8a76b854a"
      },
      "execution_count": 57,
      "outputs": [
        {
          "output_type": "stream",
          "name": "stdout",
          "text": [
            "\n",
            "--- Tahap 3 (Grup 5): Mempersiapkan Input dari File .txt ---\n",
            "Membaca dan mem-parsing file input: /content/drive/MyDrive/Model/01_Dataset/input_soal.txt\n",
            "\n",
            "Berhasil mem-parsing 10 tugas evaluasi dari 'input_soal.txt'.\n",
            "Contoh tugas pertama yang diparsing:\n",
            "{\n",
            "  \"id_soal\": \"InputFile_001\",\n",
            "  \"pertanyaan\": \"Jelaskan secara detail proses siklus karbon di alam!\",\n",
            "  \"jawaban_siswa\": \"Siklus karbon melibatkan perpindahan karbon antara atmosfer, lautan, daratan, dan makhluk hidup. Tumbuhan menyerap CO2 melalui fotosintesis, hewan memakan tumbuhan, dan keduanya melepaskan CO2 melalui respirasi. Dekomposisi organisme mati juga mengembalikan karbon ke tanah dan atmosfer. Aktivitas manusia seperti pembakaran bahan bakar fosil menambah CO2 ke atmosfer secara signifikan.\",\n",
            "  \"kata_kunci\": [\n",
            "    \"atmosfer\",\n",
            "    \"fotosintesis\",\n",
            "    \"respirasi\",\n",
            "    \"dekomposisi\",\n",
            "    \"bahan bakar fosil\"\n",
            "  ]\n",
            "}\n"
          ]
        }
      ]
    },
    {
      "cell_type": "code",
      "source": [
        "# Cell 4 (Grup 5 - Loop Evaluasi dari Data yang Diparsing dan Penyimpanan Hasil)\n",
        "\n",
        "print(\"\\n--- Tahap 4 (Grup 5): Memulai Proses Evaluasi Jawaban ---\")\n",
        "hasil_penilaian_akhir = [] # List untuk menyimpan semua hasil\n",
        "\n",
        "# Pengecekan terakhir sebelum loop evaluasi\n",
        "if not all([embedding_model_large_vocab_eval, lstm_model_eval, tokenizer_eval,\n",
        "            mean_vector_for_large_vocab is not None, 'MAX_LENGTH_EVAL' in globals()]):\n",
        "    print(\"Evaluasi tidak dapat dilanjutkan karena satu atau lebih komponen penting tidak dimuat/didefinisikan dengan benar.\")\n",
        "elif not tasks_to_evaluate_final: # tasks_to_evaluate_final dari Cell 3 di atas\n",
        "    print(\"Tidak ada tugas untuk dievaluasi (data parsing dari file .txt gagal atau file kosong).\")\n",
        "else:\n",
        "    for i, task_item in enumerate(tasks_to_evaluate_final):\n",
        "        print(f\"\\nMengevaluasi Tugas ID: {task_item.get('id_soal', f'Index_{i+1}')}\")\n",
        "\n",
        "        soal_eval = task_item.get(\"pertanyaan\", \"\")\n",
        "        jawaban_siswa_eval = task_item.get(\"jawaban_siswa\", \"\")\n",
        "        kata_kunci_eval = task_item.get(\"kata_kunci\", [])\n",
        "        # kunci_jawaban_ideal_eval tidak lagi diambil karena sudah dihapus dari parser\n",
        "\n",
        "        print(f\"  Soal (awal): {soal_eval[:80]}...\")\n",
        "\n",
        "        if not jawaban_siswa_eval.strip():\n",
        "            print(\"  Peringatan: Jawaban siswa untuk tugas ini kosong. Skor akan dihitung sebagai 0.\")\n",
        "            skor_final_eval = 0.0\n",
        "        else:\n",
        "            # Panggil fungsi evaluate_answer dengan semua parameter yang dibutuhkan\n",
        "            # Tidak lagi meneruskan kunci_jawaban_ideal_text\n",
        "            skor_final_eval = evaluate_answer(\n",
        "                jawaban_siswa_text=jawaban_siswa_eval,\n",
        "                soal_text=soal_eval,\n",
        "                kata_kunci_list=kata_kunci_eval,\n",
        "                embedding_model_for_cosine=embedding_model_large_vocab_eval,\n",
        "                mean_vector_for_cosine=mean_vector_for_large_vocab,\n",
        "                lstm_model_param=lstm_model_eval,\n",
        "                keras_tokenizer_param=tokenizer_eval,\n",
        "                max_len_param=MAX_LENGTH_EVAL\n",
        "            )\n",
        "\n",
        "        hasil_penilaian_akhir.append({\n",
        "            \"id_soal\": task_item.get(\"id_soal\", f\"Index_{i+1}\"),\n",
        "            \"soal\": soal_eval,\n",
        "            \"jawaban_siswa_input\": jawaban_siswa_eval,\n",
        "            \"kata_kunci_input\": kata_kunci_eval,\n",
        "            \"skor_total_numerik\": skor_final_eval,\n",
        "            \"skor_total_persen\": f\"{skor_final_eval * 100:.2f}\"\n",
        "        })\n",
        "        print(f\"  Skor Total Gabungan untuk Tugas '{task_item.get('id_soal', '')}': {skor_final_eval * 100:.2f}/100\")\n",
        "\n",
        "# --- Cetak dan Simpan Hasil Penilaian Akhir ---\n",
        "print(\"\\n\\n===== HASIL PENILAIAN AKHIR (dari input_soal.txt) =====\")\n",
        "if not hasil_penilaian_akhir:\n",
        "    print(\"Tidak ada hasil penilaian untuk ditampilkan.\")\n",
        "else:\n",
        "    try:\n",
        "        df_hasil = pd.DataFrame(hasil_penilaian_akhir)\n",
        "        print(df_hasil[['id_soal', 'soal', 'skor_total_persen']].to_string(index=False))\n",
        "    except Exception as e:\n",
        "        print(f\"Error membuat DataFrame dengan Pandas: {e}. Mencetak hasil secara manual:\")\n",
        "        for hasil_item in hasil_penilaian_akhir:\n",
        "            print(f\"\\nID Tugas: {hasil_item['id_soal']}\")\n",
        "            print(f\"Soal: {hasil_item['soal']}\")\n",
        "            print(f\"Kata Kunci: {', '.join(hasil_item['kata_kunci_input']) if hasil_item['kata_kunci_input'] else '-'}\")\n",
        "            print(f\"Skor Total: {hasil_item['skor_total_persen']}/100\")\n",
        "            print(\"-\" * 40)\n",
        "\n",
        "# Opsional: Menyimpan hasil_penilaian_akhir ke file JSON baru di folder Logs\n",
        "# path_output_hasil_evaluasi = os.path.join(LOGS_DIR, 'hasil_evaluasi_akhir.json') # Nama file output bisa diubah\n",
        "# try:\n",
        "#     with open(path_output_hasil_evaluasi, 'w', encoding='utf-8') as f_out:\n",
        "#        json.dump(hasil_penilaian_akhir, f_out, indent=2, ensure_ascii=False)\n",
        "#     print(f\"\\nHasil penilaian akhir juga disimpan dalam format JSON di: {path_output_hasil_evaluasi}\")\n",
        "# except Exception as e:\n",
        "#     print(f\"Gagal menyimpan hasil penilaian akhir ke JSON: {e}\")\n",
        "\n",
        "print(\"\\n--- Grup 5 Selesai ---\")"
      ],
      "metadata": {
        "colab": {
          "base_uri": "https://localhost:8080/"
        },
        "id": "stnL1IZ42rx8",
        "outputId": "453ca7d6-a2ba-4f0b-d256-3dee215397a6"
      },
      "execution_count": 64,
      "outputs": [
        {
          "output_type": "stream",
          "name": "stdout",
          "text": [
            "\n",
            "--- Tahap 4 (Grup 5): Memulai Proses Evaluasi Jawaban ---\n",
            "\n",
            "Mengevaluasi Tugas ID: InputFile_001\n",
            "  Soal (awal): Jelaskan secara detail proses siklus karbon di alam!...\n",
            "    Info Scaling Tinggi: Skor Gab. Awal=0.6695 > Thresh=0.62. Dinaikkan (Faktor: 0.40)\n",
            "    Detail Skor: ROUGE=0.0870 (B:0.05), TF-IDF=0.1726 (B:0.05), CosEmb=0.7810 (B:0.25), LSTM=0.7097 (B:0.65) -> Gabungan=0.6695 -> Scaled Akhir=0.8017\n",
            "  Skor Total Gabungan untuk Tugas 'InputFile_001': 80.17/100\n",
            "\n",
            "Mengevaluasi Tugas ID: InputFile_002\n",
            "  Soal (awal): Apa saja komponen utama dalam sistem tata surya kita dan sebutkan urutan planet ...\n",
            "    Info Scaling Menengah: Skor Gab. Awal=0.5772 > Thresh=0.55. Dinaikkan (Faktor: 0.20)\n",
            "    Detail Skor: ROUGE=0.2581 (B:0.05), TF-IDF=0.2615 (B:0.05), CosEmb=0.7539 (B:0.25), LSTM=0.5580 (B:0.65) -> Gabungan=0.5772 -> Scaled Akhir=0.6617\n",
            "  Skor Total Gabungan untuk Tugas 'InputFile_002': 66.17/100\n",
            "\n",
            "Mengevaluasi Tugas ID: InputFile_003\n",
            "  Soal (awal): Deskripsikan tiga teori utama mengenai asal usul kehidupan di Bumi!...\n",
            "    Info Scaling Menengah: Skor Gab. Awal=0.6105 > Thresh=0.55. Dinaikkan (Faktor: 0.20)\n",
            "    Detail Skor: ROUGE=0.0588 (B:0.05), TF-IDF=0.0486 (B:0.05), CosEmb=0.8324 (B:0.25), LSTM=0.6108 (B:0.65) -> Gabungan=0.6105 -> Scaled Akhir=0.6884\n",
            "  Skor Total Gabungan untuk Tugas 'InputFile_003': 68.84/100\n",
            "\n",
            "Mengevaluasi Tugas ID: InputFile_004\n",
            "  Soal (awal): Apa yang dimaksud dengan inflasi dalam konteks ekonomi dan sebutkan dua penyebab...\n",
            "    Detail Skor: ROUGE=0.0667 (B:0.05), TF-IDF=0.0480 (B:0.05), CosEmb=0.6981 (B:0.25), LSTM=0.3626 (B:0.65) -> Gabungan=0.4159 -> Scaled Akhir=0.4159\n",
            "  Skor Total Gabungan untuk Tugas 'InputFile_004': 41.59/100\n",
            "\n",
            "Mengevaluasi Tugas ID: InputFile_005\n",
            "  Soal (awal): Jelaskan perbedaan antara cuaca dan iklim!...\n",
            "    Info Scaling Menengah: Skor Gab. Awal=0.6146 > Thresh=0.55. Dinaikkan (Faktor: 0.20)\n",
            "    Detail Skor: ROUGE=0.1818 (B:0.05), TF-IDF=0.2561 (B:0.05), CosEmb=0.7996 (B:0.25), LSTM=0.6044 (B:0.65) -> Gabungan=0.6146 -> Scaled Akhir=0.6917\n",
            "  Skor Total Gabungan untuk Tugas 'InputFile_005': 69.17/100\n",
            "\n",
            "Mengevaluasi Tugas ID: InputFile_006\n",
            "  Soal (awal): Apa itu energi terbarukan dan berikan tiga contohnya?...\n",
            "    Info Scaling Tinggi: Skor Gab. Awal=0.6503 > Thresh=0.62. Dinaikkan (Faktor: 0.40)\n",
            "    Detail Skor: ROUGE=0.2105 (B:0.05), TF-IDF=0.1926 (B:0.05), CosEmb=0.7906 (B:0.25), LSTM=0.6654 (B:0.65) -> Gabungan=0.6503 -> Scaled Akhir=0.7902\n",
            "  Skor Total Gabungan untuk Tugas 'InputFile_006': 79.02/100\n",
            "\n",
            "Mengevaluasi Tugas ID: InputFile_007\n",
            "  Soal (awal): Bagaimana cara kerja vaksin dalam meningkatkan sistem kekebalan tubuh?...\n",
            "    Info Scaling Menengah: Skor Gab. Awal=0.6175 > Thresh=0.55. Dinaikkan (Faktor: 0.20)\n",
            "    Detail Skor: ROUGE=0.0714 (B:0.05), TF-IDF=0.0537 (B:0.05), CosEmb=0.7816 (B:0.25), LSTM=0.6398 (B:0.65) -> Gabungan=0.6175 -> Scaled Akhir=0.6940\n",
            "  Skor Total Gabungan untuk Tugas 'InputFile_007': 69.40/100\n",
            "\n",
            "Mengevaluasi Tugas ID: InputFile_008\n",
            "  Soal (awal): Sebutkan dampak positif dan negatif dari penggunaan internet dalam kehidupan seh...\n",
            "    Info Scaling Tinggi: Skor Gab. Awal=0.6205 > Thresh=0.62. Dinaikkan (Faktor: 0.40)\n",
            "    Detail Skor: ROUGE=0.0870 (B:0.05), TF-IDF=0.0672 (B:0.05), CosEmb=0.7189 (B:0.25), LSTM=0.6662 (B:0.65) -> Gabungan=0.6205 -> Scaled Akhir=0.7723\n",
            "  Skor Total Gabungan untuk Tugas 'InputFile_008': 77.23/100\n",
            "\n",
            "Mengevaluasi Tugas ID: InputFile_009\n",
            "  Soal (awal): Apa perbedaan utama antara novel dan cerpen?...\n",
            "    Info Scaling Menengah: Skor Gab. Awal=0.5694 > Thresh=0.55. Dinaikkan (Faktor: 0.20)\n",
            "    Detail Skor: ROUGE=0.2222 (B:0.05), TF-IDF=0.2044 (B:0.05), CosEmb=0.8300 (B:0.25), LSTM=0.5239 (B:0.65) -> Gabungan=0.5694 -> Scaled Akhir=0.6555\n",
            "  Skor Total Gabungan untuk Tugas 'InputFile_009': 65.55/100\n",
            "\n",
            "Mengevaluasi Tugas ID: InputFile_010\n",
            "  Soal (awal): Jelaskan secara singkat apa itu pemanasan global!...\n",
            "    Info Scaling Menengah: Skor Gab. Awal=0.6037 > Thresh=0.55. Dinaikkan (Faktor: 0.20)\n",
            "    Detail Skor: ROUGE=0.1176 (B:0.05), TF-IDF=0.2027 (B:0.05), CosEmb=0.6788 (B:0.25), LSTM=0.6431 (B:0.65) -> Gabungan=0.6037 -> Scaled Akhir=0.6830\n",
            "  Skor Total Gabungan untuk Tugas 'InputFile_010': 68.30/100\n",
            "\n",
            "\n",
            "===== HASIL PENILAIAN AKHIR (dari input_soal.txt) =====\n",
            "      id_soal                                                                                                                soal skor_total_persen\n",
            "InputFile_001                                                                Jelaskan secara detail proses siklus karbon di alam!             80.17\n",
            "InputFile_002 Apa saja komponen utama dalam sistem tata surya kita dan sebutkan urutan planet dari yang terdekat dengan Matahari?             66.17\n",
            "InputFile_003                                                 Deskripsikan tiga teori utama mengenai asal usul kehidupan di Bumi!             68.84\n",
            "InputFile_004                          Apa yang dimaksud dengan inflasi dalam konteks ekonomi dan sebutkan dua penyebab utamanya?             41.59\n",
            "InputFile_005                                                                          Jelaskan perbedaan antara cuaca dan iklim!             69.17\n",
            "InputFile_006                                                               Apa itu energi terbarukan dan berikan tiga contohnya?             79.02\n",
            "InputFile_007                                              Bagaimana cara kerja vaksin dalam meningkatkan sistem kekebalan tubuh?             69.40\n",
            "InputFile_008                           Sebutkan dampak positif dan negatif dari penggunaan internet dalam kehidupan sehari-hari!             77.23\n",
            "InputFile_009                                                                        Apa perbedaan utama antara novel dan cerpen?             65.55\n",
            "InputFile_010                                                                   Jelaskan secara singkat apa itu pemanasan global!             68.30\n",
            "\n",
            "--- Grup 5 Selesai ---\n"
          ]
        }
      ]
    }
  ]
}